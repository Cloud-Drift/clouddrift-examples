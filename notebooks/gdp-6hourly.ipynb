{
 "cells": [
  {
   "cell_type": "markdown",
   "id": "6426c30b-df03-46a9-8fb7-57ddf404683e",
   "metadata": {
    "tags": []
   },
   "source": [
    "# Working with the 6-hourly Global Drifter Program (GDP) data\n",
    "\n",
    "In this Notebook, we use the [6-hourly data](https://www.aoml.noaa.gov/phod/gdp/interpolated/data/all.php) from the [NOAA Global Drifter Program](https://www.aoml.noaa.gov/global-drifter-program/) to illustrate the steps necessary to process a Lagrangian dataset into a `RaggedArray` class object. This object can subsequently be converted to `xarray.Dataset` or `awkward.Array` instances for analysis. We also show how the *RaggedArray* object can also be written into files for archival."
   ]
  },
  {
   "cell_type": "markdown",
   "id": "8644aa22-84d4-487b-82f1-3061f7a2fe3e",
   "metadata": {},
   "source": [
    "## Import the `RaggedArray` class"
   ]
  },
  {
   "cell_type": "code",
   "execution_count": null,
   "id": "56683ec1-ff32-4e70-bcd8-8ee8d3c7408a",
   "metadata": {},
   "outputs": [],
   "source": [
    "from clouddrift import RaggedArray"
   ]
  },
  {
   "cell_type": "markdown",
   "id": "2aded949-7d07-47fd-b184-50574c2600ba",
   "metadata": {},
   "source": [
    "## Dataset-specific functions\n",
    "\n",
    "The `gdp6h.py` module contains a number of specific functions for the current GDP 6-hourly files, including:\n",
    "\n",
    "- `gdp6h.preprocess`: Preprocess and return an `xarray.Dataset` for a specific trajectory. \n",
    "- `gdp6h.download`: Download NetCDF files from the GDP FTP server.\n",
    "- `gdp6h.rowsize [Optional]`: Return the dimension of a specific trajectory to speed up the preprocessing.\n",
    "\n",
    "The `gdp6h` module is located in the `data/` directory located in the root of this repository, so we first need to add it to the search path:"
   ]
  },
  {
   "cell_type": "code",
   "execution_count": null,
   "id": "50aa29c2-5cfa-4ca7-ada3-7c3a6ec3b384",
   "metadata": {},
   "outputs": [],
   "source": [
    "import sys\n",
    "sys.path.append('../')\n",
    "from data import gdp6h"
   ]
  },
  {
   "cell_type": "markdown",
   "id": "c42a0c03-fcb3-4131-af3c-e6e7bea4e833",
   "metadata": {},
   "source": [
    "## Download the GDP data\n",
    "\n",
    "The `gdp6h.download` function will store the raw dataset into the `data/raw/gdp-6hourly/` folder (specified in the `gdp6h.py` module). By default `download()` will download the GPD dataset available on the [FTP/HTTPS repository](https://www.aoml.noaa.gov/ftp/pub/phod/lumpkin/netcdf/))."
   ]
  },
  {
   "cell_type": "code",
   "execution_count": null,
   "id": "ff938826-a6af-4e18-b8b1-39d236c92608",
   "metadata": {},
   "outputs": [],
   "source": [
    "help(gdp6h.download)"
   ]
  },
  {
   "cell_type": "markdown",
   "id": "ff7c8807",
   "metadata": {},
   "source": [
    "With this function, it is also possible to retrieve a subset from a `drifter_ids` list or specified an integer `n_random_id` to randomly retrieve `n` trajectory. If both arguments are given, the function downloads `n_random_id` out of the list `drifter_ids`. The function returns the list of `drifters_ids` that was downloaded, and can be passed to create the ragged array."
   ]
  },
  {
   "cell_type": "code",
   "execution_count": null,
   "id": "b162c91d-fc2a-4a86-9a0d-361e3af89b28",
   "metadata": {},
   "outputs": [],
   "source": [
    "drifter_ids = gdp6h.download(n_random_id=100)"
   ]
  },
  {
   "cell_type": "code",
   "execution_count": null,
   "id": "8b9dbf63-4292-4f5c-bb12-1c1ff5364a55",
   "metadata": {},
   "outputs": [],
   "source": [
    "drifter_ids[:5]"
   ]
  },
  {
   "cell_type": "markdown",
   "id": "e35f6f75-f7fb-4ba3-814f-46e3b8cc7d34",
   "metadata": {},
   "source": [
    "## Create the `RaggedArray` instance\n",
    "\n",
    "Once the data are downloaded, the *RaggedArray* object can be created and archived as a NetCDF file or a parquet file. In addition, the ragged array can be converted to an [xarray Dataset](https://docs.xarray.dev/en/stable/generated/xarray.Dataset.html) or an [Awkward Array](https://awkward-array.readthedocs.io/en/stable/_auto/ak.Array.html) in order to conduct analyses.\n",
    "\n",
    "Before we do that, we must first define the dataset-specific coordinates, data, and metadata information."
   ]
  },
  {
   "cell_type": "code",
   "execution_count": null,
   "id": "8f2b5640",
   "metadata": {},
   "outputs": [],
   "source": [
    "coords = {\n",
    "    'ids': 'ids',\n",
    "    'time': 'time',\n",
    "    'lon': 'longitude', # or alternatively lon360\n",
    "    'lat': 'latitude'\n",
    "}\n",
    "data = ['ve', 'vn', 'temp', 'err_lat', 'err_lon', 'err_temp', 'drogue_status']\n",
    "metadata = [\n",
    "    'ID',\n",
    "    'rowsize',\n",
    "    'WMO',\n",
    "    'expno',\n",
    "    'deploy_date',\n",
    "    'deploy_lat',\n",
    "    'deploy_lon',\n",
    "    'end_date',\n",
    "    'end_lat',\n",
    "    'end_lon',\n",
    "    'start_date',\n",
    "    'start_lat',\n",
    "    'start_lon',\n",
    "    'drogue_lost_date',\n",
    "    'typedeath',\n",
    "    'typebuoy',\n",
    "    'DeployingShip',\n",
    "    'DeploymentStatus',\n",
    "    'BuoyTypeManufacturer',\n",
    "    'BuoyTypeSensorArray',\n",
    "    'CurrentProgram',\n",
    "    'PurchaserFunding',\n",
    "    'SensorUpgrade',\n",
    "    'Transmissions',\n",
    "    'DeployingCountry',\n",
    "    'DeploymentComments',\n",
    "    'ManufactureYear',\n",
    "    'ManufactureMonth',\n",
    "    'ManufactureSensorType',\n",
    "    'ManufactureVoltage',\n",
    "    'FloatDiameter',\n",
    "    'SubsfcFloatPresence',\n",
    "    'DrogueType',\n",
    "    'DrogueLength',\n",
    "    'DrogueBallast',\n",
    "    'DragAreaAboveDrogue',\n",
    "    'DragAreaOfDrogue',\n",
    "    'DragAreaRatio',\n",
    "    'DrogueCenterDepth',\n",
    "    'DrogueDetectSensor'\n",
    "]"
   ]
  },
  {
   "cell_type": "markdown",
   "id": "fab9ed0c",
   "metadata": {},
   "source": [
    "Now we can pass this information together with the dataset-specific pre-processing function to process the GDP dataset from its own format into a `RaggedArray` instance:"
   ]
  },
  {
   "cell_type": "code",
   "execution_count": null,
   "id": "d2cae339",
   "metadata": {},
   "outputs": [],
   "source": [
    "ra = RaggedArray.from_files(\n",
    "    drifter_ids,\n",
    "    gdp6h.preprocess,\n",
    "    coords, \n",
    "    metadata,\n",
    "    data,\n",
    "    rowsize_func=gdp6h.rowsize\n",
    ")"
   ]
  },
  {
   "cell_type": "markdown",
   "id": "00705eef-eb9b-4cdd-958d-e9afb832e7f0",
   "metadata": {
    "tags": []
   },
   "source": [
    "## Export to data files\n",
    "\n",
    "Currently, exporting the `RaggedArray` instance to NetCDF and Apache Parquet file formats is supported.\n",
    "\n",
    "### NetCDF"
   ]
  },
  {
   "cell_type": "code",
   "execution_count": null,
   "id": "24e377c2-2fba-4378-8c77-4f6747fa51f3",
   "metadata": {},
   "outputs": [],
   "source": [
    "ra.to_netcdf('../data/process/gdp_6h.nc')"
   ]
  },
  {
   "cell_type": "markdown",
   "id": "8d3bedf9",
   "metadata": {},
   "source": [
    "### Apache Parquet"
   ]
  },
  {
   "cell_type": "code",
   "execution_count": null,
   "id": "5d1df311",
   "metadata": {},
   "outputs": [],
   "source": [
    "ra.to_parquet('../data/process/gdp_6h.parquet')"
   ]
  },
  {
   "cell_type": "markdown",
   "id": "cae94b4a-9be6-42b0-8271-0afd183b3057",
   "metadata": {},
   "source": [
    "## Import from data files\n",
    "\n",
    "As with exporting to files, we can import a `RaggedArray` instance from a NetCDF or Apache Parquet files. "
   ]
  },
  {
   "cell_type": "markdown",
   "id": "1f32b870",
   "metadata": {},
   "source": [
    "### NetCDF"
   ]
  },
  {
   "cell_type": "code",
   "execution_count": null,
   "id": "319e8317",
   "metadata": {},
   "outputs": [],
   "source": [
    "ra = RaggedArray.from_netcdf('../data/process/gdp_6h.nc')"
   ]
  },
  {
   "cell_type": "markdown",
   "id": "285992c9",
   "metadata": {},
   "source": [
    "### Apache Parquet"
   ]
  },
  {
   "cell_type": "code",
   "execution_count": null,
   "id": "b284ec72-2307-4022-9a69-801f09dc6dcf",
   "metadata": {},
   "outputs": [],
   "source": [
    "ra = RaggedArray.from_parquet('../data/process/gdp_6h.parquet')"
   ]
  },
  {
   "cell_type": "markdown",
   "id": "95816311-3e8a-4a83-b1ab-bcca807efe80",
   "metadata": {},
   "source": [
    "## Converting to data structures for analysis\n",
    "\n",
    "Typically, you would not do your data analysis directly on a `RaggedArray` instance.\n",
    "Instead, you first convert it to a data structure that is geared for data analysis and exploratory science.\n",
    "Currently, the library supports Xarray Dataset and Awkward Array structures."
   ]
  },
  {
   "cell_type": "markdown",
   "id": "6c410201",
   "metadata": {},
   "source": [
    "### Xarray Dataset"
   ]
  },
  {
   "cell_type": "code",
   "execution_count": null,
   "id": "536ac3ee",
   "metadata": {},
   "outputs": [],
   "source": [
    "ds = ra.to_xarray()"
   ]
  },
  {
   "cell_type": "markdown",
   "id": "dc3e934d",
   "metadata": {},
   "source": [
    "Now we have our GDP dataset as an Xarray Dataset while also being optimized for memory.\n",
    "Let's see what's inside:"
   ]
  },
  {
   "cell_type": "code",
   "execution_count": null,
   "id": "5bcaaa24",
   "metadata": {},
   "outputs": [],
   "source": [
    "ds"
   ]
  },
  {
   "cell_type": "markdown",
   "id": "fa6ec5f5",
   "metadata": {},
   "source": [
    "\n",
    "Time, longitude, and latitude arrays are 1-dimensional and are effectively a concatenated list of drifter trajectories. The `ids` array can be used to mask (subset) a specific drifter. Let's make a quick trajectory map by looping over all the trajectories and plotting them one by one."
   ]
  },
  {
   "cell_type": "code",
   "execution_count": null,
   "id": "7028c9e2",
   "metadata": {},
   "outputs": [],
   "source": [
    "import matplotlib.pyplot as plt"
   ]
  },
  {
   "cell_type": "code",
   "execution_count": null,
   "id": "3094b7e7",
   "metadata": {},
   "outputs": [],
   "source": [
    "for drifter_id in drifter_ids:\n",
    "    this_drifter = ds.ids == drifter_id\n",
    "    plt.plot(ds.lon[this_drifter], ds.lat[this_drifter], linestyle='', marker='.', ms=0.1)\n",
    "plt.xlabel('Longitude')\n",
    "plt.ylabel('Latitude')\n",
    "plt.title('100 random trajectories from the 6-hourly GDP dataset')"
   ]
  },
  {
   "cell_type": "markdown",
   "id": "13e5e12d-33c4-4aae-bd57-03e1e3159c7e",
   "metadata": {},
   "source": [
    "You may find that the method above is relatively slow to plot for a large number of trajectories. Alternatively, we can construct an index variable that indexes the beginning of each trajectory in the ragged arrays (with index `0` for the first trajectory). We first need to import the `numpy` package to conduct some mathematical operations to calculate that index variable."
   ]
  },
  {
   "cell_type": "code",
   "execution_count": null,
   "id": "303a0510-a25e-41fb-bf79-bd8dbb2e1b1d",
   "metadata": {},
   "outputs": [],
   "source": [
    "import numpy as np"
   ]
  },
  {
   "cell_type": "code",
   "execution_count": null,
   "id": "c32469bd-c720-40e8-8cb9-8441d92bbd72",
   "metadata": {},
   "outputs": [],
   "source": [
    "traj_idx = np.insert(np.cumsum(ds.rowsize.values),0,0)"
   ]
  },
  {
   "cell_type": "code",
   "execution_count": null,
   "id": "5a5514e5-fe60-45e0-8a6b-72042234cd2b",
   "metadata": {},
   "outputs": [],
   "source": [
    "for j in range(len(drifter_ids)):\n",
    "    plt.plot(ds.lon[slice(traj_idx[j],traj_idx[j+1])], ds.lat[slice(traj_idx[j],traj_idx[j+1])], linestyle='', marker='.', ms=0.1)    \n",
    "plt.xlabel('Longitude')\n",
    "plt.ylabel('Latitude')\n",
    "plt.title('100 random trajectories from the 6-hourly GDP dataset')"
   ]
  },
  {
   "cell_type": "markdown",
   "id": "0b6c9754-00d5-4e8f-8291-c1baa1ac656f",
   "metadata": {},
   "source": [
    "### Awkward Array"
   ]
  },
  {
   "cell_type": "code",
   "execution_count": null,
   "id": "7334d731-4bfd-4e29-9196-bd68953df007",
   "metadata": {},
   "outputs": [],
   "source": [
    "ds = ra.to_awkward()"
   ]
  },
  {
   "cell_type": "markdown",
   "id": "2228d0e6",
   "metadata": {},
   "source": [
    "With an awkward array, there is no need to define an index variable as for an xarray Dataset:"
   ]
  },
  {
   "cell_type": "code",
   "execution_count": null,
   "id": "ec39b10e",
   "metadata": {},
   "outputs": [],
   "source": [
    "for n in range(len(drifter_ids)):\n",
    "    plt.plot(ds.obs['lon'][n], ds.obs['lat'][n], linestyle='', marker='.', ms=0.1)\n",
    "plt.xlabel('Longitude')\n",
    "plt.ylabel('Latitude')\n",
    "plt.title('100 random trajectories from a GDP dataset')"
   ]
  }
 ],
 "metadata": {
  "kernelspec": {
   "display_name": "Python 3 (ipykernel)",
   "language": "python",
   "name": "python3"
  },
  "language_info": {
   "codemirror_mode": {
    "name": "ipython",
    "version": 3
   },
   "file_extension": ".py",
   "mimetype": "text/x-python",
   "name": "python",
   "nbconvert_exporter": "python",
   "pygments_lexer": "ipython3",
   "version": "3.10.8"
  },
  "vscode": {
   "interpreter": {
    "hash": "c8219db691b2537e45caaf1791733b36f16a2dd5d451b476d1c1fa0b935d316a"
   }
  }
 },
 "nbformat": 4,
 "nbformat_minor": 5
}
