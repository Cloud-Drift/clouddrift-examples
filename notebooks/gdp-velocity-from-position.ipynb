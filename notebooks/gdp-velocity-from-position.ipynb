{
 "cells": [
  {
   "attachments": {},
   "cell_type": "markdown",
   "metadata": {},
   "source": [
    "### A Notebook to showcase release 0.12.0: use of `segment`, `apply_ragged`, `chunk`, and `velocity_from_position` functions\n",
    "\n",
    "1. Example of segment to calculate velocity\n",
    "2. Example of chunks to calculate the Latitude-Frequency spectra (Elipot spectra)"
   ]
  },
  {
   "cell_type": "code",
   "execution_count": 9,
   "metadata": {},
   "outputs": [],
   "source": [
    "import clouddrift as cd\n",
    "import xarray as xr\n",
    "import numpy as np\n",
    "import matplotlib.pyplot as plt\n",
    "#from fast_histogram import histogram1d  "
   ]
  },
  {
   "cell_type": "code",
   "execution_count": 10,
   "metadata": {},
   "outputs": [],
   "source": [
    "from clouddrift.analysis import segment,chunk, velocity_from_position"
   ]
  },
  {
   "cell_type": "code",
   "execution_count": 11,
   "metadata": {},
   "outputs": [],
   "source": [
    "#url_path = 'https://noaa-oar-hourly-gdp-pds.s3.amazonaws.com/latest/'\n",
    "#url_path = 'https://noaa-oar-hourly-gdp-pds.s3.us-east-1.amazonaws.com/latest/'\n",
    "#file = 'gdp_v2.00.nc'\n",
    "#ds = xr.open_dataset(url_path+file+'#mode=bytes')\n",
    "file = '/Users/selipot/Data/awss3/latest/gdp_v2.00.nc'\n",
    "ds = xr.open_dataset(file)"
   ]
  },
  {
   "cell_type": "code",
   "execution_count": 12,
   "metadata": {},
   "outputs": [
    {
     "data": {
      "text/html": [
       "<div><svg style=\"position: absolute; width: 0; height: 0; overflow: hidden\">\n",
       "<defs>\n",
       "<symbol id=\"icon-database\" viewBox=\"0 0 32 32\">\n",
       "<path d=\"M16 0c-8.837 0-16 2.239-16 5v4c0 2.761 7.163 5 16 5s16-2.239 16-5v-4c0-2.761-7.163-5-16-5z\"></path>\n",
       "<path d=\"M16 17c-8.837 0-16-2.239-16-5v6c0 2.761 7.163 5 16 5s16-2.239 16-5v-6c0 2.761-7.163 5-16 5z\"></path>\n",
       "<path d=\"M16 26c-8.837 0-16-2.239-16-5v6c0 2.761 7.163 5 16 5s16-2.239 16-5v-6c0 2.761-7.163 5-16 5z\"></path>\n",
       "</symbol>\n",
       "<symbol id=\"icon-file-text2\" viewBox=\"0 0 32 32\">\n",
       "<path d=\"M28.681 7.159c-0.694-0.947-1.662-2.053-2.724-3.116s-2.169-2.030-3.116-2.724c-1.612-1.182-2.393-1.319-2.841-1.319h-15.5c-1.378 0-2.5 1.121-2.5 2.5v27c0 1.378 1.122 2.5 2.5 2.5h23c1.378 0 2.5-1.122 2.5-2.5v-19.5c0-0.448-0.137-1.23-1.319-2.841zM24.543 5.457c0.959 0.959 1.712 1.825 2.268 2.543h-4.811v-4.811c0.718 0.556 1.584 1.309 2.543 2.268zM28 29.5c0 0.271-0.229 0.5-0.5 0.5h-23c-0.271 0-0.5-0.229-0.5-0.5v-27c0-0.271 0.229-0.5 0.5-0.5 0 0 15.499-0 15.5 0v7c0 0.552 0.448 1 1 1h7v19.5z\"></path>\n",
       "<path d=\"M23 26h-14c-0.552 0-1-0.448-1-1s0.448-1 1-1h14c0.552 0 1 0.448 1 1s-0.448 1-1 1z\"></path>\n",
       "<path d=\"M23 22h-14c-0.552 0-1-0.448-1-1s0.448-1 1-1h14c0.552 0 1 0.448 1 1s-0.448 1-1 1z\"></path>\n",
       "<path d=\"M23 18h-14c-0.552 0-1-0.448-1-1s0.448-1 1-1h14c0.552 0 1 0.448 1 1s-0.448 1-1 1z\"></path>\n",
       "</symbol>\n",
       "</defs>\n",
       "</svg>\n",
       "<style>/* CSS stylesheet for displaying xarray objects in jupyterlab.\n",
       " *\n",
       " */\n",
       "\n",
       ":root {\n",
       "  --xr-font-color0: var(--jp-content-font-color0, rgba(0, 0, 0, 1));\n",
       "  --xr-font-color2: var(--jp-content-font-color2, rgba(0, 0, 0, 0.54));\n",
       "  --xr-font-color3: var(--jp-content-font-color3, rgba(0, 0, 0, 0.38));\n",
       "  --xr-border-color: var(--jp-border-color2, #e0e0e0);\n",
       "  --xr-disabled-color: var(--jp-layout-color3, #bdbdbd);\n",
       "  --xr-background-color: var(--jp-layout-color0, white);\n",
       "  --xr-background-color-row-even: var(--jp-layout-color1, white);\n",
       "  --xr-background-color-row-odd: var(--jp-layout-color2, #eeeeee);\n",
       "}\n",
       "\n",
       "html[theme=dark],\n",
       "body[data-theme=dark],\n",
       "body.vscode-dark {\n",
       "  --xr-font-color0: rgba(255, 255, 255, 1);\n",
       "  --xr-font-color2: rgba(255, 255, 255, 0.54);\n",
       "  --xr-font-color3: rgba(255, 255, 255, 0.38);\n",
       "  --xr-border-color: #1F1F1F;\n",
       "  --xr-disabled-color: #515151;\n",
       "  --xr-background-color: #111111;\n",
       "  --xr-background-color-row-even: #111111;\n",
       "  --xr-background-color-row-odd: #313131;\n",
       "}\n",
       "\n",
       ".xr-wrap {\n",
       "  display: block !important;\n",
       "  min-width: 300px;\n",
       "  max-width: 700px;\n",
       "}\n",
       "\n",
       ".xr-text-repr-fallback {\n",
       "  /* fallback to plain text repr when CSS is not injected (untrusted notebook) */\n",
       "  display: none;\n",
       "}\n",
       "\n",
       ".xr-header {\n",
       "  padding-top: 6px;\n",
       "  padding-bottom: 6px;\n",
       "  margin-bottom: 4px;\n",
       "  border-bottom: solid 1px var(--xr-border-color);\n",
       "}\n",
       "\n",
       ".xr-header > div,\n",
       ".xr-header > ul {\n",
       "  display: inline;\n",
       "  margin-top: 0;\n",
       "  margin-bottom: 0;\n",
       "}\n",
       "\n",
       ".xr-obj-type,\n",
       ".xr-array-name {\n",
       "  margin-left: 2px;\n",
       "  margin-right: 10px;\n",
       "}\n",
       "\n",
       ".xr-obj-type {\n",
       "  color: var(--xr-font-color2);\n",
       "}\n",
       "\n",
       ".xr-sections {\n",
       "  padding-left: 0 !important;\n",
       "  display: grid;\n",
       "  grid-template-columns: 150px auto auto 1fr 20px 20px;\n",
       "}\n",
       "\n",
       ".xr-section-item {\n",
       "  display: contents;\n",
       "}\n",
       "\n",
       ".xr-section-item input {\n",
       "  display: none;\n",
       "}\n",
       "\n",
       ".xr-section-item input + label {\n",
       "  color: var(--xr-disabled-color);\n",
       "}\n",
       "\n",
       ".xr-section-item input:enabled + label {\n",
       "  cursor: pointer;\n",
       "  color: var(--xr-font-color2);\n",
       "}\n",
       "\n",
       ".xr-section-item input:enabled + label:hover {\n",
       "  color: var(--xr-font-color0);\n",
       "}\n",
       "\n",
       ".xr-section-summary {\n",
       "  grid-column: 1;\n",
       "  color: var(--xr-font-color2);\n",
       "  font-weight: 500;\n",
       "}\n",
       "\n",
       ".xr-section-summary > span {\n",
       "  display: inline-block;\n",
       "  padding-left: 0.5em;\n",
       "}\n",
       "\n",
       ".xr-section-summary-in:disabled + label {\n",
       "  color: var(--xr-font-color2);\n",
       "}\n",
       "\n",
       ".xr-section-summary-in + label:before {\n",
       "  display: inline-block;\n",
       "  content: '►';\n",
       "  font-size: 11px;\n",
       "  width: 15px;\n",
       "  text-align: center;\n",
       "}\n",
       "\n",
       ".xr-section-summary-in:disabled + label:before {\n",
       "  color: var(--xr-disabled-color);\n",
       "}\n",
       "\n",
       ".xr-section-summary-in:checked + label:before {\n",
       "  content: '▼';\n",
       "}\n",
       "\n",
       ".xr-section-summary-in:checked + label > span {\n",
       "  display: none;\n",
       "}\n",
       "\n",
       ".xr-section-summary,\n",
       ".xr-section-inline-details {\n",
       "  padding-top: 4px;\n",
       "  padding-bottom: 4px;\n",
       "}\n",
       "\n",
       ".xr-section-inline-details {\n",
       "  grid-column: 2 / -1;\n",
       "}\n",
       "\n",
       ".xr-section-details {\n",
       "  display: none;\n",
       "  grid-column: 1 / -1;\n",
       "  margin-bottom: 5px;\n",
       "}\n",
       "\n",
       ".xr-section-summary-in:checked ~ .xr-section-details {\n",
       "  display: contents;\n",
       "}\n",
       "\n",
       ".xr-array-wrap {\n",
       "  grid-column: 1 / -1;\n",
       "  display: grid;\n",
       "  grid-template-columns: 20px auto;\n",
       "}\n",
       "\n",
       ".xr-array-wrap > label {\n",
       "  grid-column: 1;\n",
       "  vertical-align: top;\n",
       "}\n",
       "\n",
       ".xr-preview {\n",
       "  color: var(--xr-font-color3);\n",
       "}\n",
       "\n",
       ".xr-array-preview,\n",
       ".xr-array-data {\n",
       "  padding: 0 5px !important;\n",
       "  grid-column: 2;\n",
       "}\n",
       "\n",
       ".xr-array-data,\n",
       ".xr-array-in:checked ~ .xr-array-preview {\n",
       "  display: none;\n",
       "}\n",
       "\n",
       ".xr-array-in:checked ~ .xr-array-data,\n",
       ".xr-array-preview {\n",
       "  display: inline-block;\n",
       "}\n",
       "\n",
       ".xr-dim-list {\n",
       "  display: inline-block !important;\n",
       "  list-style: none;\n",
       "  padding: 0 !important;\n",
       "  margin: 0;\n",
       "}\n",
       "\n",
       ".xr-dim-list li {\n",
       "  display: inline-block;\n",
       "  padding: 0;\n",
       "  margin: 0;\n",
       "}\n",
       "\n",
       ".xr-dim-list:before {\n",
       "  content: '(';\n",
       "}\n",
       "\n",
       ".xr-dim-list:after {\n",
       "  content: ')';\n",
       "}\n",
       "\n",
       ".xr-dim-list li:not(:last-child):after {\n",
       "  content: ',';\n",
       "  padding-right: 5px;\n",
       "}\n",
       "\n",
       ".xr-has-index {\n",
       "  font-weight: bold;\n",
       "}\n",
       "\n",
       ".xr-var-list,\n",
       ".xr-var-item {\n",
       "  display: contents;\n",
       "}\n",
       "\n",
       ".xr-var-item > div,\n",
       ".xr-var-item label,\n",
       ".xr-var-item > .xr-var-name span {\n",
       "  background-color: var(--xr-background-color-row-even);\n",
       "  margin-bottom: 0;\n",
       "}\n",
       "\n",
       ".xr-var-item > .xr-var-name:hover span {\n",
       "  padding-right: 5px;\n",
       "}\n",
       "\n",
       ".xr-var-list > li:nth-child(odd) > div,\n",
       ".xr-var-list > li:nth-child(odd) > label,\n",
       ".xr-var-list > li:nth-child(odd) > .xr-var-name span {\n",
       "  background-color: var(--xr-background-color-row-odd);\n",
       "}\n",
       "\n",
       ".xr-var-name {\n",
       "  grid-column: 1;\n",
       "}\n",
       "\n",
       ".xr-var-dims {\n",
       "  grid-column: 2;\n",
       "}\n",
       "\n",
       ".xr-var-dtype {\n",
       "  grid-column: 3;\n",
       "  text-align: right;\n",
       "  color: var(--xr-font-color2);\n",
       "}\n",
       "\n",
       ".xr-var-preview {\n",
       "  grid-column: 4;\n",
       "}\n",
       "\n",
       ".xr-index-preview {\n",
       "  grid-column: 2 / 5;\n",
       "  color: var(--xr-font-color2);\n",
       "}\n",
       "\n",
       ".xr-var-name,\n",
       ".xr-var-dims,\n",
       ".xr-var-dtype,\n",
       ".xr-preview,\n",
       ".xr-attrs dt {\n",
       "  white-space: nowrap;\n",
       "  overflow: hidden;\n",
       "  text-overflow: ellipsis;\n",
       "  padding-right: 10px;\n",
       "}\n",
       "\n",
       ".xr-var-name:hover,\n",
       ".xr-var-dims:hover,\n",
       ".xr-var-dtype:hover,\n",
       ".xr-attrs dt:hover {\n",
       "  overflow: visible;\n",
       "  width: auto;\n",
       "  z-index: 1;\n",
       "}\n",
       "\n",
       ".xr-var-attrs,\n",
       ".xr-var-data,\n",
       ".xr-index-data {\n",
       "  display: none;\n",
       "  background-color: var(--xr-background-color) !important;\n",
       "  padding-bottom: 5px !important;\n",
       "}\n",
       "\n",
       ".xr-var-attrs-in:checked ~ .xr-var-attrs,\n",
       ".xr-var-data-in:checked ~ .xr-var-data,\n",
       ".xr-index-data-in:checked ~ .xr-index-data {\n",
       "  display: block;\n",
       "}\n",
       "\n",
       ".xr-var-data > table {\n",
       "  float: right;\n",
       "}\n",
       "\n",
       ".xr-var-name span,\n",
       ".xr-var-data,\n",
       ".xr-index-name div,\n",
       ".xr-index-data,\n",
       ".xr-attrs {\n",
       "  padding-left: 25px !important;\n",
       "}\n",
       "\n",
       ".xr-attrs,\n",
       ".xr-var-attrs,\n",
       ".xr-var-data,\n",
       ".xr-index-data {\n",
       "  grid-column: 1 / -1;\n",
       "}\n",
       "\n",
       "dl.xr-attrs {\n",
       "  padding: 0;\n",
       "  margin: 0;\n",
       "  display: grid;\n",
       "  grid-template-columns: 125px auto;\n",
       "}\n",
       "\n",
       ".xr-attrs dt,\n",
       ".xr-attrs dd {\n",
       "  padding: 0;\n",
       "  margin: 0;\n",
       "  float: left;\n",
       "  padding-right: 10px;\n",
       "  width: auto;\n",
       "}\n",
       "\n",
       ".xr-attrs dt {\n",
       "  font-weight: normal;\n",
       "  grid-column: 1;\n",
       "}\n",
       "\n",
       ".xr-attrs dt:hover span {\n",
       "  display: inline-block;\n",
       "  background: var(--xr-background-color);\n",
       "  padding-right: 10px;\n",
       "}\n",
       "\n",
       ".xr-attrs dd {\n",
       "  grid-column: 2;\n",
       "  white-space: pre-wrap;\n",
       "  word-break: break-all;\n",
       "}\n",
       "\n",
       ".xr-icon-database,\n",
       ".xr-icon-file-text2,\n",
       ".xr-no-icon {\n",
       "  display: inline-block;\n",
       "  vertical-align: middle;\n",
       "  width: 1em;\n",
       "  height: 1.5em !important;\n",
       "  stroke-width: 0;\n",
       "  stroke: currentColor;\n",
       "  fill: currentColor;\n",
       "}\n",
       "</style><pre class='xr-text-repr-fallback'>&lt;xarray.Dataset&gt;\n",
       "Dimensions:                (traj: 17324, obs: 165754333)\n",
       "Coordinates:\n",
       "    ids                    (obs) int64 ...\n",
       "    time                   (obs) datetime64[ns] ...\n",
       "    lon                    (obs) float32 ...\n",
       "    lat                    (obs) float32 ...\n",
       "Dimensions without coordinates: traj, obs\n",
       "Data variables: (12/55)\n",
       "    ID                     (traj) int64 ...\n",
       "    rowsize                (traj) int32 ...\n",
       "    WMO                    (traj) int32 ...\n",
       "    expno                  (traj) int32 ...\n",
       "    deploy_date            (traj) datetime64[ns] ...\n",
       "    deploy_lat             (traj) float64 ...\n",
       "    ...                     ...\n",
       "    err_sst1               (obs) float64 ...\n",
       "    err_sst2               (obs) float64 ...\n",
       "    flg_sst                (obs) int8 ...\n",
       "    flg_sst1               (obs) int8 ...\n",
       "    flg_sst2               (obs) int8 ...\n",
       "    drogue_status          (obs) bool ...\n",
       "Attributes: (12/16)\n",
       "    title:             Global Drifter Program hourly drifting buoy collection\n",
       "    history:           Version 2.00.  Metadata from dirall.dat and deplog.dat\n",
       "    Conventions:       CF-1.6\n",
       "    date_created:      2022-12-09T06:02:29.684949\n",
       "    publisher_name:    GDP Drifter DAC\n",
       "    publisher_email:   aoml.dftr@noaa.gov\n",
       "    ...                ...\n",
       "    contributor_name:  NOAA Global Drifter Program\n",
       "    contributor_role:  Data Acquisition Center\n",
       "    institution:       NOAA Atlantic Oceanographic and Meteorological Laboratory\n",
       "    acknowledgement:   Elipot, Shane; Sykulski, Adam; Lumpkin, Rick; Centurio...\n",
       "    summary:           Global Drifter Program hourly data\n",
       "    doi:               10.25921/x46c-3620</pre><div class='xr-wrap' style='display:none'><div class='xr-header'><div class='xr-obj-type'>xarray.Dataset</div></div><ul class='xr-sections'><li class='xr-section-item'><input id='section-0686be43-2721-4cb6-8a93-ae3ac0bd19fc' class='xr-section-summary-in' type='checkbox' disabled ><label for='section-0686be43-2721-4cb6-8a93-ae3ac0bd19fc' class='xr-section-summary'  title='Expand/collapse section'>Dimensions:</label><div class='xr-section-inline-details'><ul class='xr-dim-list'><li><span>traj</span>: 17324</li><li><span>obs</span>: 165754333</li></ul></div><div class='xr-section-details'></div></li><li class='xr-section-item'><input id='section-6d865942-2ec7-44c3-adc4-4b14489f09e6' class='xr-section-summary-in' type='checkbox'  checked><label for='section-6d865942-2ec7-44c3-adc4-4b14489f09e6' class='xr-section-summary' >Coordinates: <span>(4)</span></label><div class='xr-section-inline-details'></div><div class='xr-section-details'><ul class='xr-var-list'><li class='xr-var-item'><div class='xr-var-name'><span>ids</span></div><div class='xr-var-dims'>(obs)</div><div class='xr-var-dtype'>int64</div><div class='xr-var-preview xr-preview'>...</div><input id='attrs-d2ca2de9-524f-472c-b049-4fbe711b4e37' class='xr-var-attrs-in' type='checkbox' ><label for='attrs-d2ca2de9-524f-472c-b049-4fbe711b4e37' title='Show/Hide attributes'><svg class='icon xr-icon-file-text2'><use xlink:href='#icon-file-text2'></use></svg></label><input id='data-38e07c01-bee3-44ce-94f0-248e1bc39f64' class='xr-var-data-in' type='checkbox'><label for='data-38e07c01-bee3-44ce-94f0-248e1bc39f64' title='Show/Hide data repr'><svg class='icon xr-icon-database'><use xlink:href='#icon-database'></use></svg></label><div class='xr-var-attrs'><dl class='xr-attrs'><dt><span>long_name :</span></dt><dd>Global Drifter Program Buoy ID repeated along observations</dd><dt><span>units :</span></dt><dd>-</dd></dl></div><div class='xr-var-data'><pre>[165754333 values with dtype=int64]</pre></div></li><li class='xr-var-item'><div class='xr-var-name'><span>time</span></div><div class='xr-var-dims'>(obs)</div><div class='xr-var-dtype'>datetime64[ns]</div><div class='xr-var-preview xr-preview'>...</div><input id='attrs-2db7ff4b-319a-4d7b-a178-7bf67ab71d5f' class='xr-var-attrs-in' type='checkbox' ><label for='attrs-2db7ff4b-319a-4d7b-a178-7bf67ab71d5f' title='Show/Hide attributes'><svg class='icon xr-icon-file-text2'><use xlink:href='#icon-file-text2'></use></svg></label><input id='data-eb7391eb-d3c7-4a5a-b538-022e45d0eb02' class='xr-var-data-in' type='checkbox'><label for='data-eb7391eb-d3c7-4a5a-b538-022e45d0eb02' title='Show/Hide data repr'><svg class='icon xr-icon-database'><use xlink:href='#icon-database'></use></svg></label><div class='xr-var-attrs'><dl class='xr-attrs'><dt><span>long_name :</span></dt><dd>Time</dd></dl></div><div class='xr-var-data'><pre>[165754333 values with dtype=datetime64[ns]]</pre></div></li><li class='xr-var-item'><div class='xr-var-name'><span>lon</span></div><div class='xr-var-dims'>(obs)</div><div class='xr-var-dtype'>float32</div><div class='xr-var-preview xr-preview'>...</div><input id='attrs-128fe119-7844-41fc-bfc5-f74639fa3735' class='xr-var-attrs-in' type='checkbox' ><label for='attrs-128fe119-7844-41fc-bfc5-f74639fa3735' title='Show/Hide attributes'><svg class='icon xr-icon-file-text2'><use xlink:href='#icon-file-text2'></use></svg></label><input id='data-2bb9ca68-8f46-4417-93dd-5d7ce9dc10c1' class='xr-var-data-in' type='checkbox'><label for='data-2bb9ca68-8f46-4417-93dd-5d7ce9dc10c1' title='Show/Hide data repr'><svg class='icon xr-icon-database'><use xlink:href='#icon-database'></use></svg></label><div class='xr-var-attrs'><dl class='xr-attrs'><dt><span>long_name :</span></dt><dd>Longitude</dd><dt><span>units :</span></dt><dd>degrees_east</dd></dl></div><div class='xr-var-data'><pre>[165754333 values with dtype=float32]</pre></div></li><li class='xr-var-item'><div class='xr-var-name'><span>lat</span></div><div class='xr-var-dims'>(obs)</div><div class='xr-var-dtype'>float32</div><div class='xr-var-preview xr-preview'>...</div><input id='attrs-cf87d2f2-d42c-42f4-a29a-898d168e63e2' class='xr-var-attrs-in' type='checkbox' ><label for='attrs-cf87d2f2-d42c-42f4-a29a-898d168e63e2' title='Show/Hide attributes'><svg class='icon xr-icon-file-text2'><use xlink:href='#icon-file-text2'></use></svg></label><input id='data-fe61e2ab-da8f-4be2-8634-c8a47de7cefc' class='xr-var-data-in' type='checkbox'><label for='data-fe61e2ab-da8f-4be2-8634-c8a47de7cefc' title='Show/Hide data repr'><svg class='icon xr-icon-database'><use xlink:href='#icon-database'></use></svg></label><div class='xr-var-attrs'><dl class='xr-attrs'><dt><span>long_name :</span></dt><dd>Latitude</dd><dt><span>units :</span></dt><dd>degrees_north</dd></dl></div><div class='xr-var-data'><pre>[165754333 values with dtype=float32]</pre></div></li></ul></div></li><li class='xr-section-item'><input id='section-6ca1fb37-54c1-4644-8e97-285179fa0b64' class='xr-section-summary-in' type='checkbox'  ><label for='section-6ca1fb37-54c1-4644-8e97-285179fa0b64' class='xr-section-summary' >Data variables: <span>(55)</span></label><div class='xr-section-inline-details'></div><div class='xr-section-details'><ul class='xr-var-list'><li class='xr-var-item'><div class='xr-var-name'><span>ID</span></div><div class='xr-var-dims'>(traj)</div><div class='xr-var-dtype'>int64</div><div class='xr-var-preview xr-preview'>...</div><input id='attrs-68e87ea5-01aa-452a-be24-c7decb91d8a0' class='xr-var-attrs-in' type='checkbox' ><label for='attrs-68e87ea5-01aa-452a-be24-c7decb91d8a0' title='Show/Hide attributes'><svg class='icon xr-icon-file-text2'><use xlink:href='#icon-file-text2'></use></svg></label><input id='data-4adcc3a8-7fcc-4b29-a494-f5258a4d1685' class='xr-var-data-in' type='checkbox'><label for='data-4adcc3a8-7fcc-4b29-a494-f5258a4d1685' title='Show/Hide data repr'><svg class='icon xr-icon-database'><use xlink:href='#icon-database'></use></svg></label><div class='xr-var-attrs'><dl class='xr-attrs'><dt><span>long_name :</span></dt><dd>Global Drifter Program Buoy ID</dd><dt><span>units :</span></dt><dd>-</dd></dl></div><div class='xr-var-data'><pre>[17324 values with dtype=int64]</pre></div></li><li class='xr-var-item'><div class='xr-var-name'><span>rowsize</span></div><div class='xr-var-dims'>(traj)</div><div class='xr-var-dtype'>int32</div><div class='xr-var-preview xr-preview'>...</div><input id='attrs-78319e8c-ab93-4937-a42f-e0821fcfa335' class='xr-var-attrs-in' type='checkbox' ><label for='attrs-78319e8c-ab93-4937-a42f-e0821fcfa335' title='Show/Hide attributes'><svg class='icon xr-icon-file-text2'><use xlink:href='#icon-file-text2'></use></svg></label><input id='data-26b0c9fc-0308-41f5-9eb0-23d04267414e' class='xr-var-data-in' type='checkbox'><label for='data-26b0c9fc-0308-41f5-9eb0-23d04267414e' title='Show/Hide data repr'><svg class='icon xr-icon-database'><use xlink:href='#icon-database'></use></svg></label><div class='xr-var-attrs'><dl class='xr-attrs'><dt><span>long_name :</span></dt><dd>Number of observations per trajectory</dd><dt><span>sample_dimension :</span></dt><dd>obs</dd><dt><span>units :</span></dt><dd>-</dd></dl></div><div class='xr-var-data'><pre>[17324 values with dtype=int32]</pre></div></li><li class='xr-var-item'><div class='xr-var-name'><span>WMO</span></div><div class='xr-var-dims'>(traj)</div><div class='xr-var-dtype'>int32</div><div class='xr-var-preview xr-preview'>...</div><input id='attrs-6a38902e-fe77-4d4d-9b94-2591ea3cb2ad' class='xr-var-attrs-in' type='checkbox' ><label for='attrs-6a38902e-fe77-4d4d-9b94-2591ea3cb2ad' title='Show/Hide attributes'><svg class='icon xr-icon-file-text2'><use xlink:href='#icon-file-text2'></use></svg></label><input id='data-9b1c07ef-1988-48a9-9dd0-d9b7eb44fe54' class='xr-var-data-in' type='checkbox'><label for='data-9b1c07ef-1988-48a9-9dd0-d9b7eb44fe54' title='Show/Hide data repr'><svg class='icon xr-icon-database'><use xlink:href='#icon-database'></use></svg></label><div class='xr-var-attrs'><dl class='xr-attrs'><dt><span>long_name :</span></dt><dd>World Meteorological Organization buoy identification number</dd><dt><span>units :</span></dt><dd>-</dd></dl></div><div class='xr-var-data'><pre>[17324 values with dtype=int32]</pre></div></li><li class='xr-var-item'><div class='xr-var-name'><span>expno</span></div><div class='xr-var-dims'>(traj)</div><div class='xr-var-dtype'>int32</div><div class='xr-var-preview xr-preview'>...</div><input id='attrs-d74533cd-440f-408c-9f20-53b9b6791cff' class='xr-var-attrs-in' type='checkbox' ><label for='attrs-d74533cd-440f-408c-9f20-53b9b6791cff' title='Show/Hide attributes'><svg class='icon xr-icon-file-text2'><use xlink:href='#icon-file-text2'></use></svg></label><input id='data-3d97a272-ecaf-4bc4-88f2-989605bcf5d5' class='xr-var-data-in' type='checkbox'><label for='data-3d97a272-ecaf-4bc4-88f2-989605bcf5d5' title='Show/Hide data repr'><svg class='icon xr-icon-database'><use xlink:href='#icon-database'></use></svg></label><div class='xr-var-attrs'><dl class='xr-attrs'><dt><span>long_name :</span></dt><dd>Experiment number</dd><dt><span>units :</span></dt><dd>-</dd></dl></div><div class='xr-var-data'><pre>[17324 values with dtype=int32]</pre></div></li><li class='xr-var-item'><div class='xr-var-name'><span>deploy_date</span></div><div class='xr-var-dims'>(traj)</div><div class='xr-var-dtype'>datetime64[ns]</div><div class='xr-var-preview xr-preview'>...</div><input id='attrs-62d354d1-7c75-48dc-b04d-2654a5452c90' class='xr-var-attrs-in' type='checkbox' ><label for='attrs-62d354d1-7c75-48dc-b04d-2654a5452c90' title='Show/Hide attributes'><svg class='icon xr-icon-file-text2'><use xlink:href='#icon-file-text2'></use></svg></label><input id='data-bdd6b93f-006e-4c90-a533-e25a4bce4c2f' class='xr-var-data-in' type='checkbox'><label for='data-bdd6b93f-006e-4c90-a533-e25a4bce4c2f' title='Show/Hide data repr'><svg class='icon xr-icon-database'><use xlink:href='#icon-database'></use></svg></label><div class='xr-var-attrs'><dl class='xr-attrs'><dt><span>long_name :</span></dt><dd>Deployment date and time</dd></dl></div><div class='xr-var-data'><pre>[17324 values with dtype=datetime64[ns]]</pre></div></li><li class='xr-var-item'><div class='xr-var-name'><span>deploy_lat</span></div><div class='xr-var-dims'>(traj)</div><div class='xr-var-dtype'>float64</div><div class='xr-var-preview xr-preview'>...</div><input id='attrs-3112a81e-4523-4b17-8997-0e0fa8a54ade' class='xr-var-attrs-in' type='checkbox' ><label for='attrs-3112a81e-4523-4b17-8997-0e0fa8a54ade' title='Show/Hide attributes'><svg class='icon xr-icon-file-text2'><use xlink:href='#icon-file-text2'></use></svg></label><input id='data-c41fd78e-20a4-4f50-983d-11340706efd7' class='xr-var-data-in' type='checkbox'><label for='data-c41fd78e-20a4-4f50-983d-11340706efd7' title='Show/Hide data repr'><svg class='icon xr-icon-database'><use xlink:href='#icon-database'></use></svg></label><div class='xr-var-attrs'><dl class='xr-attrs'><dt><span>long_name :</span></dt><dd>Deployment latitude</dd><dt><span>units :</span></dt><dd>degrees_north</dd></dl></div><div class='xr-var-data'><pre>[17324 values with dtype=float64]</pre></div></li><li class='xr-var-item'><div class='xr-var-name'><span>deploy_lon</span></div><div class='xr-var-dims'>(traj)</div><div class='xr-var-dtype'>float64</div><div class='xr-var-preview xr-preview'>...</div><input id='attrs-f6fabf64-0d66-4c2f-80c6-4bbf5bbe0313' class='xr-var-attrs-in' type='checkbox' ><label for='attrs-f6fabf64-0d66-4c2f-80c6-4bbf5bbe0313' title='Show/Hide attributes'><svg class='icon xr-icon-file-text2'><use xlink:href='#icon-file-text2'></use></svg></label><input id='data-0545bd67-a5f3-467f-818a-c479d07a423a' class='xr-var-data-in' type='checkbox'><label for='data-0545bd67-a5f3-467f-818a-c479d07a423a' title='Show/Hide data repr'><svg class='icon xr-icon-database'><use xlink:href='#icon-database'></use></svg></label><div class='xr-var-attrs'><dl class='xr-attrs'><dt><span>long_name :</span></dt><dd>Deployment longitude</dd><dt><span>units :</span></dt><dd>degrees_east</dd></dl></div><div class='xr-var-data'><pre>[17324 values with dtype=float64]</pre></div></li><li class='xr-var-item'><div class='xr-var-name'><span>end_date</span></div><div class='xr-var-dims'>(traj)</div><div class='xr-var-dtype'>datetime64[ns]</div><div class='xr-var-preview xr-preview'>...</div><input id='attrs-193d6547-e7c8-489c-96bf-fddfeb585b77' class='xr-var-attrs-in' type='checkbox' ><label for='attrs-193d6547-e7c8-489c-96bf-fddfeb585b77' title='Show/Hide attributes'><svg class='icon xr-icon-file-text2'><use xlink:href='#icon-file-text2'></use></svg></label><input id='data-42c09bb6-a58e-4c41-9be2-802a4479167e' class='xr-var-data-in' type='checkbox'><label for='data-42c09bb6-a58e-4c41-9be2-802a4479167e' title='Show/Hide data repr'><svg class='icon xr-icon-database'><use xlink:href='#icon-database'></use></svg></label><div class='xr-var-attrs'><dl class='xr-attrs'><dt><span>long_name :</span></dt><dd>End date and time</dd></dl></div><div class='xr-var-data'><pre>[17324 values with dtype=datetime64[ns]]</pre></div></li><li class='xr-var-item'><div class='xr-var-name'><span>end_lat</span></div><div class='xr-var-dims'>(traj)</div><div class='xr-var-dtype'>float64</div><div class='xr-var-preview xr-preview'>...</div><input id='attrs-b3f2f44f-98ae-43f3-8c7f-801507e0b4b9' class='xr-var-attrs-in' type='checkbox' ><label for='attrs-b3f2f44f-98ae-43f3-8c7f-801507e0b4b9' title='Show/Hide attributes'><svg class='icon xr-icon-file-text2'><use xlink:href='#icon-file-text2'></use></svg></label><input id='data-288d5733-1509-4ab5-bf79-d4cdddfad278' class='xr-var-data-in' type='checkbox'><label for='data-288d5733-1509-4ab5-bf79-d4cdddfad278' title='Show/Hide data repr'><svg class='icon xr-icon-database'><use xlink:href='#icon-database'></use></svg></label><div class='xr-var-attrs'><dl class='xr-attrs'><dt><span>long_name :</span></dt><dd>End longitude</dd><dt><span>units :</span></dt><dd>degrees_east</dd></dl></div><div class='xr-var-data'><pre>[17324 values with dtype=float64]</pre></div></li><li class='xr-var-item'><div class='xr-var-name'><span>end_lon</span></div><div class='xr-var-dims'>(traj)</div><div class='xr-var-dtype'>float64</div><div class='xr-var-preview xr-preview'>...</div><input id='attrs-689cf72c-16e2-494f-aa66-b87e15f70854' class='xr-var-attrs-in' type='checkbox' ><label for='attrs-689cf72c-16e2-494f-aa66-b87e15f70854' title='Show/Hide attributes'><svg class='icon xr-icon-file-text2'><use xlink:href='#icon-file-text2'></use></svg></label><input id='data-a3bf7827-93e0-4a48-bad5-201d306db22a' class='xr-var-data-in' type='checkbox'><label for='data-a3bf7827-93e0-4a48-bad5-201d306db22a' title='Show/Hide data repr'><svg class='icon xr-icon-database'><use xlink:href='#icon-database'></use></svg></label><div class='xr-var-attrs'><dl class='xr-attrs'><dt><span>long_name :</span></dt><dd>End latitude</dd><dt><span>units :</span></dt><dd>degrees_north</dd></dl></div><div class='xr-var-data'><pre>[17324 values with dtype=float64]</pre></div></li><li class='xr-var-item'><div class='xr-var-name'><span>drogue_lost_date</span></div><div class='xr-var-dims'>(traj)</div><div class='xr-var-dtype'>datetime64[ns]</div><div class='xr-var-preview xr-preview'>...</div><input id='attrs-5be28111-7d3a-41bc-b082-20d457737f24' class='xr-var-attrs-in' type='checkbox' ><label for='attrs-5be28111-7d3a-41bc-b082-20d457737f24' title='Show/Hide attributes'><svg class='icon xr-icon-file-text2'><use xlink:href='#icon-file-text2'></use></svg></label><input id='data-4332b270-a6bb-4a25-8ed1-5180c2032466' class='xr-var-data-in' type='checkbox'><label for='data-4332b270-a6bb-4a25-8ed1-5180c2032466' title='Show/Hide data repr'><svg class='icon xr-icon-database'><use xlink:href='#icon-database'></use></svg></label><div class='xr-var-attrs'><dl class='xr-attrs'><dt><span>long_name :</span></dt><dd>Date and time of drogue loss</dd></dl></div><div class='xr-var-data'><pre>[17324 values with dtype=datetime64[ns]]</pre></div></li><li class='xr-var-item'><div class='xr-var-name'><span>typedeath</span></div><div class='xr-var-dims'>(traj)</div><div class='xr-var-dtype'>int8</div><div class='xr-var-preview xr-preview'>...</div><input id='attrs-b389cd38-0ef0-4280-8d1c-a1567779f3a9' class='xr-var-attrs-in' type='checkbox' ><label for='attrs-b389cd38-0ef0-4280-8d1c-a1567779f3a9' title='Show/Hide attributes'><svg class='icon xr-icon-file-text2'><use xlink:href='#icon-file-text2'></use></svg></label><input id='data-693c9568-7974-40ae-855e-f5ce7eeba3a6' class='xr-var-data-in' type='checkbox'><label for='data-693c9568-7974-40ae-855e-f5ce7eeba3a6' title='Show/Hide data repr'><svg class='icon xr-icon-database'><use xlink:href='#icon-database'></use></svg></label><div class='xr-var-attrs'><dl class='xr-attrs'><dt><span>long_name :</span></dt><dd>Type of death</dd><dt><span>units :</span></dt><dd>-</dd><dt><span>comments :</span></dt><dd>0 (buoy still alive), 1 (buoy ran aground), 2 (picked up by vessel), 3 (stop transmitting), 4 (sporadic transmissions), 5 (bad batteries), 6 (inactive status)</dd></dl></div><div class='xr-var-data'><pre>[17324 values with dtype=int8]</pre></div></li><li class='xr-var-item'><div class='xr-var-name'><span>typebuoy</span></div><div class='xr-var-dims'>(traj)</div><div class='xr-var-dtype'>|S10</div><div class='xr-var-preview xr-preview'>...</div><input id='attrs-bb2ad9b6-ac8c-4657-b0a2-c68ffa834695' class='xr-var-attrs-in' type='checkbox' ><label for='attrs-bb2ad9b6-ac8c-4657-b0a2-c68ffa834695' title='Show/Hide attributes'><svg class='icon xr-icon-file-text2'><use xlink:href='#icon-file-text2'></use></svg></label><input id='data-c811349d-dd94-4d75-9152-0ebe342fb454' class='xr-var-data-in' type='checkbox'><label for='data-c811349d-dd94-4d75-9152-0ebe342fb454' title='Show/Hide data repr'><svg class='icon xr-icon-database'><use xlink:href='#icon-database'></use></svg></label><div class='xr-var-attrs'><dl class='xr-attrs'><dt><span>long_name :</span></dt><dd>Buoy type (see https://www.aoml.noaa.gov/phod/dac/dirall.html)</dd><dt><span>units :</span></dt><dd>-</dd></dl></div><div class='xr-var-data'><pre>[17324 values with dtype=|S10]</pre></div></li><li class='xr-var-item'><div class='xr-var-name'><span>location_type</span></div><div class='xr-var-dims'>(traj)</div><div class='xr-var-dtype'>bool</div><div class='xr-var-preview xr-preview'>...</div><input id='attrs-3cf4698f-059a-4f09-a880-5ec42fb3cc55' class='xr-var-attrs-in' type='checkbox' ><label for='attrs-3cf4698f-059a-4f09-a880-5ec42fb3cc55' title='Show/Hide attributes'><svg class='icon xr-icon-file-text2'><use xlink:href='#icon-file-text2'></use></svg></label><input id='data-a853be6c-89b2-4786-80b8-0c780efe086f' class='xr-var-data-in' type='checkbox'><label for='data-a853be6c-89b2-4786-80b8-0c780efe086f' title='Show/Hide data repr'><svg class='icon xr-icon-database'><use xlink:href='#icon-database'></use></svg></label><div class='xr-var-attrs'><dl class='xr-attrs'><dt><span>long_name :</span></dt><dd>Satellite-based location system</dd><dt><span>units :</span></dt><dd>-</dd><dt><span>comments :</span></dt><dd>0 (Argos), 1 (GPS)</dd></dl></div><div class='xr-var-data'><pre>[17324 values with dtype=bool]</pre></div></li><li class='xr-var-item'><div class='xr-var-name'><span>DeployingShip</span></div><div class='xr-var-dims'>(traj)</div><div class='xr-var-dtype'>|S20</div><div class='xr-var-preview xr-preview'>...</div><input id='attrs-b68d7ca5-4be1-4292-8488-e3664dfe24fe' class='xr-var-attrs-in' type='checkbox' ><label for='attrs-b68d7ca5-4be1-4292-8488-e3664dfe24fe' title='Show/Hide attributes'><svg class='icon xr-icon-file-text2'><use xlink:href='#icon-file-text2'></use></svg></label><input id='data-e673af3a-5517-42b0-a27a-7ae95958c55d' class='xr-var-data-in' type='checkbox'><label for='data-e673af3a-5517-42b0-a27a-7ae95958c55d' title='Show/Hide data repr'><svg class='icon xr-icon-database'><use xlink:href='#icon-database'></use></svg></label><div class='xr-var-attrs'><dl class='xr-attrs'><dt><span>long_name :</span></dt><dd>Name of deployment ship</dd><dt><span>units :</span></dt><dd>-</dd></dl></div><div class='xr-var-data'><pre>[17324 values with dtype=|S20]</pre></div></li><li class='xr-var-item'><div class='xr-var-name'><span>DeploymentStatus</span></div><div class='xr-var-dims'>(traj)</div><div class='xr-var-dtype'>|S20</div><div class='xr-var-preview xr-preview'>...</div><input id='attrs-6081fc1a-76f1-43b6-bb1d-7000a4437da1' class='xr-var-attrs-in' type='checkbox' ><label for='attrs-6081fc1a-76f1-43b6-bb1d-7000a4437da1' title='Show/Hide attributes'><svg class='icon xr-icon-file-text2'><use xlink:href='#icon-file-text2'></use></svg></label><input id='data-06b79a5e-d67b-4e19-9812-7b6c5f88a181' class='xr-var-data-in' type='checkbox'><label for='data-06b79a5e-d67b-4e19-9812-7b6c5f88a181' title='Show/Hide data repr'><svg class='icon xr-icon-database'><use xlink:href='#icon-database'></use></svg></label><div class='xr-var-attrs'><dl class='xr-attrs'><dt><span>long_name :</span></dt><dd>Deployment status</dd><dt><span>units :</span></dt><dd>-</dd></dl></div><div class='xr-var-data'><pre>[17324 values with dtype=|S20]</pre></div></li><li class='xr-var-item'><div class='xr-var-name'><span>BuoyTypeManufacturer</span></div><div class='xr-var-dims'>(traj)</div><div class='xr-var-dtype'>|S20</div><div class='xr-var-preview xr-preview'>...</div><input id='attrs-d4588353-68b3-4edf-91ba-802c7cdcdf6e' class='xr-var-attrs-in' type='checkbox' ><label for='attrs-d4588353-68b3-4edf-91ba-802c7cdcdf6e' title='Show/Hide attributes'><svg class='icon xr-icon-file-text2'><use xlink:href='#icon-file-text2'></use></svg></label><input id='data-fb6e053a-1bdc-4e33-a5ec-1e60efe26268' class='xr-var-data-in' type='checkbox'><label for='data-fb6e053a-1bdc-4e33-a5ec-1e60efe26268' title='Show/Hide data repr'><svg class='icon xr-icon-database'><use xlink:href='#icon-database'></use></svg></label><div class='xr-var-attrs'><dl class='xr-attrs'><dt><span>long_name :</span></dt><dd>Buoy type manufacturer</dd><dt><span>units :</span></dt><dd>-</dd></dl></div><div class='xr-var-data'><pre>[17324 values with dtype=|S20]</pre></div></li><li class='xr-var-item'><div class='xr-var-name'><span>BuoyTypeSensorArray</span></div><div class='xr-var-dims'>(traj)</div><div class='xr-var-dtype'>|S20</div><div class='xr-var-preview xr-preview'>...</div><input id='attrs-42e80bd3-0b57-47fa-b152-0d91971c3417' class='xr-var-attrs-in' type='checkbox' ><label for='attrs-42e80bd3-0b57-47fa-b152-0d91971c3417' title='Show/Hide attributes'><svg class='icon xr-icon-file-text2'><use xlink:href='#icon-file-text2'></use></svg></label><input id='data-1c10d0ce-2b88-4f34-ac6e-cade59ebd98c' class='xr-var-data-in' type='checkbox'><label for='data-1c10d0ce-2b88-4f34-ac6e-cade59ebd98c' title='Show/Hide data repr'><svg class='icon xr-icon-database'><use xlink:href='#icon-database'></use></svg></label><div class='xr-var-attrs'><dl class='xr-attrs'><dt><span>long_name :</span></dt><dd>Buoy type sensor array</dd><dt><span>units :</span></dt><dd>-</dd></dl></div><div class='xr-var-data'><pre>[17324 values with dtype=|S20]</pre></div></li><li class='xr-var-item'><div class='xr-var-name'><span>CurrentProgram</span></div><div class='xr-var-dims'>(traj)</div><div class='xr-var-dtype'>float64</div><div class='xr-var-preview xr-preview'>...</div><input id='attrs-01b2daf7-1d55-4ba4-8a7f-9ea3f93f1039' class='xr-var-attrs-in' type='checkbox' ><label for='attrs-01b2daf7-1d55-4ba4-8a7f-9ea3f93f1039' title='Show/Hide attributes'><svg class='icon xr-icon-file-text2'><use xlink:href='#icon-file-text2'></use></svg></label><input id='data-c6ece5da-0dd9-4726-8a33-1682ebede5ff' class='xr-var-data-in' type='checkbox'><label for='data-c6ece5da-0dd9-4726-8a33-1682ebede5ff' title='Show/Hide data repr'><svg class='icon xr-icon-database'><use xlink:href='#icon-database'></use></svg></label><div class='xr-var-attrs'><dl class='xr-attrs'><dt><span>long_name :</span></dt><dd>Current Program</dd><dt><span>units :</span></dt><dd>-</dd></dl></div><div class='xr-var-data'><pre>[17324 values with dtype=float64]</pre></div></li><li class='xr-var-item'><div class='xr-var-name'><span>PurchaserFunding</span></div><div class='xr-var-dims'>(traj)</div><div class='xr-var-dtype'>|S20</div><div class='xr-var-preview xr-preview'>...</div><input id='attrs-242ece69-2ad4-499f-96af-e337a87738ef' class='xr-var-attrs-in' type='checkbox' ><label for='attrs-242ece69-2ad4-499f-96af-e337a87738ef' title='Show/Hide attributes'><svg class='icon xr-icon-file-text2'><use xlink:href='#icon-file-text2'></use></svg></label><input id='data-f173575e-aef4-4eaf-bf3b-9de1415c3e2b' class='xr-var-data-in' type='checkbox'><label for='data-f173575e-aef4-4eaf-bf3b-9de1415c3e2b' title='Show/Hide data repr'><svg class='icon xr-icon-database'><use xlink:href='#icon-database'></use></svg></label><div class='xr-var-attrs'><dl class='xr-attrs'><dt><span>long_name :</span></dt><dd>Purchaser funding</dd><dt><span>units :</span></dt><dd>-</dd></dl></div><div class='xr-var-data'><pre>[17324 values with dtype=|S20]</pre></div></li><li class='xr-var-item'><div class='xr-var-name'><span>SensorUpgrade</span></div><div class='xr-var-dims'>(traj)</div><div class='xr-var-dtype'>|S20</div><div class='xr-var-preview xr-preview'>...</div><input id='attrs-fb378e6a-df3b-4454-b63c-efc76e99ba1d' class='xr-var-attrs-in' type='checkbox' ><label for='attrs-fb378e6a-df3b-4454-b63c-efc76e99ba1d' title='Show/Hide attributes'><svg class='icon xr-icon-file-text2'><use xlink:href='#icon-file-text2'></use></svg></label><input id='data-65067b88-3ac7-4e36-9e34-e8e5d8f4a96a' class='xr-var-data-in' type='checkbox'><label for='data-65067b88-3ac7-4e36-9e34-e8e5d8f4a96a' title='Show/Hide data repr'><svg class='icon xr-icon-database'><use xlink:href='#icon-database'></use></svg></label><div class='xr-var-attrs'><dl class='xr-attrs'><dt><span>long_name :</span></dt><dd>Sensor upgrade</dd><dt><span>units :</span></dt><dd>-</dd></dl></div><div class='xr-var-data'><pre>[17324 values with dtype=|S20]</pre></div></li><li class='xr-var-item'><div class='xr-var-name'><span>Transmissions</span></div><div class='xr-var-dims'>(traj)</div><div class='xr-var-dtype'>|S20</div><div class='xr-var-preview xr-preview'>...</div><input id='attrs-2e9a3c64-e16f-4922-b265-783c7954755e' class='xr-var-attrs-in' type='checkbox' ><label for='attrs-2e9a3c64-e16f-4922-b265-783c7954755e' title='Show/Hide attributes'><svg class='icon xr-icon-file-text2'><use xlink:href='#icon-file-text2'></use></svg></label><input id='data-81e8ec99-acbf-459d-8a92-6825396a58df' class='xr-var-data-in' type='checkbox'><label for='data-81e8ec99-acbf-459d-8a92-6825396a58df' title='Show/Hide data repr'><svg class='icon xr-icon-database'><use xlink:href='#icon-database'></use></svg></label><div class='xr-var-attrs'><dl class='xr-attrs'><dt><span>long_name :</span></dt><dd>Transmissions</dd><dt><span>units :</span></dt><dd>-</dd></dl></div><div class='xr-var-data'><pre>[17324 values with dtype=|S20]</pre></div></li><li class='xr-var-item'><div class='xr-var-name'><span>DeployingCountry</span></div><div class='xr-var-dims'>(traj)</div><div class='xr-var-dtype'>|S20</div><div class='xr-var-preview xr-preview'>...</div><input id='attrs-e32c6d97-45ee-4f19-81f0-79d366b80212' class='xr-var-attrs-in' type='checkbox' ><label for='attrs-e32c6d97-45ee-4f19-81f0-79d366b80212' title='Show/Hide attributes'><svg class='icon xr-icon-file-text2'><use xlink:href='#icon-file-text2'></use></svg></label><input id='data-1e8c71dc-8675-4c4b-889b-afea76d77420' class='xr-var-data-in' type='checkbox'><label for='data-1e8c71dc-8675-4c4b-889b-afea76d77420' title='Show/Hide data repr'><svg class='icon xr-icon-database'><use xlink:href='#icon-database'></use></svg></label><div class='xr-var-attrs'><dl class='xr-attrs'><dt><span>long_name :</span></dt><dd>Deploying country</dd><dt><span>units :</span></dt><dd>-</dd></dl></div><div class='xr-var-data'><pre>[17324 values with dtype=|S20]</pre></div></li><li class='xr-var-item'><div class='xr-var-name'><span>DeploymentComments</span></div><div class='xr-var-dims'>(traj)</div><div class='xr-var-dtype'>|S20</div><div class='xr-var-preview xr-preview'>...</div><input id='attrs-e812636c-7632-4133-83c8-eb5b401d62b6' class='xr-var-attrs-in' type='checkbox' ><label for='attrs-e812636c-7632-4133-83c8-eb5b401d62b6' title='Show/Hide attributes'><svg class='icon xr-icon-file-text2'><use xlink:href='#icon-file-text2'></use></svg></label><input id='data-97593960-c576-4714-b5a0-1aeafb885113' class='xr-var-data-in' type='checkbox'><label for='data-97593960-c576-4714-b5a0-1aeafb885113' title='Show/Hide data repr'><svg class='icon xr-icon-database'><use xlink:href='#icon-database'></use></svg></label><div class='xr-var-attrs'><dl class='xr-attrs'><dt><span>long_name :</span></dt><dd>Deployment comments</dd><dt><span>units :</span></dt><dd>-</dd></dl></div><div class='xr-var-data'><pre>[17324 values with dtype=|S20]</pre></div></li><li class='xr-var-item'><div class='xr-var-name'><span>ManufactureYear</span></div><div class='xr-var-dims'>(traj)</div><div class='xr-var-dtype'>float32</div><div class='xr-var-preview xr-preview'>...</div><input id='attrs-c27eb4d1-6df2-4f03-b8e4-62d0744233db' class='xr-var-attrs-in' type='checkbox' ><label for='attrs-c27eb4d1-6df2-4f03-b8e4-62d0744233db' title='Show/Hide attributes'><svg class='icon xr-icon-file-text2'><use xlink:href='#icon-file-text2'></use></svg></label><input id='data-a1c0b96c-1a55-4dc4-85c0-acabe90e1231' class='xr-var-data-in' type='checkbox'><label for='data-a1c0b96c-1a55-4dc4-85c0-acabe90e1231' title='Show/Hide data repr'><svg class='icon xr-icon-database'><use xlink:href='#icon-database'></use></svg></label><div class='xr-var-attrs'><dl class='xr-attrs'><dt><span>long_name :</span></dt><dd>Manufacture year</dd><dt><span>units :</span></dt><dd>-</dd></dl></div><div class='xr-var-data'><pre>[17324 values with dtype=float32]</pre></div></li><li class='xr-var-item'><div class='xr-var-name'><span>ManufactureMonth</span></div><div class='xr-var-dims'>(traj)</div><div class='xr-var-dtype'>float32</div><div class='xr-var-preview xr-preview'>...</div><input id='attrs-8e46d9dc-5d6e-4314-b093-7982d3cc372b' class='xr-var-attrs-in' type='checkbox' ><label for='attrs-8e46d9dc-5d6e-4314-b093-7982d3cc372b' title='Show/Hide attributes'><svg class='icon xr-icon-file-text2'><use xlink:href='#icon-file-text2'></use></svg></label><input id='data-208f8064-134d-4628-982a-fabebc5d799f' class='xr-var-data-in' type='checkbox'><label for='data-208f8064-134d-4628-982a-fabebc5d799f' title='Show/Hide data repr'><svg class='icon xr-icon-database'><use xlink:href='#icon-database'></use></svg></label><div class='xr-var-attrs'><dl class='xr-attrs'><dt><span>long_name :</span></dt><dd>Manufacture month</dd><dt><span>units :</span></dt><dd>-</dd></dl></div><div class='xr-var-data'><pre>[17324 values with dtype=float32]</pre></div></li><li class='xr-var-item'><div class='xr-var-name'><span>ManufactureSensorType</span></div><div class='xr-var-dims'>(traj)</div><div class='xr-var-dtype'>|S20</div><div class='xr-var-preview xr-preview'>...</div><input id='attrs-409f436b-c6f8-4764-80d7-818170d6ac55' class='xr-var-attrs-in' type='checkbox' ><label for='attrs-409f436b-c6f8-4764-80d7-818170d6ac55' title='Show/Hide attributes'><svg class='icon xr-icon-file-text2'><use xlink:href='#icon-file-text2'></use></svg></label><input id='data-1704bd2c-1ebc-4cbf-be7a-733d56df3bb4' class='xr-var-data-in' type='checkbox'><label for='data-1704bd2c-1ebc-4cbf-be7a-733d56df3bb4' title='Show/Hide data repr'><svg class='icon xr-icon-database'><use xlink:href='#icon-database'></use></svg></label><div class='xr-var-attrs'><dl class='xr-attrs'><dt><span>long_name :</span></dt><dd>Manufacture Sensor Type</dd><dt><span>units :</span></dt><dd>-</dd></dl></div><div class='xr-var-data'><pre>[17324 values with dtype=|S20]</pre></div></li><li class='xr-var-item'><div class='xr-var-name'><span>ManufactureVoltage</span></div><div class='xr-var-dims'>(traj)</div><div class='xr-var-dtype'>float32</div><div class='xr-var-preview xr-preview'>...</div><input id='attrs-933703f5-253a-44cf-8cd8-d3ec7c99c077' class='xr-var-attrs-in' type='checkbox' ><label for='attrs-933703f5-253a-44cf-8cd8-d3ec7c99c077' title='Show/Hide attributes'><svg class='icon xr-icon-file-text2'><use xlink:href='#icon-file-text2'></use></svg></label><input id='data-21b7df46-a294-49a4-bfdc-4368f375a561' class='xr-var-data-in' type='checkbox'><label for='data-21b7df46-a294-49a4-bfdc-4368f375a561' title='Show/Hide data repr'><svg class='icon xr-icon-database'><use xlink:href='#icon-database'></use></svg></label><div class='xr-var-attrs'><dl class='xr-attrs'><dt><span>long_name :</span></dt><dd>Manufacture voltage</dd><dt><span>units :</span></dt><dd>V</dd></dl></div><div class='xr-var-data'><pre>[17324 values with dtype=float32]</pre></div></li><li class='xr-var-item'><div class='xr-var-name'><span>FloatDiameter</span></div><div class='xr-var-dims'>(traj)</div><div class='xr-var-dtype'>float64</div><div class='xr-var-preview xr-preview'>...</div><input id='attrs-04b37a9b-28d8-4c79-8605-2644cb657230' class='xr-var-attrs-in' type='checkbox' ><label for='attrs-04b37a9b-28d8-4c79-8605-2644cb657230' title='Show/Hide attributes'><svg class='icon xr-icon-file-text2'><use xlink:href='#icon-file-text2'></use></svg></label><input id='data-4a6ad1c7-e799-450d-b7f9-c4b47953aeff' class='xr-var-data-in' type='checkbox'><label for='data-4a6ad1c7-e799-450d-b7f9-c4b47953aeff' title='Show/Hide data repr'><svg class='icon xr-icon-database'><use xlink:href='#icon-database'></use></svg></label><div class='xr-var-attrs'><dl class='xr-attrs'><dt><span>long_name :</span></dt><dd>Diameter of surface floater</dd><dt><span>units :</span></dt><dd>cm</dd></dl></div><div class='xr-var-data'><pre>[17324 values with dtype=float64]</pre></div></li><li class='xr-var-item'><div class='xr-var-name'><span>SubsfcFloatPresence</span></div><div class='xr-var-dims'>(traj)</div><div class='xr-var-dtype'>bool</div><div class='xr-var-preview xr-preview'>...</div><input id='attrs-096917e4-2e85-456e-867e-0460b0c51de9' class='xr-var-attrs-in' type='checkbox' ><label for='attrs-096917e4-2e85-456e-867e-0460b0c51de9' title='Show/Hide attributes'><svg class='icon xr-icon-file-text2'><use xlink:href='#icon-file-text2'></use></svg></label><input id='data-fe207a9e-ff21-4a3f-92dd-449a6cbe37e9' class='xr-var-data-in' type='checkbox'><label for='data-fe207a9e-ff21-4a3f-92dd-449a6cbe37e9' title='Show/Hide data repr'><svg class='icon xr-icon-database'><use xlink:href='#icon-database'></use></svg></label><div class='xr-var-attrs'><dl class='xr-attrs'><dt><span>long_name :</span></dt><dd>Subsurface Float Presence</dd><dt><span>units :</span></dt><dd>-</dd></dl></div><div class='xr-var-data'><pre>[17324 values with dtype=bool]</pre></div></li><li class='xr-var-item'><div class='xr-var-name'><span>DrogueType</span></div><div class='xr-var-dims'>(traj)</div><div class='xr-var-dtype'>|S7</div><div class='xr-var-preview xr-preview'>...</div><input id='attrs-311f9737-49b2-4aa1-b2d1-f344788a6c97' class='xr-var-attrs-in' type='checkbox' ><label for='attrs-311f9737-49b2-4aa1-b2d1-f344788a6c97' title='Show/Hide attributes'><svg class='icon xr-icon-file-text2'><use xlink:href='#icon-file-text2'></use></svg></label><input id='data-1f080a2b-ac7d-4137-9e5c-f02ecee16fbb' class='xr-var-data-in' type='checkbox'><label for='data-1f080a2b-ac7d-4137-9e5c-f02ecee16fbb' title='Show/Hide data repr'><svg class='icon xr-icon-database'><use xlink:href='#icon-database'></use></svg></label><div class='xr-var-attrs'><dl class='xr-attrs'><dt><span>drogue_type :</span></dt><dd>Drogue Type</dd><dt><span>units :</span></dt><dd>-</dd></dl></div><div class='xr-var-data'><pre>[17324 values with dtype=|S7]</pre></div></li><li class='xr-var-item'><div class='xr-var-name'><span>DrogueLength</span></div><div class='xr-var-dims'>(traj)</div><div class='xr-var-dtype'>float64</div><div class='xr-var-preview xr-preview'>...</div><input id='attrs-19c95e31-639f-4434-999f-5ee5a31ab36d' class='xr-var-attrs-in' type='checkbox' ><label for='attrs-19c95e31-639f-4434-999f-5ee5a31ab36d' title='Show/Hide attributes'><svg class='icon xr-icon-file-text2'><use xlink:href='#icon-file-text2'></use></svg></label><input id='data-32b1fd50-1cf6-4246-9712-dff2efe8fbf8' class='xr-var-data-in' type='checkbox'><label for='data-32b1fd50-1cf6-4246-9712-dff2efe8fbf8' title='Show/Hide data repr'><svg class='icon xr-icon-database'><use xlink:href='#icon-database'></use></svg></label><div class='xr-var-attrs'><dl class='xr-attrs'><dt><span>long_name :</span></dt><dd>Length of drogue.</dd><dt><span>units :</span></dt><dd>m</dd></dl></div><div class='xr-var-data'><pre>[17324 values with dtype=float64]</pre></div></li><li class='xr-var-item'><div class='xr-var-name'><span>DrogueBallast</span></div><div class='xr-var-dims'>(traj)</div><div class='xr-var-dtype'>float64</div><div class='xr-var-preview xr-preview'>...</div><input id='attrs-5c5afcc9-ef01-43b6-b97e-7e98945c7db2' class='xr-var-attrs-in' type='checkbox' ><label for='attrs-5c5afcc9-ef01-43b6-b97e-7e98945c7db2' title='Show/Hide attributes'><svg class='icon xr-icon-file-text2'><use xlink:href='#icon-file-text2'></use></svg></label><input id='data-843d9722-6b25-45c9-b639-d369af4025e1' class='xr-var-data-in' type='checkbox'><label for='data-843d9722-6b25-45c9-b639-d369af4025e1' title='Show/Hide data repr'><svg class='icon xr-icon-database'><use xlink:href='#icon-database'></use></svg></label><div class='xr-var-attrs'><dl class='xr-attrs'><dt><span>long_name :</span></dt><dd>Weight of the drogue&#x27;s ballast.</dd><dt><span>units :</span></dt><dd>kg</dd></dl></div><div class='xr-var-data'><pre>[17324 values with dtype=float64]</pre></div></li><li class='xr-var-item'><div class='xr-var-name'><span>DragAreaAboveDrogue</span></div><div class='xr-var-dims'>(traj)</div><div class='xr-var-dtype'>float64</div><div class='xr-var-preview xr-preview'>...</div><input id='attrs-e49ad7c3-0001-4f31-979a-560ea0d0a906' class='xr-var-attrs-in' type='checkbox' ><label for='attrs-e49ad7c3-0001-4f31-979a-560ea0d0a906' title='Show/Hide attributes'><svg class='icon xr-icon-file-text2'><use xlink:href='#icon-file-text2'></use></svg></label><input id='data-38e0478a-d212-4e13-8f16-6c5bc205af72' class='xr-var-data-in' type='checkbox'><label for='data-38e0478a-d212-4e13-8f16-6c5bc205af72' title='Show/Hide data repr'><svg class='icon xr-icon-database'><use xlink:href='#icon-database'></use></svg></label><div class='xr-var-attrs'><dl class='xr-attrs'><dt><span>long_name :</span></dt><dd>Drag area above drogue.</dd><dt><span>units :</span></dt><dd>m^2</dd></dl></div><div class='xr-var-data'><pre>[17324 values with dtype=float64]</pre></div></li><li class='xr-var-item'><div class='xr-var-name'><span>DragAreaOfDrogue</span></div><div class='xr-var-dims'>(traj)</div><div class='xr-var-dtype'>float64</div><div class='xr-var-preview xr-preview'>...</div><input id='attrs-1907d7ea-7513-4e6b-accc-0770c65da594' class='xr-var-attrs-in' type='checkbox' ><label for='attrs-1907d7ea-7513-4e6b-accc-0770c65da594' title='Show/Hide attributes'><svg class='icon xr-icon-file-text2'><use xlink:href='#icon-file-text2'></use></svg></label><input id='data-41fe41c7-0bab-43e9-81f8-7fe74d71f4d1' class='xr-var-data-in' type='checkbox'><label for='data-41fe41c7-0bab-43e9-81f8-7fe74d71f4d1' title='Show/Hide data repr'><svg class='icon xr-icon-database'><use xlink:href='#icon-database'></use></svg></label><div class='xr-var-attrs'><dl class='xr-attrs'><dt><span>long_name :</span></dt><dd>Drag area drogue.</dd><dt><span>units :</span></dt><dd>m^2</dd></dl></div><div class='xr-var-data'><pre>[17324 values with dtype=float64]</pre></div></li><li class='xr-var-item'><div class='xr-var-name'><span>DragAreaRatio</span></div><div class='xr-var-dims'>(traj)</div><div class='xr-var-dtype'>float64</div><div class='xr-var-preview xr-preview'>...</div><input id='attrs-56b119b4-7790-429f-91b9-1dc1c8525a69' class='xr-var-attrs-in' type='checkbox' ><label for='attrs-56b119b4-7790-429f-91b9-1dc1c8525a69' title='Show/Hide attributes'><svg class='icon xr-icon-file-text2'><use xlink:href='#icon-file-text2'></use></svg></label><input id='data-1fa71125-2d0e-4653-8eb7-8bb90e53e3cf' class='xr-var-data-in' type='checkbox'><label for='data-1fa71125-2d0e-4653-8eb7-8bb90e53e3cf' title='Show/Hide data repr'><svg class='icon xr-icon-database'><use xlink:href='#icon-database'></use></svg></label><div class='xr-var-attrs'><dl class='xr-attrs'><dt><span>long_name :</span></dt><dd>Drag area ratio</dd><dt><span>units :</span></dt><dd>m</dd></dl></div><div class='xr-var-data'><pre>[17324 values with dtype=float64]</pre></div></li><li class='xr-var-item'><div class='xr-var-name'><span>DrogueCenterDepth</span></div><div class='xr-var-dims'>(traj)</div><div class='xr-var-dtype'>float64</div><div class='xr-var-preview xr-preview'>...</div><input id='attrs-734feeb0-7dc0-4f80-a64d-f374275e801e' class='xr-var-attrs-in' type='checkbox' ><label for='attrs-734feeb0-7dc0-4f80-a64d-f374275e801e' title='Show/Hide attributes'><svg class='icon xr-icon-file-text2'><use xlink:href='#icon-file-text2'></use></svg></label><input id='data-d9651c5a-2cde-4ea3-ab33-14b7e71581a1' class='xr-var-data-in' type='checkbox'><label for='data-d9651c5a-2cde-4ea3-ab33-14b7e71581a1' title='Show/Hide data repr'><svg class='icon xr-icon-database'><use xlink:href='#icon-database'></use></svg></label><div class='xr-var-attrs'><dl class='xr-attrs'><dt><span>long_name :</span></dt><dd>Average depth of the drogue.</dd><dt><span>units :</span></dt><dd>m</dd></dl></div><div class='xr-var-data'><pre>[17324 values with dtype=float64]</pre></div></li><li class='xr-var-item'><div class='xr-var-name'><span>DrogueDetectSensor</span></div><div class='xr-var-dims'>(traj)</div><div class='xr-var-dtype'>|S20</div><div class='xr-var-preview xr-preview'>...</div><input id='attrs-dc55e886-80cc-44a9-9f77-64c5d8895aac' class='xr-var-attrs-in' type='checkbox' ><label for='attrs-dc55e886-80cc-44a9-9f77-64c5d8895aac' title='Show/Hide attributes'><svg class='icon xr-icon-file-text2'><use xlink:href='#icon-file-text2'></use></svg></label><input id='data-0f518e7f-d075-41c1-b8e2-5832e7b3d383' class='xr-var-data-in' type='checkbox'><label for='data-0f518e7f-d075-41c1-b8e2-5832e7b3d383' title='Show/Hide data repr'><svg class='icon xr-icon-database'><use xlink:href='#icon-database'></use></svg></label><div class='xr-var-attrs'><dl class='xr-attrs'><dt><span>long_name :</span></dt><dd>Drogue detection sensor</dd><dt><span>units :</span></dt><dd>-</dd></dl></div><div class='xr-var-data'><pre>[17324 values with dtype=|S20]</pre></div></li><li class='xr-var-item'><div class='xr-var-name'><span>ve</span></div><div class='xr-var-dims'>(obs)</div><div class='xr-var-dtype'>float32</div><div class='xr-var-preview xr-preview'>...</div><input id='attrs-9308a69d-b01e-446d-bf33-0f46ea8e9794' class='xr-var-attrs-in' type='checkbox' ><label for='attrs-9308a69d-b01e-446d-bf33-0f46ea8e9794' title='Show/Hide attributes'><svg class='icon xr-icon-file-text2'><use xlink:href='#icon-file-text2'></use></svg></label><input id='data-31bda4b1-4540-40a9-970d-ae01719f2eae' class='xr-var-data-in' type='checkbox'><label for='data-31bda4b1-4540-40a9-970d-ae01719f2eae' title='Show/Hide data repr'><svg class='icon xr-icon-database'><use xlink:href='#icon-database'></use></svg></label><div class='xr-var-attrs'><dl class='xr-attrs'><dt><span>long_name :</span></dt><dd>Eastward velocity</dd><dt><span>units :</span></dt><dd>m/s</dd></dl></div><div class='xr-var-data'><pre>[165754333 values with dtype=float32]</pre></div></li><li class='xr-var-item'><div class='xr-var-name'><span>vn</span></div><div class='xr-var-dims'>(obs)</div><div class='xr-var-dtype'>float32</div><div class='xr-var-preview xr-preview'>...</div><input id='attrs-7b72a7ea-31dc-4a0d-9ded-a8d8d0499ec1' class='xr-var-attrs-in' type='checkbox' ><label for='attrs-7b72a7ea-31dc-4a0d-9ded-a8d8d0499ec1' title='Show/Hide attributes'><svg class='icon xr-icon-file-text2'><use xlink:href='#icon-file-text2'></use></svg></label><input id='data-fb6abe85-3ece-4194-a964-78046b24d8d5' class='xr-var-data-in' type='checkbox'><label for='data-fb6abe85-3ece-4194-a964-78046b24d8d5' title='Show/Hide data repr'><svg class='icon xr-icon-database'><use xlink:href='#icon-database'></use></svg></label><div class='xr-var-attrs'><dl class='xr-attrs'><dt><span>long_name :</span></dt><dd>Northward velocity</dd><dt><span>units :</span></dt><dd>m/s</dd></dl></div><div class='xr-var-data'><pre>[165754333 values with dtype=float32]</pre></div></li><li class='xr-var-item'><div class='xr-var-name'><span>err_lat</span></div><div class='xr-var-dims'>(obs)</div><div class='xr-var-dtype'>float32</div><div class='xr-var-preview xr-preview'>...</div><input id='attrs-f36f43ab-1b15-4565-9ced-eceda815dd3f' class='xr-var-attrs-in' type='checkbox' ><label for='attrs-f36f43ab-1b15-4565-9ced-eceda815dd3f' title='Show/Hide attributes'><svg class='icon xr-icon-file-text2'><use xlink:href='#icon-file-text2'></use></svg></label><input id='data-7d498846-9da3-458d-ab46-e146fad0c163' class='xr-var-data-in' type='checkbox'><label for='data-7d498846-9da3-458d-ab46-e146fad0c163' title='Show/Hide data repr'><svg class='icon xr-icon-database'><use xlink:href='#icon-database'></use></svg></label><div class='xr-var-attrs'><dl class='xr-attrs'><dt><span>long_name :</span></dt><dd>95% confidence interval in latitude</dd><dt><span>units :</span></dt><dd>degrees_north</dd></dl></div><div class='xr-var-data'><pre>[165754333 values with dtype=float32]</pre></div></li><li class='xr-var-item'><div class='xr-var-name'><span>err_lon</span></div><div class='xr-var-dims'>(obs)</div><div class='xr-var-dtype'>float32</div><div class='xr-var-preview xr-preview'>...</div><input id='attrs-c285b250-be6d-473a-b839-c41dbd3ed2a3' class='xr-var-attrs-in' type='checkbox' ><label for='attrs-c285b250-be6d-473a-b839-c41dbd3ed2a3' title='Show/Hide attributes'><svg class='icon xr-icon-file-text2'><use xlink:href='#icon-file-text2'></use></svg></label><input id='data-b2d122f6-a752-46f1-a314-e5975cf4c5e7' class='xr-var-data-in' type='checkbox'><label for='data-b2d122f6-a752-46f1-a314-e5975cf4c5e7' title='Show/Hide data repr'><svg class='icon xr-icon-database'><use xlink:href='#icon-database'></use></svg></label><div class='xr-var-attrs'><dl class='xr-attrs'><dt><span>long_name :</span></dt><dd>95% confidence interval in longitude</dd><dt><span>units :</span></dt><dd>degrees_east</dd></dl></div><div class='xr-var-data'><pre>[165754333 values with dtype=float32]</pre></div></li><li class='xr-var-item'><div class='xr-var-name'><span>err_ve</span></div><div class='xr-var-dims'>(obs)</div><div class='xr-var-dtype'>float32</div><div class='xr-var-preview xr-preview'>...</div><input id='attrs-b5d019c0-cbcd-4c02-ac9b-2accca5bf0e8' class='xr-var-attrs-in' type='checkbox' ><label for='attrs-b5d019c0-cbcd-4c02-ac9b-2accca5bf0e8' title='Show/Hide attributes'><svg class='icon xr-icon-file-text2'><use xlink:href='#icon-file-text2'></use></svg></label><input id='data-c4ee6940-c4c3-4a1c-a8f4-5b2b960eda68' class='xr-var-data-in' type='checkbox'><label for='data-c4ee6940-c4c3-4a1c-a8f4-5b2b960eda68' title='Show/Hide data repr'><svg class='icon xr-icon-database'><use xlink:href='#icon-database'></use></svg></label><div class='xr-var-attrs'><dl class='xr-attrs'><dt><span>long_name :</span></dt><dd>95% confidence interval in eastward velocity</dd><dt><span>units :</span></dt><dd>m/s</dd></dl></div><div class='xr-var-data'><pre>[165754333 values with dtype=float32]</pre></div></li><li class='xr-var-item'><div class='xr-var-name'><span>err_vn</span></div><div class='xr-var-dims'>(obs)</div><div class='xr-var-dtype'>float32</div><div class='xr-var-preview xr-preview'>...</div><input id='attrs-d1af36df-ec71-4890-b5df-5c5b37b83579' class='xr-var-attrs-in' type='checkbox' ><label for='attrs-d1af36df-ec71-4890-b5df-5c5b37b83579' title='Show/Hide attributes'><svg class='icon xr-icon-file-text2'><use xlink:href='#icon-file-text2'></use></svg></label><input id='data-643aa9f9-e2d7-425b-ae2e-e421360f40ef' class='xr-var-data-in' type='checkbox'><label for='data-643aa9f9-e2d7-425b-ae2e-e421360f40ef' title='Show/Hide data repr'><svg class='icon xr-icon-database'><use xlink:href='#icon-database'></use></svg></label><div class='xr-var-attrs'><dl class='xr-attrs'><dt><span>long_name :</span></dt><dd>95% confidence interval in northward velocity</dd><dt><span>units :</span></dt><dd>m/s</dd></dl></div><div class='xr-var-data'><pre>[165754333 values with dtype=float32]</pre></div></li><li class='xr-var-item'><div class='xr-var-name'><span>gap</span></div><div class='xr-var-dims'>(obs)</div><div class='xr-var-dtype'>float32</div><div class='xr-var-preview xr-preview'>...</div><input id='attrs-4b372060-7182-4dbb-8eb5-35e0417e5e8f' class='xr-var-attrs-in' type='checkbox' ><label for='attrs-4b372060-7182-4dbb-8eb5-35e0417e5e8f' title='Show/Hide attributes'><svg class='icon xr-icon-file-text2'><use xlink:href='#icon-file-text2'></use></svg></label><input id='data-6ec0fc27-2066-4feb-874b-f146b028651d' class='xr-var-data-in' type='checkbox'><label for='data-6ec0fc27-2066-4feb-874b-f146b028651d' title='Show/Hide data repr'><svg class='icon xr-icon-database'><use xlink:href='#icon-database'></use></svg></label><div class='xr-var-attrs'><dl class='xr-attrs'><dt><span>long_name :</span></dt><dd>Time interval between previous and next location</dd><dt><span>units :</span></dt><dd>s</dd></dl></div><div class='xr-var-data'><pre>[165754333 values with dtype=float32]</pre></div></li><li class='xr-var-item'><div class='xr-var-name'><span>sst</span></div><div class='xr-var-dims'>(obs)</div><div class='xr-var-dtype'>float64</div><div class='xr-var-preview xr-preview'>...</div><input id='attrs-5309b762-f8af-4eec-bb81-3c7ddbe2660d' class='xr-var-attrs-in' type='checkbox' ><label for='attrs-5309b762-f8af-4eec-bb81-3c7ddbe2660d' title='Show/Hide attributes'><svg class='icon xr-icon-file-text2'><use xlink:href='#icon-file-text2'></use></svg></label><input id='data-9ac05a6f-b3ba-4fac-ada5-b5c21e71914e' class='xr-var-data-in' type='checkbox'><label for='data-9ac05a6f-b3ba-4fac-ada5-b5c21e71914e' title='Show/Hide data repr'><svg class='icon xr-icon-database'><use xlink:href='#icon-database'></use></svg></label><div class='xr-var-attrs'><dl class='xr-attrs'><dt><span>long_name :</span></dt><dd>Fitted sea water temperature</dd><dt><span>units :</span></dt><dd>Kelvin</dd><dt><span>comments :</span></dt><dd>Estimated near-surface sea water temperature from drifting buoy measurements. It is the sum of the fitted near-surface non-diurnal sea water temperature and fitted diurnal sea water temperature anomaly. Discrepancies may occur because of rounding.</dd></dl></div><div class='xr-var-data'><pre>[165754333 values with dtype=float64]</pre></div></li><li class='xr-var-item'><div class='xr-var-name'><span>sst1</span></div><div class='xr-var-dims'>(obs)</div><div class='xr-var-dtype'>float64</div><div class='xr-var-preview xr-preview'>...</div><input id='attrs-a4a38668-ac4c-4791-b6ea-7b83408e5124' class='xr-var-attrs-in' type='checkbox' ><label for='attrs-a4a38668-ac4c-4791-b6ea-7b83408e5124' title='Show/Hide attributes'><svg class='icon xr-icon-file-text2'><use xlink:href='#icon-file-text2'></use></svg></label><input id='data-0192a332-38cc-48e0-a394-bb606bcebcbc' class='xr-var-data-in' type='checkbox'><label for='data-0192a332-38cc-48e0-a394-bb606bcebcbc' title='Show/Hide data repr'><svg class='icon xr-icon-database'><use xlink:href='#icon-database'></use></svg></label><div class='xr-var-attrs'><dl class='xr-attrs'><dt><span>long_name :</span></dt><dd>Fitted non-diurnal sea water temperature</dd><dt><span>units :</span></dt><dd>Kelvin</dd><dt><span>comments :</span></dt><dd>Estimated near-surface non-diurnal sea water temperature from drifting buoy measurements</dd></dl></div><div class='xr-var-data'><pre>[165754333 values with dtype=float64]</pre></div></li><li class='xr-var-item'><div class='xr-var-name'><span>sst2</span></div><div class='xr-var-dims'>(obs)</div><div class='xr-var-dtype'>float64</div><div class='xr-var-preview xr-preview'>...</div><input id='attrs-ab0a76f4-0c88-4834-b67b-cf215f2db937' class='xr-var-attrs-in' type='checkbox' ><label for='attrs-ab0a76f4-0c88-4834-b67b-cf215f2db937' title='Show/Hide attributes'><svg class='icon xr-icon-file-text2'><use xlink:href='#icon-file-text2'></use></svg></label><input id='data-0ac94d93-c854-443b-9388-5af1598b053b' class='xr-var-data-in' type='checkbox'><label for='data-0ac94d93-c854-443b-9388-5af1598b053b' title='Show/Hide data repr'><svg class='icon xr-icon-database'><use xlink:href='#icon-database'></use></svg></label><div class='xr-var-attrs'><dl class='xr-attrs'><dt><span>long_name :</span></dt><dd>Fitted diurnal sea water temperature anomaly</dd><dt><span>units :</span></dt><dd>Kelvin</dd><dt><span>comments :</span></dt><dd>Estimated near-surface diurnal sea water temperature anomaly from drifting buoy measurements</dd></dl></div><div class='xr-var-data'><pre>[165754333 values with dtype=float64]</pre></div></li><li class='xr-var-item'><div class='xr-var-name'><span>err_sst</span></div><div class='xr-var-dims'>(obs)</div><div class='xr-var-dtype'>float64</div><div class='xr-var-preview xr-preview'>...</div><input id='attrs-c2ca49ca-7ae6-43b5-b402-3d016a09d4a1' class='xr-var-attrs-in' type='checkbox' ><label for='attrs-c2ca49ca-7ae6-43b5-b402-3d016a09d4a1' title='Show/Hide attributes'><svg class='icon xr-icon-file-text2'><use xlink:href='#icon-file-text2'></use></svg></label><input id='data-97e13cbb-07b3-4d63-9b94-f8ddecb12db0' class='xr-var-data-in' type='checkbox'><label for='data-97e13cbb-07b3-4d63-9b94-f8ddecb12db0' title='Show/Hide data repr'><svg class='icon xr-icon-database'><use xlink:href='#icon-database'></use></svg></label><div class='xr-var-attrs'><dl class='xr-attrs'><dt><span>long_name :</span></dt><dd>Standard uncertainty of fitted sea water temperature</dd><dt><span>units :</span></dt><dd>Kelvin</dd><dt><span>comments :</span></dt><dd>Estimated one standard error of near-surface sea water temperature estimate from drifting buoy measurements</dd></dl></div><div class='xr-var-data'><pre>[165754333 values with dtype=float64]</pre></div></li><li class='xr-var-item'><div class='xr-var-name'><span>err_sst1</span></div><div class='xr-var-dims'>(obs)</div><div class='xr-var-dtype'>float64</div><div class='xr-var-preview xr-preview'>...</div><input id='attrs-fd50b977-60f9-4041-8634-d10830b060f2' class='xr-var-attrs-in' type='checkbox' ><label for='attrs-fd50b977-60f9-4041-8634-d10830b060f2' title='Show/Hide attributes'><svg class='icon xr-icon-file-text2'><use xlink:href='#icon-file-text2'></use></svg></label><input id='data-3b016d2a-06e9-4cd1-8ffd-5bf545309410' class='xr-var-data-in' type='checkbox'><label for='data-3b016d2a-06e9-4cd1-8ffd-5bf545309410' title='Show/Hide data repr'><svg class='icon xr-icon-database'><use xlink:href='#icon-database'></use></svg></label><div class='xr-var-attrs'><dl class='xr-attrs'><dt><span>long_name :</span></dt><dd>Standard uncertainty of fitted non-diurnal sea water temperature</dd><dt><span>units :</span></dt><dd>Kelvin</dd><dt><span>comments :</span></dt><dd>Estimated one standard error of near-surface non-diurnal sea water temperature estimate from drifting buoy measurements</dd></dl></div><div class='xr-var-data'><pre>[165754333 values with dtype=float64]</pre></div></li><li class='xr-var-item'><div class='xr-var-name'><span>err_sst2</span></div><div class='xr-var-dims'>(obs)</div><div class='xr-var-dtype'>float64</div><div class='xr-var-preview xr-preview'>...</div><input id='attrs-d896c224-9527-48f8-9a89-56b8f574dbaf' class='xr-var-attrs-in' type='checkbox' ><label for='attrs-d896c224-9527-48f8-9a89-56b8f574dbaf' title='Show/Hide attributes'><svg class='icon xr-icon-file-text2'><use xlink:href='#icon-file-text2'></use></svg></label><input id='data-1b06c850-7d7d-4fe9-9a7f-5e88668e8fe4' class='xr-var-data-in' type='checkbox'><label for='data-1b06c850-7d7d-4fe9-9a7f-5e88668e8fe4' title='Show/Hide data repr'><svg class='icon xr-icon-database'><use xlink:href='#icon-database'></use></svg></label><div class='xr-var-attrs'><dl class='xr-attrs'><dt><span>long_name :</span></dt><dd>Standard uncertainty of fitted diurnal sea water temperature anomaly</dd><dt><span>units :</span></dt><dd>Kelvin</dd><dt><span>comments :</span></dt><dd>Estimated one standard error of near-surface diurnal sea water temperature anomaly estimate from drifting buoy measurements</dd></dl></div><div class='xr-var-data'><pre>[165754333 values with dtype=float64]</pre></div></li><li class='xr-var-item'><div class='xr-var-name'><span>flg_sst</span></div><div class='xr-var-dims'>(obs)</div><div class='xr-var-dtype'>int8</div><div class='xr-var-preview xr-preview'>...</div><input id='attrs-d8fa27c2-5e79-4454-b18a-9387655c73c4' class='xr-var-attrs-in' type='checkbox' ><label for='attrs-d8fa27c2-5e79-4454-b18a-9387655c73c4' title='Show/Hide attributes'><svg class='icon xr-icon-file-text2'><use xlink:href='#icon-file-text2'></use></svg></label><input id='data-fbd08aae-6a16-40bc-91cd-b2c531478a16' class='xr-var-data-in' type='checkbox'><label for='data-fbd08aae-6a16-40bc-91cd-b2c531478a16' title='Show/Hide data repr'><svg class='icon xr-icon-database'><use xlink:href='#icon-database'></use></svg></label><div class='xr-var-attrs'><dl class='xr-attrs'><dt><span>long_name :</span></dt><dd>Fitted sea water temperature quality flag</dd><dt><span>units :</span></dt><dd>-</dd><dt><span>flag_values :</span></dt><dd>0, 1, 2, 3, 4, 5</dd><dt><span>flag_meanings :</span></dt><dd>no-estimate, no-uncertainty-estimate, estimate-not-in-range-uncertainty-not-in-range, estimate-not-in-range-uncertainty-in-range estimate-in-range-uncertainty-not-in-range, estimate-in-range-uncertainty-in-range</dd></dl></div><div class='xr-var-data'><pre>[165754333 values with dtype=int8]</pre></div></li><li class='xr-var-item'><div class='xr-var-name'><span>flg_sst1</span></div><div class='xr-var-dims'>(obs)</div><div class='xr-var-dtype'>int8</div><div class='xr-var-preview xr-preview'>...</div><input id='attrs-3ba5bc9a-e61b-4714-a4fc-2c50ce1d51f4' class='xr-var-attrs-in' type='checkbox' ><label for='attrs-3ba5bc9a-e61b-4714-a4fc-2c50ce1d51f4' title='Show/Hide attributes'><svg class='icon xr-icon-file-text2'><use xlink:href='#icon-file-text2'></use></svg></label><input id='data-d8763e3d-afa8-4534-adc5-abfae47da2d4' class='xr-var-data-in' type='checkbox'><label for='data-d8763e3d-afa8-4534-adc5-abfae47da2d4' title='Show/Hide data repr'><svg class='icon xr-icon-database'><use xlink:href='#icon-database'></use></svg></label><div class='xr-var-attrs'><dl class='xr-attrs'><dt><span>long_name :</span></dt><dd>Fitted non-diurnal sea water temperature quality flag</dd><dt><span>units :</span></dt><dd>-</dd><dt><span>flag_values :</span></dt><dd>0, 1, 2, 3, 4, 5</dd><dt><span>flag_meanings :</span></dt><dd>no-estimate, no-uncertainty-estimate, estimate-not-in-range-uncertainty-not-in-range, estimate-not-in-range-uncertainty-in-range estimate-in-range-uncertainty-not-in-range, estimate-in-range-uncertainty-in-range</dd></dl></div><div class='xr-var-data'><pre>[165754333 values with dtype=int8]</pre></div></li><li class='xr-var-item'><div class='xr-var-name'><span>flg_sst2</span></div><div class='xr-var-dims'>(obs)</div><div class='xr-var-dtype'>int8</div><div class='xr-var-preview xr-preview'>...</div><input id='attrs-0560879e-f031-4a93-b71b-633dd25f129b' class='xr-var-attrs-in' type='checkbox' ><label for='attrs-0560879e-f031-4a93-b71b-633dd25f129b' title='Show/Hide attributes'><svg class='icon xr-icon-file-text2'><use xlink:href='#icon-file-text2'></use></svg></label><input id='data-e74d9c25-beee-4713-b52d-00f8f8b0f36b' class='xr-var-data-in' type='checkbox'><label for='data-e74d9c25-beee-4713-b52d-00f8f8b0f36b' title='Show/Hide data repr'><svg class='icon xr-icon-database'><use xlink:href='#icon-database'></use></svg></label><div class='xr-var-attrs'><dl class='xr-attrs'><dt><span>long_name :</span></dt><dd>Fitted diurnal sea water temperature anomaly quality flag</dd><dt><span>units :</span></dt><dd>-</dd><dt><span>flag_values :</span></dt><dd>0, 1, 2, 3, 4, 5</dd><dt><span>flag_meanings :</span></dt><dd>no-estimate, no-uncertainty-estimate, estimate-not-in-range-uncertainty-not-in-range, estimate-not-in-range-uncertainty-in-range estimate-in-range-uncertainty-not-in-range, estimate-in-range-uncertainty-in-range</dd></dl></div><div class='xr-var-data'><pre>[165754333 values with dtype=int8]</pre></div></li><li class='xr-var-item'><div class='xr-var-name'><span>drogue_status</span></div><div class='xr-var-dims'>(obs)</div><div class='xr-var-dtype'>bool</div><div class='xr-var-preview xr-preview'>...</div><input id='attrs-d9895306-75e1-47fe-a549-ba28804d2099' class='xr-var-attrs-in' type='checkbox' ><label for='attrs-d9895306-75e1-47fe-a549-ba28804d2099' title='Show/Hide attributes'><svg class='icon xr-icon-file-text2'><use xlink:href='#icon-file-text2'></use></svg></label><input id='data-187e93d4-1fcf-4e17-81a5-bf330645d5c1' class='xr-var-data-in' type='checkbox'><label for='data-187e93d4-1fcf-4e17-81a5-bf330645d5c1' title='Show/Hide data repr'><svg class='icon xr-icon-database'><use xlink:href='#icon-database'></use></svg></label><div class='xr-var-attrs'><dl class='xr-attrs'><dt><span>long_name :</span></dt><dd>Status indicating the presence of the drogue</dd><dt><span>units :</span></dt><dd>-</dd><dt><span>flag_values :</span></dt><dd>1,0</dd><dt><span>flag_meanings :</span></dt><dd>drogued, undrogued</dd></dl></div><div class='xr-var-data'><pre>[165754333 values with dtype=bool]</pre></div></li></ul></div></li><li class='xr-section-item'><input id='section-c4ef4426-5065-414b-99d9-81f93b250b5c' class='xr-section-summary-in' type='checkbox' disabled ><label for='section-c4ef4426-5065-414b-99d9-81f93b250b5c' class='xr-section-summary'  title='Expand/collapse section'>Indexes: <span>(0)</span></label><div class='xr-section-inline-details'></div><div class='xr-section-details'><ul class='xr-var-list'></ul></div></li><li class='xr-section-item'><input id='section-a94b396e-f752-418f-adca-9dcfa2b4e41b' class='xr-section-summary-in' type='checkbox'  ><label for='section-a94b396e-f752-418f-adca-9dcfa2b4e41b' class='xr-section-summary' >Attributes: <span>(16)</span></label><div class='xr-section-inline-details'></div><div class='xr-section-details'><dl class='xr-attrs'><dt><span>title :</span></dt><dd>Global Drifter Program hourly drifting buoy collection</dd><dt><span>history :</span></dt><dd>Version 2.00.  Metadata from dirall.dat and deplog.dat</dd><dt><span>Conventions :</span></dt><dd>CF-1.6</dd><dt><span>date_created :</span></dt><dd>2022-12-09T06:02:29.684949</dd><dt><span>publisher_name :</span></dt><dd>GDP Drifter DAC</dd><dt><span>publisher_email :</span></dt><dd>aoml.dftr@noaa.gov</dd><dt><span>publisher_url :</span></dt><dd>https://www.aoml.noaa.gov/phod/gdp</dd><dt><span>licence :</span></dt><dd>freely available</dd><dt><span>processing_level :</span></dt><dd>Level 2 QC by GDP drifter DAC</dd><dt><span>metadata_link :</span></dt><dd>https://www.aoml.noaa.gov/phod/dac/dirall.html</dd><dt><span>contributor_name :</span></dt><dd>NOAA Global Drifter Program</dd><dt><span>contributor_role :</span></dt><dd>Data Acquisition Center</dd><dt><span>institution :</span></dt><dd>NOAA Atlantic Oceanographic and Meteorological Laboratory</dd><dt><span>acknowledgement :</span></dt><dd>Elipot, Shane; Sykulski, Adam; Lumpkin, Rick; Centurioni, Luca; Pazos, Mayra (2022). Hourly location, current velocity, and temperature collected from Global Drifter Program drifters world-wide. [indicate subset used]. NOAA National Centers for Environmental Information. Dataset. https://doi.org/10.25921/x46c-3620. Accessed [date]. Elipot et al. (2022): A Dataset of Hourly Sea Surface Temperature From Drifting Buoys, Scientific Data, 9, 567, https://dx.doi.org/10.1038/s41597-022-01670-2. Elipot et al. (2016): A global surface drifter dataset at hourly resolution, J. Geophys. Res.-Oceans, 121, https://dx.doi.org/10.1002/2016JC011716.</dd><dt><span>summary :</span></dt><dd>Global Drifter Program hourly data</dd><dt><span>doi :</span></dt><dd>10.25921/x46c-3620</dd></dl></div></li></ul></div></div>"
      ],
      "text/plain": [
       "<xarray.Dataset>\n",
       "Dimensions:                (traj: 17324, obs: 165754333)\n",
       "Coordinates:\n",
       "    ids                    (obs) int64 ...\n",
       "    time                   (obs) datetime64[ns] ...\n",
       "    lon                    (obs) float32 ...\n",
       "    lat                    (obs) float32 ...\n",
       "Dimensions without coordinates: traj, obs\n",
       "Data variables: (12/55)\n",
       "    ID                     (traj) int64 ...\n",
       "    rowsize                (traj) int32 ...\n",
       "    WMO                    (traj) int32 ...\n",
       "    expno                  (traj) int32 ...\n",
       "    deploy_date            (traj) datetime64[ns] ...\n",
       "    deploy_lat             (traj) float64 ...\n",
       "    ...                     ...\n",
       "    err_sst1               (obs) float64 ...\n",
       "    err_sst2               (obs) float64 ...\n",
       "    flg_sst                (obs) int8 ...\n",
       "    flg_sst1               (obs) int8 ...\n",
       "    flg_sst2               (obs) int8 ...\n",
       "    drogue_status          (obs) bool ...\n",
       "Attributes: (12/16)\n",
       "    title:             Global Drifter Program hourly drifting buoy collection\n",
       "    history:           Version 2.00.  Metadata from dirall.dat and deplog.dat\n",
       "    Conventions:       CF-1.6\n",
       "    date_created:      2022-12-09T06:02:29.684949\n",
       "    publisher_name:    GDP Drifter DAC\n",
       "    publisher_email:   aoml.dftr@noaa.gov\n",
       "    ...                ...\n",
       "    contributor_name:  NOAA Global Drifter Program\n",
       "    contributor_role:  Data Acquisition Center\n",
       "    institution:       NOAA Atlantic Oceanographic and Meteorological Laboratory\n",
       "    acknowledgement:   Elipot, Shane; Sykulski, Adam; Lumpkin, Rick; Centurio...\n",
       "    summary:           Global Drifter Program hourly data\n",
       "    doi:               10.25921/x46c-3620"
      ]
     },
     "execution_count": 12,
     "metadata": {},
     "output_type": "execute_result"
    }
   ],
   "source": [
    "ds"
   ]
  },
  {
   "cell_type": "code",
   "execution_count": 13,
   "metadata": {},
   "outputs": [],
   "source": [
    "hist,edges = np.histogram(ds.ve, 200, (-1,1))"
   ]
  },
  {
   "cell_type": "code",
   "execution_count": 14,
   "metadata": {},
   "outputs": [
    {
     "data": {
      "text/plain": [
       "[<matplotlib.lines.Line2D at 0x15d0a17d0>]"
      ]
     },
     "execution_count": 14,
     "metadata": {},
     "output_type": "execute_result"
    },
    {
     "data": {
      "image/png": "[encoded data removed]",
      "text/plain": [
       "<Figure size 640x480 with 1 Axes>"
      ]
     },
     "metadata": {},
     "output_type": "display_data"
    }
   ],
   "source": [
    "plt.plot(0.5*(edges[:-1]+edges[1:]),(hist),'-')"
   ]
  },
  {
   "attachments": {},
   "cell_type": "markdown",
   "metadata": {},
   "source": [
    "Some explanation about the ragged array representation of the data and how the GDP data are organized. In order to access the data for one given trajectory, one needs to build a trajectory index. This is conveniently done from the `rowsize` variable that indicates the number of rows in the ragged array for each trajectory. "
   ]
  },
  {
   "cell_type": "code",
   "execution_count": 15,
   "metadata": {},
   "outputs": [],
   "source": [
    "# create a trajectory index\n",
    "traj_idx = np.insert(np.cumsum(ds.rowsize.values), 0, 0)"
   ]
  },
  {
   "cell_type": "code",
   "execution_count": 16,
   "metadata": {},
   "outputs": [
    {
     "data": {
      "text/plain": [
       "[<matplotlib.lines.Line2D at 0x15e664c90>]"
      ]
     },
     "execution_count": 16,
     "metadata": {},
     "output_type": "execute_result"
    },
    {
     "data": {
      "image/png": "[encoded data removed]",
      "text/plain": [
       "<Figure size 640x480 with 1 Axes>"
      ]
     },
     "metadata": {},
     "output_type": "display_data"
    }
   ],
   "source": [
    "j = 100\n",
    "sli = slice(traj_idx[j], traj_idx[j+1])\n",
    "plt.plot(np.diff(ds.time[sli])/1e9,'.')"
   ]
  },
  {
   "cell_type": "code",
   "execution_count": 17,
   "metadata": {},
   "outputs": [
    {
     "data": {
      "text/html": [
       "<div><svg style=\"position: absolute; width: 0; height: 0; overflow: hidden\">\n",
       "<defs>\n",
       "<symbol id=\"icon-database\" viewBox=\"0 0 32 32\">\n",
       "<path d=\"M16 0c-8.837 0-16 2.239-16 5v4c0 2.761 7.163 5 16 5s16-2.239 16-5v-4c0-2.761-7.163-5-16-5z\"></path>\n",
       "<path d=\"M16 17c-8.837 0-16-2.239-16-5v6c0 2.761 7.163 5 16 5s16-2.239 16-5v-6c0 2.761-7.163 5-16 5z\"></path>\n",
       "<path d=\"M16 26c-8.837 0-16-2.239-16-5v6c0 2.761 7.163 5 16 5s16-2.239 16-5v-6c0 2.761-7.163 5-16 5z\"></path>\n",
       "</symbol>\n",
       "<symbol id=\"icon-file-text2\" viewBox=\"0 0 32 32\">\n",
       "<path d=\"M28.681 7.159c-0.694-0.947-1.662-2.053-2.724-3.116s-2.169-2.030-3.116-2.724c-1.612-1.182-2.393-1.319-2.841-1.319h-15.5c-1.378 0-2.5 1.121-2.5 2.5v27c0 1.378 1.122 2.5 2.5 2.5h23c1.378 0 2.5-1.122 2.5-2.5v-19.5c0-0.448-0.137-1.23-1.319-2.841zM24.543 5.457c0.959 0.959 1.712 1.825 2.268 2.543h-4.811v-4.811c0.718 0.556 1.584 1.309 2.543 2.268zM28 29.5c0 0.271-0.229 0.5-0.5 0.5h-23c-0.271 0-0.5-0.229-0.5-0.5v-27c0-0.271 0.229-0.5 0.5-0.5 0 0 15.499-0 15.5 0v7c0 0.552 0.448 1 1 1h7v19.5z\"></path>\n",
       "<path d=\"M23 26h-14c-0.552 0-1-0.448-1-1s0.448-1 1-1h14c0.552 0 1 0.448 1 1s-0.448 1-1 1z\"></path>\n",
       "<path d=\"M23 22h-14c-0.552 0-1-0.448-1-1s0.448-1 1-1h14c0.552 0 1 0.448 1 1s-0.448 1-1 1z\"></path>\n",
       "<path d=\"M23 18h-14c-0.552 0-1-0.448-1-1s0.448-1 1-1h14c0.552 0 1 0.448 1 1s-0.448 1-1 1z\"></path>\n",
       "</symbol>\n",
       "</defs>\n",
       "</svg>\n",
       "<style>/* CSS stylesheet for displaying xarray objects in jupyterlab.\n",
       " *\n",
       " */\n",
       "\n",
       ":root {\n",
       "  --xr-font-color0: var(--jp-content-font-color0, rgba(0, 0, 0, 1));\n",
       "  --xr-font-color2: var(--jp-content-font-color2, rgba(0, 0, 0, 0.54));\n",
       "  --xr-font-color3: var(--jp-content-font-color3, rgba(0, 0, 0, 0.38));\n",
       "  --xr-border-color: var(--jp-border-color2, #e0e0e0);\n",
       "  --xr-disabled-color: var(--jp-layout-color3, #bdbdbd);\n",
       "  --xr-background-color: var(--jp-layout-color0, white);\n",
       "  --xr-background-color-row-even: var(--jp-layout-color1, white);\n",
       "  --xr-background-color-row-odd: var(--jp-layout-color2, #eeeeee);\n",
       "}\n",
       "\n",
       "html[theme=dark],\n",
       "body[data-theme=dark],\n",
       "body.vscode-dark {\n",
       "  --xr-font-color0: rgba(255, 255, 255, 1);\n",
       "  --xr-font-color2: rgba(255, 255, 255, 0.54);\n",
       "  --xr-font-color3: rgba(255, 255, 255, 0.38);\n",
       "  --xr-border-color: #1F1F1F;\n",
       "  --xr-disabled-color: #515151;\n",
       "  --xr-background-color: #111111;\n",
       "  --xr-background-color-row-even: #111111;\n",
       "  --xr-background-color-row-odd: #313131;\n",
       "}\n",
       "\n",
       ".xr-wrap {\n",
       "  display: block !important;\n",
       "  min-width: 300px;\n",
       "  max-width: 700px;\n",
       "}\n",
       "\n",
       ".xr-text-repr-fallback {\n",
       "  /* fallback to plain text repr when CSS is not injected (untrusted notebook) */\n",
       "  display: none;\n",
       "}\n",
       "\n",
       ".xr-header {\n",
       "  padding-top: 6px;\n",
       "  padding-bottom: 6px;\n",
       "  margin-bottom: 4px;\n",
       "  border-bottom: solid 1px var(--xr-border-color);\n",
       "}\n",
       "\n",
       ".xr-header > div,\n",
       ".xr-header > ul {\n",
       "  display: inline;\n",
       "  margin-top: 0;\n",
       "  margin-bottom: 0;\n",
       "}\n",
       "\n",
       ".xr-obj-type,\n",
       ".xr-array-name {\n",
       "  margin-left: 2px;\n",
       "  margin-right: 10px;\n",
       "}\n",
       "\n",
       ".xr-obj-type {\n",
       "  color: var(--xr-font-color2);\n",
       "}\n",
       "\n",
       ".xr-sections {\n",
       "  padding-left: 0 !important;\n",
       "  display: grid;\n",
       "  grid-template-columns: 150px auto auto 1fr 20px 20px;\n",
       "}\n",
       "\n",
       ".xr-section-item {\n",
       "  display: contents;\n",
       "}\n",
       "\n",
       ".xr-section-item input {\n",
       "  display: none;\n",
       "}\n",
       "\n",
       ".xr-section-item input + label {\n",
       "  color: var(--xr-disabled-color);\n",
       "}\n",
       "\n",
       ".xr-section-item input:enabled + label {\n",
       "  cursor: pointer;\n",
       "  color: var(--xr-font-color2);\n",
       "}\n",
       "\n",
       ".xr-section-item input:enabled + label:hover {\n",
       "  color: var(--xr-font-color0);\n",
       "}\n",
       "\n",
       ".xr-section-summary {\n",
       "  grid-column: 1;\n",
       "  color: var(--xr-font-color2);\n",
       "  font-weight: 500;\n",
       "}\n",
       "\n",
       ".xr-section-summary > span {\n",
       "  display: inline-block;\n",
       "  padding-left: 0.5em;\n",
       "}\n",
       "\n",
       ".xr-section-summary-in:disabled + label {\n",
       "  color: var(--xr-font-color2);\n",
       "}\n",
       "\n",
       ".xr-section-summary-in + label:before {\n",
       "  display: inline-block;\n",
       "  content: '►';\n",
       "  font-size: 11px;\n",
       "  width: 15px;\n",
       "  text-align: center;\n",
       "}\n",
       "\n",
       ".xr-section-summary-in:disabled + label:before {\n",
       "  color: var(--xr-disabled-color);\n",
       "}\n",
       "\n",
       ".xr-section-summary-in:checked + label:before {\n",
       "  content: '▼';\n",
       "}\n",
       "\n",
       ".xr-section-summary-in:checked + label > span {\n",
       "  display: none;\n",
       "}\n",
       "\n",
       ".xr-section-summary,\n",
       ".xr-section-inline-details {\n",
       "  padding-top: 4px;\n",
       "  padding-bottom: 4px;\n",
       "}\n",
       "\n",
       ".xr-section-inline-details {\n",
       "  grid-column: 2 / -1;\n",
       "}\n",
       "\n",
       ".xr-section-details {\n",
       "  display: none;\n",
       "  grid-column: 1 / -1;\n",
       "  margin-bottom: 5px;\n",
       "}\n",
       "\n",
       ".xr-section-summary-in:checked ~ .xr-section-details {\n",
       "  display: contents;\n",
       "}\n",
       "\n",
       ".xr-array-wrap {\n",
       "  grid-column: 1 / -1;\n",
       "  display: grid;\n",
       "  grid-template-columns: 20px auto;\n",
       "}\n",
       "\n",
       ".xr-array-wrap > label {\n",
       "  grid-column: 1;\n",
       "  vertical-align: top;\n",
       "}\n",
       "\n",
       ".xr-preview {\n",
       "  color: var(--xr-font-color3);\n",
       "}\n",
       "\n",
       ".xr-array-preview,\n",
       ".xr-array-data {\n",
       "  padding: 0 5px !important;\n",
       "  grid-column: 2;\n",
       "}\n",
       "\n",
       ".xr-array-data,\n",
       ".xr-array-in:checked ~ .xr-array-preview {\n",
       "  display: none;\n",
       "}\n",
       "\n",
       ".xr-array-in:checked ~ .xr-array-data,\n",
       ".xr-array-preview {\n",
       "  display: inline-block;\n",
       "}\n",
       "\n",
       ".xr-dim-list {\n",
       "  display: inline-block !important;\n",
       "  list-style: none;\n",
       "  padding: 0 !important;\n",
       "  margin: 0;\n",
       "}\n",
       "\n",
       ".xr-dim-list li {\n",
       "  display: inline-block;\n",
       "  padding: 0;\n",
       "  margin: 0;\n",
       "}\n",
       "\n",
       ".xr-dim-list:before {\n",
       "  content: '(';\n",
       "}\n",
       "\n",
       ".xr-dim-list:after {\n",
       "  content: ')';\n",
       "}\n",
       "\n",
       ".xr-dim-list li:not(:last-child):after {\n",
       "  content: ',';\n",
       "  padding-right: 5px;\n",
       "}\n",
       "\n",
       ".xr-has-index {\n",
       "  font-weight: bold;\n",
       "}\n",
       "\n",
       ".xr-var-list,\n",
       ".xr-var-item {\n",
       "  display: contents;\n",
       "}\n",
       "\n",
       ".xr-var-item > div,\n",
       ".xr-var-item label,\n",
       ".xr-var-item > .xr-var-name span {\n",
       "  background-color: var(--xr-background-color-row-even);\n",
       "  margin-bottom: 0;\n",
       "}\n",
       "\n",
       ".xr-var-item > .xr-var-name:hover span {\n",
       "  padding-right: 5px;\n",
       "}\n",
       "\n",
       ".xr-var-list > li:nth-child(odd) > div,\n",
       ".xr-var-list > li:nth-child(odd) > label,\n",
       ".xr-var-list > li:nth-child(odd) > .xr-var-name span {\n",
       "  background-color: var(--xr-background-color-row-odd);\n",
       "}\n",
       "\n",
       ".xr-var-name {\n",
       "  grid-column: 1;\n",
       "}\n",
       "\n",
       ".xr-var-dims {\n",
       "  grid-column: 2;\n",
       "}\n",
       "\n",
       ".xr-var-dtype {\n",
       "  grid-column: 3;\n",
       "  text-align: right;\n",
       "  color: var(--xr-font-color2);\n",
       "}\n",
       "\n",
       ".xr-var-preview {\n",
       "  grid-column: 4;\n",
       "}\n",
       "\n",
       ".xr-index-preview {\n",
       "  grid-column: 2 / 5;\n",
       "  color: var(--xr-font-color2);\n",
       "}\n",
       "\n",
       ".xr-var-name,\n",
       ".xr-var-dims,\n",
       ".xr-var-dtype,\n",
       ".xr-preview,\n",
       ".xr-attrs dt {\n",
       "  white-space: nowrap;\n",
       "  overflow: hidden;\n",
       "  text-overflow: ellipsis;\n",
       "  padding-right: 10px;\n",
       "}\n",
       "\n",
       ".xr-var-name:hover,\n",
       ".xr-var-dims:hover,\n",
       ".xr-var-dtype:hover,\n",
       ".xr-attrs dt:hover {\n",
       "  overflow: visible;\n",
       "  width: auto;\n",
       "  z-index: 1;\n",
       "}\n",
       "\n",
       ".xr-var-attrs,\n",
       ".xr-var-data,\n",
       ".xr-index-data {\n",
       "  display: none;\n",
       "  background-color: var(--xr-background-color) !important;\n",
       "  padding-bottom: 5px !important;\n",
       "}\n",
       "\n",
       ".xr-var-attrs-in:checked ~ .xr-var-attrs,\n",
       ".xr-var-data-in:checked ~ .xr-var-data,\n",
       ".xr-index-data-in:checked ~ .xr-index-data {\n",
       "  display: block;\n",
       "}\n",
       "\n",
       ".xr-var-data > table {\n",
       "  float: right;\n",
       "}\n",
       "\n",
       ".xr-var-name span,\n",
       ".xr-var-data,\n",
       ".xr-index-name div,\n",
       ".xr-index-data,\n",
       ".xr-attrs {\n",
       "  padding-left: 25px !important;\n",
       "}\n",
       "\n",
       ".xr-attrs,\n",
       ".xr-var-attrs,\n",
       ".xr-var-data,\n",
       ".xr-index-data {\n",
       "  grid-column: 1 / -1;\n",
       "}\n",
       "\n",
       "dl.xr-attrs {\n",
       "  padding: 0;\n",
       "  margin: 0;\n",
       "  display: grid;\n",
       "  grid-template-columns: 125px auto;\n",
       "}\n",
       "\n",
       ".xr-attrs dt,\n",
       ".xr-attrs dd {\n",
       "  padding: 0;\n",
       "  margin: 0;\n",
       "  float: left;\n",
       "  padding-right: 10px;\n",
       "  width: auto;\n",
       "}\n",
       "\n",
       ".xr-attrs dt {\n",
       "  font-weight: normal;\n",
       "  grid-column: 1;\n",
       "}\n",
       "\n",
       ".xr-attrs dt:hover span {\n",
       "  display: inline-block;\n",
       "  background: var(--xr-background-color);\n",
       "  padding-right: 10px;\n",
       "}\n",
       "\n",
       ".xr-attrs dd {\n",
       "  grid-column: 2;\n",
       "  white-space: pre-wrap;\n",
       "  word-break: break-all;\n",
       "}\n",
       "\n",
       ".xr-icon-database,\n",
       ".xr-icon-file-text2,\n",
       ".xr-no-icon {\n",
       "  display: inline-block;\n",
       "  vertical-align: middle;\n",
       "  width: 1em;\n",
       "  height: 1.5em !important;\n",
       "  stroke-width: 0;\n",
       "  stroke: currentColor;\n",
       "  fill: currentColor;\n",
       "}\n",
       "</style><pre class='xr-text-repr-fallback'>&lt;xarray.DataArray &#x27;time&#x27; (obs: 17874)&gt;\n",
       "[17874 values with dtype=datetime64[ns]]\n",
       "Coordinates:\n",
       "    ids      (obs) int64 ...\n",
       "    time     (obs) datetime64[ns] ...\n",
       "    lon      (obs) float32 ...\n",
       "    lat      (obs) float32 ...\n",
       "Dimensions without coordinates: obs\n",
       "Attributes:\n",
       "    long_name:  Time</pre><div class='xr-wrap' style='display:none'><div class='xr-header'><div class='xr-obj-type'>xarray.DataArray</div><div class='xr-array-name'>'time'</div><ul class='xr-dim-list'><li><span>obs</span>: 17874</li></ul></div><ul class='xr-sections'><li class='xr-section-item'><div class='xr-array-wrap'><input id='section-66807f23-227c-4573-976f-11c191861067' class='xr-array-in' type='checkbox' checked><label for='section-66807f23-227c-4573-976f-11c191861067' title='Show/hide data repr'><svg class='icon xr-icon-database'><use xlink:href='#icon-database'></use></svg></label><div class='xr-array-preview xr-preview'><span>...</span></div><div class='xr-array-data'><pre>[17874 values with dtype=datetime64[ns]]</pre></div></div></li><li class='xr-section-item'><input id='section-a9c649af-fffb-42f0-804d-01051478fe22' class='xr-section-summary-in' type='checkbox'  checked><label for='section-a9c649af-fffb-42f0-804d-01051478fe22' class='xr-section-summary' >Coordinates: <span>(4)</span></label><div class='xr-section-inline-details'></div><div class='xr-section-details'><ul class='xr-var-list'><li class='xr-var-item'><div class='xr-var-name'><span>ids</span></div><div class='xr-var-dims'>(obs)</div><div class='xr-var-dtype'>int64</div><div class='xr-var-preview xr-preview'>...</div><input id='attrs-641e4616-bb67-4320-9d7a-a35e58ed5d2f' class='xr-var-attrs-in' type='checkbox' ><label for='attrs-641e4616-bb67-4320-9d7a-a35e58ed5d2f' title='Show/Hide attributes'><svg class='icon xr-icon-file-text2'><use xlink:href='#icon-file-text2'></use></svg></label><input id='data-263582ef-07cd-47ec-b25f-89377b430b2e' class='xr-var-data-in' type='checkbox'><label for='data-263582ef-07cd-47ec-b25f-89377b430b2e' title='Show/Hide data repr'><svg class='icon xr-icon-database'><use xlink:href='#icon-database'></use></svg></label><div class='xr-var-attrs'><dl class='xr-attrs'><dt><span>long_name :</span></dt><dd>Global Drifter Program Buoy ID repeated along observations</dd><dt><span>units :</span></dt><dd>-</dd></dl></div><div class='xr-var-data'><pre>[17874 values with dtype=int64]</pre></div></li><li class='xr-var-item'><div class='xr-var-name'><span>time</span></div><div class='xr-var-dims'>(obs)</div><div class='xr-var-dtype'>datetime64[ns]</div><div class='xr-var-preview xr-preview'>...</div><input id='attrs-91a817f4-a248-4ce8-8e7d-173d9102d05b' class='xr-var-attrs-in' type='checkbox' ><label for='attrs-91a817f4-a248-4ce8-8e7d-173d9102d05b' title='Show/Hide attributes'><svg class='icon xr-icon-file-text2'><use xlink:href='#icon-file-text2'></use></svg></label><input id='data-c3511bfd-10de-44b9-83c5-6af1634c085c' class='xr-var-data-in' type='checkbox'><label for='data-c3511bfd-10de-44b9-83c5-6af1634c085c' title='Show/Hide data repr'><svg class='icon xr-icon-database'><use xlink:href='#icon-database'></use></svg></label><div class='xr-var-attrs'><dl class='xr-attrs'><dt><span>long_name :</span></dt><dd>Time</dd></dl></div><div class='xr-var-data'><pre>[17874 values with dtype=datetime64[ns]]</pre></div></li><li class='xr-var-item'><div class='xr-var-name'><span>lon</span></div><div class='xr-var-dims'>(obs)</div><div class='xr-var-dtype'>float32</div><div class='xr-var-preview xr-preview'>...</div><input id='attrs-c64a185e-4098-41f3-8c61-5b4cbc38a809' class='xr-var-attrs-in' type='checkbox' ><label for='attrs-c64a185e-4098-41f3-8c61-5b4cbc38a809' title='Show/Hide attributes'><svg class='icon xr-icon-file-text2'><use xlink:href='#icon-file-text2'></use></svg></label><input id='data-db55becc-5fe8-4a76-8306-e33d5e489bd4' class='xr-var-data-in' type='checkbox'><label for='data-db55becc-5fe8-4a76-8306-e33d5e489bd4' title='Show/Hide data repr'><svg class='icon xr-icon-database'><use xlink:href='#icon-database'></use></svg></label><div class='xr-var-attrs'><dl class='xr-attrs'><dt><span>long_name :</span></dt><dd>Longitude</dd><dt><span>units :</span></dt><dd>degrees_east</dd></dl></div><div class='xr-var-data'><pre>[17874 values with dtype=float32]</pre></div></li><li class='xr-var-item'><div class='xr-var-name'><span>lat</span></div><div class='xr-var-dims'>(obs)</div><div class='xr-var-dtype'>float32</div><div class='xr-var-preview xr-preview'>...</div><input id='attrs-50620fd7-e37b-4671-a723-62bd63fd86de' class='xr-var-attrs-in' type='checkbox' ><label for='attrs-50620fd7-e37b-4671-a723-62bd63fd86de' title='Show/Hide attributes'><svg class='icon xr-icon-file-text2'><use xlink:href='#icon-file-text2'></use></svg></label><input id='data-c29c6c3b-33bf-46cd-b294-89ecd49c0986' class='xr-var-data-in' type='checkbox'><label for='data-c29c6c3b-33bf-46cd-b294-89ecd49c0986' title='Show/Hide data repr'><svg class='icon xr-icon-database'><use xlink:href='#icon-database'></use></svg></label><div class='xr-var-attrs'><dl class='xr-attrs'><dt><span>long_name :</span></dt><dd>Latitude</dd><dt><span>units :</span></dt><dd>degrees_north</dd></dl></div><div class='xr-var-data'><pre>[17874 values with dtype=float32]</pre></div></li></ul></div></li><li class='xr-section-item'><input id='section-0ee7d2e1-c540-4399-98a8-24ca04c6b897' class='xr-section-summary-in' type='checkbox' disabled ><label for='section-0ee7d2e1-c540-4399-98a8-24ca04c6b897' class='xr-section-summary'  title='Expand/collapse section'>Indexes: <span>(0)</span></label><div class='xr-section-inline-details'></div><div class='xr-section-details'><ul class='xr-var-list'></ul></div></li><li class='xr-section-item'><input id='section-fb874c2c-0680-4a20-bfc5-87415a7233ef' class='xr-section-summary-in' type='checkbox'  checked><label for='section-fb874c2c-0680-4a20-bfc5-87415a7233ef' class='xr-section-summary' >Attributes: <span>(1)</span></label><div class='xr-section-inline-details'></div><div class='xr-section-details'><dl class='xr-attrs'><dt><span>long_name :</span></dt><dd>Time</dd></dl></div></li></ul></div></div>"
      ],
      "text/plain": [
       "<xarray.DataArray 'time' (obs: 17874)>\n",
       "[17874 values with dtype=datetime64[ns]]\n",
       "Coordinates:\n",
       "    ids      (obs) int64 ...\n",
       "    time     (obs) datetime64[ns] ...\n",
       "    lon      (obs) float32 ...\n",
       "    lat      (obs) float32 ...\n",
       "Dimensions without coordinates: obs\n",
       "Attributes:\n",
       "    long_name:  Time"
      ]
     },
     "execution_count": 17,
     "metadata": {},
     "output_type": "execute_result"
    }
   ],
   "source": [
    "time = ds.time[sli]\n",
    "time"
   ]
  },
  {
   "cell_type": "code",
   "execution_count": 18,
   "metadata": {},
   "outputs": [
    {
     "data": {
      "text/plain": [
       "(array([17832, 17862, 17867]),)"
      ]
     },
     "execution_count": 18,
     "metadata": {},
     "output_type": "execute_result"
    }
   ],
   "source": [
    "q = np.where(np.diff(time)>np.timedelta64(3600, 's'))\n",
    "q"
   ]
  },
  {
   "cell_type": "code",
   "execution_count": 19,
   "metadata": {},
   "outputs": [
    {
     "name": "stdout",
     "output_type": "stream",
     "text": [
      "\u001b[0;31mSignature:\u001b[0m\n",
      "\u001b[0msegment\u001b[0m\u001b[0;34m(\u001b[0m\u001b[0;34m\u001b[0m\n",
      "\u001b[0;34m\u001b[0m    \u001b[0mx\u001b[0m\u001b[0;34m:\u001b[0m \u001b[0mnumpy\u001b[0m\u001b[0;34m.\u001b[0m\u001b[0mndarray\u001b[0m\u001b[0;34m,\u001b[0m\u001b[0;34m\u001b[0m\n",
      "\u001b[0;34m\u001b[0m    \u001b[0mtolerance\u001b[0m\u001b[0;34m:\u001b[0m \u001b[0mUnion\u001b[0m\u001b[0;34m[\u001b[0m\u001b[0mfloat\u001b[0m\u001b[0;34m,\u001b[0m \u001b[0mnumpy\u001b[0m\u001b[0;34m.\u001b[0m\u001b[0mtimedelta64\u001b[0m\u001b[0;34m,\u001b[0m \u001b[0mdatetime\u001b[0m\u001b[0;34m.\u001b[0m\u001b[0mtimedelta\u001b[0m\u001b[0;34m,\u001b[0m \u001b[0mpandas\u001b[0m\u001b[0;34m.\u001b[0m\u001b[0m_libs\u001b[0m\u001b[0;34m.\u001b[0m\u001b[0mtslibs\u001b[0m\u001b[0;34m.\u001b[0m\u001b[0mtimedeltas\u001b[0m\u001b[0;34m.\u001b[0m\u001b[0mTimedelta\u001b[0m\u001b[0;34m]\u001b[0m\u001b[0;34m,\u001b[0m\u001b[0;34m\u001b[0m\n",
      "\u001b[0;34m\u001b[0m    \u001b[0mrowsize\u001b[0m\u001b[0;34m:\u001b[0m \u001b[0mnumpy\u001b[0m\u001b[0;34m.\u001b[0m\u001b[0mndarray\u001b[0m\u001b[0;34m[\u001b[0m\u001b[0mint\u001b[0m\u001b[0;34m]\u001b[0m \u001b[0;34m=\u001b[0m \u001b[0;32mNone\u001b[0m\u001b[0;34m,\u001b[0m\u001b[0;34m\u001b[0m\n",
      "\u001b[0;34m\u001b[0m\u001b[0;34m)\u001b[0m \u001b[0;34m->\u001b[0m \u001b[0mnumpy\u001b[0m\u001b[0;34m.\u001b[0m\u001b[0mndarray\u001b[0m\u001b[0;34m[\u001b[0m\u001b[0mint\u001b[0m\u001b[0;34m]\u001b[0m\u001b[0;34m\u001b[0m\u001b[0;34m\u001b[0m\u001b[0m\n",
      "\u001b[0;31mDocstring:\u001b[0m\n",
      "Segment an array into contiguous segments.\n",
      "\n",
      "Parameters\n",
      "----------\n",
      "x : list, np.ndarray, or xr.DataArray\n",
      "    An array to segment.\n",
      "tolerance : float, np.timedelta64, timedelta, pd.Timedelta\n",
      "    The maximum signed difference between consecutive points in a segment.\n",
      "rowsize : np.ndarray[int], optional\n",
      "    The size of rows if x is a ragged array. If present, x will be\n",
      "    segmented both by gaps that exceed the tolerance, and by rows\n",
      "    of the ragged array.\n",
      "\n",
      "Returns\n",
      "-------\n",
      "segment_sizes : np.ndarray[int]\n",
      "    An array of row-sizes that segment the input array into contiguous segments.\n",
      "\n",
      "Examples\n",
      "--------\n",
      "\n",
      "The simplest use of ``segment`` is to provide a tolerance value that is\n",
      "used to segment an array into contiguous segments.\n",
      "\n",
      ">>> x = [0, 1, 1, 1, 2, 2, 3, 3, 3, 3, 4]\n",
      ">>> segment(x, 0.5)\n",
      "array([1, 3, 2, 4, 1])\n",
      "\n",
      "If the array represents time and the tolerance is a timedelta,\n",
      "the same logic applies.\n",
      "\n",
      ">>> x = np.array([np.datetime64(\"2023-01-01\"), np.datetime64(\"2023-01-02\"),\n",
      "                  np.datetime64(\"2023-01-03\"), np.datetime64(\"2023-02-01\"),\n",
      "                  np.datetime64(\"2023-02-02\")])\n",
      ">>> segment(x, np.timedelta64(1, \"D\"))\n",
      "np.array([3, 2])\n",
      "\n",
      "If the array is already previously segmented (e.g. multiple trajectories\n",
      "as a ragged array), then the ``rowsize`` argument can be used to preserve\n",
      "the input segments.\n",
      "\n",
      ">>> rowsize = [3, 2, 6]\n",
      ">>> segment(x, 0.5, rowsize)\n",
      "array([1, 2, 1, 1, 1, 4, 1])\n",
      "\n",
      "The tolerance can also be negative. In this case, the segments are\n",
      "determined by the gaps where the negative difference exceeds the negative\n",
      "value of the tolerance, i.e. where ``x[n+1] - x[n] < -tolerance``.\n",
      "\n",
      ">>> x = [0, 1, 2, 0, 1, 2]\n",
      ">>> segment(x, -0.5)\n",
      "array([3, 3])\n",
      "\n",
      "To segment an array for both positive and negative gaps, invoke the function\n",
      "twice, once for a positive tolerance and once for a negative tolerance.\n",
      "The result of the first invocation can be passed as the ``rowsize`` argument\n",
      "to the first ``segment`` invocation.\n",
      "\n",
      ">>> x = [1, 1, 2, 2, 1, 1, 2, 2]\n",
      ">>> segment(x, 0.5, rowsize=segment(x, -0.5))\n",
      "array([2, 2, 2, 2])\n",
      "\u001b[0;31mFile:\u001b[0m      ~/opt/mambaforge/envs/cdex/lib/python3.11/site-packages/clouddrift/analysis.py\n",
      "\u001b[0;31mType:\u001b[0m      function"
     ]
    }
   ],
   "source": [
    "segment?"
   ]
  },
  {
   "cell_type": "code",
   "execution_count": 20,
   "metadata": {},
   "outputs": [
    {
     "name": "stdout",
     "output_type": "stream",
     "text": [
      "[False False False False False False False False False False]\n"
     ]
    },
    {
     "data": {
      "text/plain": [
       "array([1, 3, 2, 4, 1])"
      ]
     },
     "execution_count": 20,
     "metadata": {},
     "output_type": "execute_result"
    }
   ],
   "source": [
    "x = [0, 1, 1, 1, 2, 2, 3, 3, 3, 3, 4]\n",
    "print(np.diff(x)>1)\n",
    "segment(x,0.5)"
   ]
  },
  {
   "cell_type": "code",
   "execution_count": 21,
   "metadata": {},
   "outputs": [],
   "source": [
    "from datetime import timedelta"
   ]
  },
  {
   "cell_type": "code",
   "execution_count": 22,
   "metadata": {},
   "outputs": [
    {
     "data": {
      "text/plain": [
       "numpy.timedelta64(3600,'s')"
      ]
     },
     "execution_count": 22,
     "metadata": {},
     "output_type": "execute_result"
    }
   ],
   "source": [
    "dt = np.timedelta64(3600, 's') # timedelta(seconds=1800)\n",
    "#dt = 1800\n",
    "dt"
   ]
  },
  {
   "cell_type": "code",
   "execution_count": 23,
   "metadata": {},
   "outputs": [
    {
     "data": {
      "text/plain": [
       "array([17833,    30,     5,     6])"
      ]
     },
     "execution_count": 23,
     "metadata": {},
     "output_type": "execute_result"
    }
   ],
   "source": [
    "row1 = segment(time,tolerance=dt,rowsize=np.array([17874]))\n",
    "row1"
   ]
  },
  {
   "cell_type": "code",
   "execution_count": 24,
   "metadata": {},
   "outputs": [
    {
     "data": {
      "text/plain": [
       "17874"
      ]
     },
     "metadata": {},
     "output_type": "display_data"
    },
    {
     "data": {
      "text/plain": [
       "17874"
      ]
     },
     "metadata": {},
     "output_type": "display_data"
    }
   ],
   "source": [
    "display(np.sum(row1))\n",
    "display(len(time))"
   ]
  },
  {
   "cell_type": "code",
   "execution_count": 25,
   "metadata": {},
   "outputs": [
    {
     "ename": "KeyboardInterrupt",
     "evalue": "",
     "output_type": "error",
     "traceback": [
      "\u001b[0;31m---------------------------------------------------------------------------\u001b[0m",
      "\u001b[0;31mKeyboardInterrupt\u001b[0m                         Traceback (most recent call last)",
      "Cell \u001b[0;32mIn[25], line 1\u001b[0m\n\u001b[0;32m----> 1\u001b[0m newrowsize1 \u001b[39m=\u001b[39m segment(ds\u001b[39m.\u001b[39;49mtime,dt,rowsize\u001b[39m=\u001b[39;49mds\u001b[39m.\u001b[39;49mrowsize)\n",
      "File \u001b[0;32m~/opt/mambaforge/envs/cdex/lib/python3.11/site-packages/clouddrift/analysis.py:363\u001b[0m, in \u001b[0;36msegment\u001b[0;34m(x, tolerance, rowsize)\u001b[0m\n\u001b[1;32m    361\u001b[0m     \u001b[39mreturn\u001b[39;00m segment_sizes\n\u001b[1;32m    362\u001b[0m \u001b[39melse\u001b[39;00m:\n\u001b[0;32m--> 363\u001b[0m     \u001b[39mif\u001b[39;00m \u001b[39mnot\u001b[39;00m \u001b[39msum\u001b[39;49m(rowsize) \u001b[39m==\u001b[39m \u001b[39mlen\u001b[39m(x):\n\u001b[1;32m    364\u001b[0m         \u001b[39mraise\u001b[39;00m \u001b[39mValueError\u001b[39;00m(\u001b[39m\"\u001b[39m\u001b[39mThe sum of rowsize must equal the length of x.\u001b[39m\u001b[39m\"\u001b[39m)\n\u001b[1;32m    365\u001b[0m     segment_sizes \u001b[39m=\u001b[39m []\n",
      "File \u001b[0;32m~/opt/mambaforge/envs/cdex/lib/python3.11/site-packages/xarray/core/_typed_ops.py:206\u001b[0m, in \u001b[0;36mDataArrayOpsMixin.__add__\u001b[0;34m(self, other)\u001b[0m\n\u001b[1;32m    205\u001b[0m \u001b[39mdef\u001b[39;00m \u001b[39m__add__\u001b[39m(\u001b[39mself\u001b[39m, other):\n\u001b[0;32m--> 206\u001b[0m     \u001b[39mreturn\u001b[39;00m \u001b[39mself\u001b[39;49m\u001b[39m.\u001b[39;49m_binary_op(other, operator\u001b[39m.\u001b[39;49madd)\n",
      "File \u001b[0;32m~/opt/mambaforge/envs/cdex/lib/python3.11/site-packages/xarray/core/dataarray.py:4566\u001b[0m, in \u001b[0;36mDataArray._binary_op\u001b[0;34m(self, other, f, reflexive)\u001b[0m\n\u001b[1;32m   4562\u001b[0m other_variable \u001b[39m=\u001b[39m \u001b[39mgetattr\u001b[39m(other, \u001b[39m\"\u001b[39m\u001b[39mvariable\u001b[39m\u001b[39m\"\u001b[39m, other)\n\u001b[1;32m   4563\u001b[0m other_coords \u001b[39m=\u001b[39m \u001b[39mgetattr\u001b[39m(other, \u001b[39m\"\u001b[39m\u001b[39mcoords\u001b[39m\u001b[39m\"\u001b[39m, \u001b[39mNone\u001b[39;00m)\n\u001b[1;32m   4565\u001b[0m variable \u001b[39m=\u001b[39m (\n\u001b[0;32m-> 4566\u001b[0m     f(\u001b[39mself\u001b[39m\u001b[39m.\u001b[39mvariable, other_variable)\n\u001b[1;32m   4567\u001b[0m     \u001b[39mif\u001b[39;00m \u001b[39mnot\u001b[39;00m reflexive\n\u001b[1;32m   4568\u001b[0m     \u001b[39melse\u001b[39;00m f(other_variable, \u001b[39mself\u001b[39m\u001b[39m.\u001b[39mvariable)\n\u001b[1;32m   4569\u001b[0m )\n\u001b[1;32m   4570\u001b[0m coords, indexes \u001b[39m=\u001b[39m \u001b[39mself\u001b[39m\u001b[39m.\u001b[39mcoords\u001b[39m.\u001b[39m_merge_raw(other_coords, reflexive)\n\u001b[1;32m   4571\u001b[0m name \u001b[39m=\u001b[39m \u001b[39mself\u001b[39m\u001b[39m.\u001b[39m_result_name(other)\n",
      "File \u001b[0;32m~/opt/mambaforge/envs/cdex/lib/python3.11/site-packages/xarray/core/_typed_ops.py:396\u001b[0m, in \u001b[0;36mVariableOpsMixin.__add__\u001b[0;34m(self, other)\u001b[0m\n\u001b[1;32m    395\u001b[0m \u001b[39mdef\u001b[39;00m \u001b[39m__add__\u001b[39m(\u001b[39mself\u001b[39m, other):\n\u001b[0;32m--> 396\u001b[0m     \u001b[39mreturn\u001b[39;00m \u001b[39mself\u001b[39;49m\u001b[39m.\u001b[39;49m_binary_op(other, operator\u001b[39m.\u001b[39;49madd)\n",
      "File \u001b[0;32m~/opt/mambaforge/envs/cdex/lib/python3.11/site-packages/xarray/core/variable.py:2657\u001b[0m, in \u001b[0;36mVariable._binary_op\u001b[0;34m(self, other, f, reflexive)\u001b[0m\n\u001b[1;32m   2655\u001b[0m     other_data, self_data, dims \u001b[39m=\u001b[39m _broadcast_compat_data(other, \u001b[39mself\u001b[39m)\n\u001b[1;32m   2656\u001b[0m \u001b[39melse\u001b[39;00m:\n\u001b[0;32m-> 2657\u001b[0m     self_data, other_data, dims \u001b[39m=\u001b[39m _broadcast_compat_data(\u001b[39mself\u001b[39;49m, other)\n\u001b[1;32m   2658\u001b[0m keep_attrs \u001b[39m=\u001b[39m _get_keep_attrs(default\u001b[39m=\u001b[39m\u001b[39mFalse\u001b[39;00m)\n\u001b[1;32m   2659\u001b[0m attrs \u001b[39m=\u001b[39m \u001b[39mself\u001b[39m\u001b[39m.\u001b[39m_attrs \u001b[39mif\u001b[39;00m keep_attrs \u001b[39melse\u001b[39;00m \u001b[39mNone\u001b[39;00m\n",
      "File \u001b[0;32m~/opt/mambaforge/envs/cdex/lib/python3.11/site-packages/xarray/core/variable.py:3147\u001b[0m, in \u001b[0;36m_broadcast_compat_data\u001b[0;34m(self, other)\u001b[0m\n\u001b[1;32m   3145\u001b[0m     new_self, new_other \u001b[39m=\u001b[39m _broadcast_compat_variables(\u001b[39mself\u001b[39m, other)\n\u001b[1;32m   3146\u001b[0m     self_data \u001b[39m=\u001b[39m new_self\u001b[39m.\u001b[39mdata\n\u001b[0;32m-> 3147\u001b[0m     other_data \u001b[39m=\u001b[39m new_other\u001b[39m.\u001b[39;49mdata\n\u001b[1;32m   3148\u001b[0m     dims \u001b[39m=\u001b[39m new_self\u001b[39m.\u001b[39mdims\n\u001b[1;32m   3149\u001b[0m \u001b[39melse\u001b[39;00m:\n\u001b[1;32m   3150\u001b[0m     \u001b[39m# rely on numpy broadcasting rules\u001b[39;00m\n",
      "File \u001b[0;32m~/opt/mambaforge/envs/cdex/lib/python3.11/site-packages/xarray/core/variable.py:427\u001b[0m, in \u001b[0;36mVariable.data\u001b[0;34m(self)\u001b[0m\n\u001b[1;32m    415\u001b[0m \u001b[39m@property\u001b[39m\n\u001b[1;32m    416\u001b[0m \u001b[39mdef\u001b[39;00m \u001b[39mdata\u001b[39m(\u001b[39mself\u001b[39m) \u001b[39m-\u001b[39m\u001b[39m>\u001b[39m Any:\n\u001b[1;32m    417\u001b[0m \u001b[39m    \u001b[39m\u001b[39m\"\"\"\u001b[39;00m\n\u001b[1;32m    418\u001b[0m \u001b[39m    The Variable's data as an array. The underlying array type\u001b[39;00m\n\u001b[1;32m    419\u001b[0m \u001b[39m    (e.g. dask, sparse, pint) is preserved.\u001b[39;00m\n\u001b[0;32m   (...)\u001b[0m\n\u001b[1;32m    425\u001b[0m \u001b[39m    Variable.values\u001b[39;00m\n\u001b[1;32m    426\u001b[0m \u001b[39m    \"\"\"\u001b[39;00m\n\u001b[0;32m--> 427\u001b[0m     \u001b[39mif\u001b[39;00m is_duck_array(\u001b[39mself\u001b[39;49m\u001b[39m.\u001b[39;49m_data):\n\u001b[1;32m    428\u001b[0m         \u001b[39mreturn\u001b[39;00m \u001b[39mself\u001b[39m\u001b[39m.\u001b[39m_data\n\u001b[1;32m    429\u001b[0m     \u001b[39melif\u001b[39;00m \u001b[39misinstance\u001b[39m(\u001b[39mself\u001b[39m\u001b[39m.\u001b[39m_data, indexing\u001b[39m.\u001b[39mExplicitlyIndexed):\n",
      "File \u001b[0;32m~/opt/mambaforge/envs/cdex/lib/python3.11/site-packages/xarray/core/utils.py:262\u001b[0m, in \u001b[0;36mis_duck_array\u001b[0;34m(value)\u001b[0m\n\u001b[1;32m    257\u001b[0m \u001b[39mif\u001b[39;00m \u001b[39misinstance\u001b[39m(value, np\u001b[39m.\u001b[39mndarray):\n\u001b[1;32m    258\u001b[0m     \u001b[39mreturn\u001b[39;00m \u001b[39mTrue\u001b[39;00m\n\u001b[1;32m    259\u001b[0m \u001b[39mreturn\u001b[39;00m (\n\u001b[1;32m    260\u001b[0m     \u001b[39mhasattr\u001b[39m(value, \u001b[39m\"\u001b[39m\u001b[39mndim\u001b[39m\u001b[39m\"\u001b[39m)\n\u001b[1;32m    261\u001b[0m     \u001b[39mand\u001b[39;00m \u001b[39mhasattr\u001b[39m(value, \u001b[39m\"\u001b[39m\u001b[39mshape\u001b[39m\u001b[39m\"\u001b[39m)\n\u001b[0;32m--> 262\u001b[0m     \u001b[39mand\u001b[39;00m \u001b[39mhasattr\u001b[39m(value, \u001b[39m\"\u001b[39m\u001b[39mdtype\u001b[39m\u001b[39m\"\u001b[39m)\n\u001b[1;32m    263\u001b[0m     \u001b[39mand\u001b[39;00m (\n\u001b[1;32m    264\u001b[0m         (\u001b[39mhasattr\u001b[39m(value, \u001b[39m\"\u001b[39m\u001b[39m__array_function__\u001b[39m\u001b[39m\"\u001b[39m) \u001b[39mand\u001b[39;00m \u001b[39mhasattr\u001b[39m(value, \u001b[39m\"\u001b[39m\u001b[39m__array_ufunc__\u001b[39m\u001b[39m\"\u001b[39m))\n\u001b[1;32m    265\u001b[0m         \u001b[39mor\u001b[39;00m \u001b[39mhasattr\u001b[39m(value, \u001b[39m\"\u001b[39m\u001b[39m__array_namespace__\u001b[39m\u001b[39m\"\u001b[39m)\n\u001b[1;32m    266\u001b[0m     )\n\u001b[1;32m    267\u001b[0m )\n",
      "\u001b[0;31mKeyboardInterrupt\u001b[0m: "
     ]
    }
   ],
   "source": [
    "newrowsize1 = segment(ds.time,dt,rowsize=ds.rowsize)"
   ]
  },
  {
   "cell_type": "code",
   "execution_count": null,
   "metadata": {},
   "outputs": [
    {
     "data": {
      "text/plain": [
       "(88933,)"
      ]
     },
     "execution_count": 18,
     "metadata": {},
     "output_type": "execute_result"
    }
   ],
   "source": [
    "np.shape(newrowsize1) # should be 88933?"
   ]
  },
  {
   "cell_type": "code",
   "execution_count": null,
   "metadata": {},
   "outputs": [],
   "source": [
    "#newrowsize = segment(ds.time,tolerance=dt)\n",
    "#newrowsize = segment(ds.time, dt, rowsize=segment(ds.time, -dt,rowsize=ds.rowsize))"
   ]
  },
  {
   "attachments": {},
   "cell_type": "markdown",
   "metadata": {},
   "source": [
    "The results should be 88933 segments"
   ]
  },
  {
   "cell_type": "code",
   "execution_count": null,
   "metadata": {},
   "outputs": [
    {
     "data": {
      "text/plain": [
       "(88933,)"
      ]
     },
     "execution_count": 20,
     "metadata": {},
     "output_type": "execute_result"
    }
   ],
   "source": [
    "np.shape(newrowsize1) # should be 88933? got it"
   ]
  },
  {
   "attachments": {},
   "cell_type": "markdown",
   "metadata": {},
   "source": [
    "However, some segments are only of length one."
   ]
  },
  {
   "cell_type": "code",
   "execution_count": null,
   "metadata": {},
   "outputs": [
    {
     "data": {
      "text/plain": [
       "1130"
      ]
     },
     "execution_count": 21,
     "metadata": {},
     "output_type": "execute_result"
    }
   ],
   "source": [
    "np.sum(newrowsize1==1)"
   ]
  },
  {
   "attachments": {},
   "cell_type": "markdown",
   "metadata": {},
   "source": [
    "Next, we want to illustrate the use of operations per segments, such as calculating velocity from successive positions. This requires a segment to be at least of length 2. As a result we first need to remove or mask the length one segments."
   ]
  },
  {
   "cell_type": "code",
   "execution_count": null,
   "metadata": {},
   "outputs": [
    {
     "data": {
      "text/plain": [
       "array([ 2,  4,  6,  8, 10])"
      ]
     },
     "execution_count": 22,
     "metadata": {},
     "output_type": "execute_result"
    }
   ],
   "source": [
    "a = np.array([1,2,3,4,5,6,7,8,9,10])\n",
    "np.delete(a,np.where(np.mod(a,2)==1))"
   ]
  },
  {
   "cell_type": "code",
   "execution_count": null,
   "metadata": {},
   "outputs": [
    {
     "data": {
      "text/plain": [
       "array([ 2,  4,  6,  8, 10])"
      ]
     },
     "execution_count": 23,
     "metadata": {},
     "output_type": "execute_result"
    }
   ],
   "source": [
    "mask = np.where(np.mod(a,2)!=1)\n",
    "a[mask]"
   ]
  },
  {
   "cell_type": "code",
   "execution_count": null,
   "metadata": {},
   "outputs": [
    {
     "data": {
      "text/plain": [
       "(88934,)"
      ]
     },
     "execution_count": 24,
     "metadata": {},
     "output_type": "execute_result"
    }
   ],
   "source": [
    "# create new segment index\n",
    "seg_idx = np.insert(np.cumsum(newrowsize1), 0, 0)\n",
    "np.shape(seg_idx)"
   ]
  },
  {
   "cell_type": "code",
   "execution_count": null,
   "metadata": {},
   "outputs": [],
   "source": [
    "time = ds.time\n",
    "lat = ds.lat\n",
    "lon = ds.lon\n",
    "ve = ds.ve\n",
    "vn = ds.vn"
   ]
  },
  {
   "cell_type": "code",
   "execution_count": null,
   "metadata": {},
   "outputs": [],
   "source": [
    "# create a mask for the segments of row length 1\n",
    "q1 = np.where(newrowsize1==1)\n",
    "slices = []\n",
    "for j in q1[0]:\n",
    "    slices.append(slice(seg_idx[j], seg_idx[j+1]))\n",
    "keep_mask = np.ones_like(time,dtype=bool)\n",
    "for slice in slices: keep_mask[slice] = False\n",
    "    "
   ]
  },
  {
   "cell_type": "code",
   "execution_count": null,
   "metadata": {},
   "outputs": [
    {
     "data": {
      "text/plain": [
       "(165753203,)"
      ]
     },
     "execution_count": 27,
     "metadata": {},
     "output_type": "execute_result"
    }
   ],
   "source": [
    "# remove rows of length 1\n",
    "time = time[keep_mask]\n",
    "np.shape(time)\n"
   ]
  },
  {
   "cell_type": "code",
   "execution_count": null,
   "metadata": {},
   "outputs": [
    {
     "data": {
      "text/plain": [
       "True"
      ]
     },
     "execution_count": 28,
     "metadata": {},
     "output_type": "execute_result"
    }
   ],
   "source": [
    "np.shape(ds.time)[0]-np.shape(time)[0] == len(q1[0])"
   ]
  },
  {
   "cell_type": "code",
   "execution_count": null,
   "metadata": {},
   "outputs": [],
   "source": [
    "lat = lat[keep_mask]\n",
    "lon = lon[keep_mask]\n",
    "ve = ve[keep_mask]\n",
    "vn = vn[keep_mask]\n"
   ]
  },
  {
   "cell_type": "code",
   "execution_count": null,
   "metadata": {},
   "outputs": [
    {
     "data": {
      "text/plain": [
       "87803"
      ]
     },
     "execution_count": 30,
     "metadata": {},
     "output_type": "execute_result"
    }
   ],
   "source": [
    "# define the new rowsize variable\n",
    "newrowsize2 = np.delete(newrowsize1,q1)\n",
    "len(newrowsize2)"
   ]
  },
  {
   "cell_type": "code",
   "execution_count": null,
   "metadata": {},
   "outputs": [
    {
     "data": {
      "text/plain": [
       "(87804,)"
      ]
     },
     "execution_count": 31,
     "metadata": {},
     "output_type": "execute_result"
    }
   ],
   "source": [
    "# create new segment index\n",
    "seg_idx2 = np.insert(np.cumsum(newrowsize2), 0, 0)\n",
    "np.shape(seg_idx2)"
   ]
  },
  {
   "cell_type": "code",
   "execution_count": null,
   "metadata": {},
   "outputs": [
    {
     "data": {
      "text/plain": [
       "87803"
      ]
     },
     "execution_count": 32,
     "metadata": {},
     "output_type": "execute_result"
    }
   ],
   "source": [
    "88933-1130"
   ]
  },
  {
   "cell_type": "code",
   "execution_count": null,
   "metadata": {},
   "outputs": [],
   "source": [
    "from clouddrift.analysis import apply_ragged"
   ]
  },
  {
   "cell_type": "code",
   "execution_count": null,
   "metadata": {},
   "outputs": [],
   "source": [
    "u,v = apply_ragged(velocity_from_position,[lon,lat,time],newrowsize2,coord_system='spherical')"
   ]
  },
  {
   "cell_type": "code",
   "execution_count": null,
   "metadata": {},
   "outputs": [],
   "source": [
    "del slice"
   ]
  },
  {
   "cell_type": "code",
   "execution_count": null,
   "metadata": {},
   "outputs": [
    {
     "data": {
      "text/plain": [
       "[<matplotlib.lines.Line2D at 0x30003efd0>]"
      ]
     },
     "execution_count": 36,
     "metadata": {},
     "output_type": "execute_result"
    },
    {
     "data": {
      "image/png": "[encoded data removed]",
      "text/plain": [
       "<Figure size 640x480 with 1 Axes>"
      ]
     },
     "metadata": {},
     "output_type": "display_data"
    }
   ],
   "source": [
    "j = 0\n",
    "sli = slice(seg_idx2[j],seg_idx2[j+1])\n",
    "plt.plot(time[sli],u[sli]*1e9)\n",
    "plt.plot(time[sli],ve[sli])"
   ]
  },
  {
   "cell_type": "code",
   "execution_count": null,
   "metadata": {},
   "outputs": [
    {
     "data": {
      "text/plain": [
       "165753203"
      ]
     },
     "execution_count": 37,
     "metadata": {},
     "output_type": "execute_result"
    }
   ],
   "source": [
    "len(u)"
   ]
  },
  {
   "cell_type": "code",
   "execution_count": null,
   "metadata": {},
   "outputs": [],
   "source": [
    "hist1, bin_edges1 = np.histogram(u*1e9-ve,200,(-1,1))\n",
    "#hist2 = histogram1d(u*1e9-ve,200,(-1,1))"
   ]
  },
  {
   "cell_type": "code",
   "execution_count": null,
   "metadata": {},
   "outputs": [
    {
     "name": "stderr",
     "output_type": "stream",
     "text": [
      "/var/folders/zf/wc1ydrbd1vd312tpk07xh2840000gn/T/ipykernel_39090/3481782820.py:2: RuntimeWarning: divide by zero encountered in log10\n",
      "  plt.plot(0.5*(bin_edges1[:-1]+bin_edges1[1:]),np.log10(hist1),'-')\n"
     ]
    },
    {
     "data": {
      "text/plain": [
       "[<matplotlib.lines.Line2D at 0x369e929d0>]"
      ]
     },
     "execution_count": 39,
     "metadata": {},
     "output_type": "execute_result"
    },
    {
     "data": {
      "image/png": "[encoded data removed]",
      "text/plain": [
       "<Figure size 640x480 with 1 Axes>"
      ]
     },
     "metadata": {},
     "output_type": "display_data"
    }
   ],
   "source": [
    "#plt.plot(bin_edges1[0:-1],hist1,'.-')\n",
    "plt.plot(0.5*(bin_edges1[:-1]+bin_edges1[1:]),np.log10(hist1),'-')"
   ]
  },
  {
   "cell_type": "code",
   "execution_count": null,
   "metadata": {},
   "outputs": [],
   "source": [
    "hist_ve = histogram1d(ve,200,(-1,1))"
   ]
  },
  {
   "cell_type": "code",
   "execution_count": null,
   "metadata": {},
   "outputs": [],
   "source": [
    "a = np.random.rand(1_000_000_000)"
   ]
  },
  {
   "cell_type": "code",
   "execution_count": null,
   "metadata": {},
   "outputs": [
    {
     "data": {
      "text/plain": [
       "(array([100007063,  99971851, 100004015, 100002975, 100004209, 100002213,\n",
       "        100014575, 100003567,  99999132,  99990400]),\n",
       " array([1.70220360e-09, 1.00000001e-01, 2.00000001e-01, 3.00000001e-01,\n",
       "        4.00000001e-01, 5.00000000e-01, 6.00000000e-01, 7.00000000e-01,\n",
       "        8.00000000e-01, 8.99999999e-01, 9.99999999e-01]))"
      ]
     },
     "execution_count": 50,
     "metadata": {},
     "output_type": "execute_result"
    }
   ],
   "source": [
    "np.histogram(a)"
   ]
  },
  {
   "attachments": {},
   "cell_type": "markdown",
   "metadata": {},
   "source": []
  }
 ],
 "metadata": {
  "kernelspec": {
   "display_name": "research",
   "language": "python",
   "name": "python3"
  },
  "language_info": {
   "codemirror_mode": {
    "name": "ipython",
    "version": 3
   },
   "file_extension": ".py",
   "mimetype": "text/x-python",
   "name": "python",
   "nbconvert_exporter": "python",
   "pygments_lexer": "ipython3",
   "version": "3.11.3"
  },
  "orig_nbformat": 4,
  "vscode": {
   "interpreter": {
    "hash": "8062482f43053ecd034fcfc607834bffeb48e9bc6c22837fa2832b5b68477c52"
   }
  }
 },
 "nbformat": 4,
 "nbformat_minor": 2
}
