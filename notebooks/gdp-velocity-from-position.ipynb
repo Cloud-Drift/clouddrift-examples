{
 "cells": [
  {
   "attachments": {},
   "cell_type": "markdown",
   "metadata": {},
   "source": [
    "### A Notebook to showcase release 0.8.0: use of `segment`, `apply_ragged`, and `velocity_from_position` functions\n"
   ]
  },
  {
   "cell_type": "code",
   "execution_count": 1,
   "metadata": {},
   "outputs": [],
   "source": [
    "import clouddrift as cd\n",
    "import xarray as xr\n",
    "import numpy as np\n",
    "import matplotlib.pyplot as plt\n",
    "from fast_histogram import histogram1d"
   ]
  },
  {
   "cell_type": "code",
   "execution_count": 2,
   "metadata": {},
   "outputs": [],
   "source": [
    "from clouddrift.analysis import segment,velocity_from_position"
   ]
  },
  {
   "cell_type": "code",
   "execution_count": 3,
   "metadata": {},
   "outputs": [],
   "source": [
    "#url_path = 'https://noaa-oar-hourly-gdp-pds.s3.amazonaws.com/latest/'\n",
    "#url_path = 'https://noaa-oar-hourly-gdp-pds.s3.us-east-1.amazonaws.com/latest/'\n",
    "#file = 'gdp_v2.00.nc'\n",
    "#ds = xr.open_dataset(url_path+file+'#mode=bytes')\n",
    "file = '/Users/selipot/Data/awss3/latest/gdp_v2.00.nc'\n",
    "ds = xr.open_dataset(file)"
   ]
  },
  {
   "cell_type": "code",
   "execution_count": 4,
   "metadata": {},
   "outputs": [
    {
     "data": {
      "text/html": [
       "<div><svg style=\"position: absolute; width: 0; height: 0; overflow: hidden\">\n",
       "<defs>\n",
       "<symbol id=\"icon-database\" viewBox=\"0 0 32 32\">\n",
       "<path d=\"M16 0c-8.837 0-16 2.239-16 5v4c0 2.761 7.163 5 16 5s16-2.239 16-5v-4c0-2.761-7.163-5-16-5z\"></path>\n",
       "<path d=\"M16 17c-8.837 0-16-2.239-16-5v6c0 2.761 7.163 5 16 5s16-2.239 16-5v-6c0 2.761-7.163 5-16 5z\"></path>\n",
       "<path d=\"M16 26c-8.837 0-16-2.239-16-5v6c0 2.761 7.163 5 16 5s16-2.239 16-5v-6c0 2.761-7.163 5-16 5z\"></path>\n",
       "</symbol>\n",
       "<symbol id=\"icon-file-text2\" viewBox=\"0 0 32 32\">\n",
       "<path d=\"M28.681 7.159c-0.694-0.947-1.662-2.053-2.724-3.116s-2.169-2.030-3.116-2.724c-1.612-1.182-2.393-1.319-2.841-1.319h-15.5c-1.378 0-2.5 1.121-2.5 2.5v27c0 1.378 1.122 2.5 2.5 2.5h23c1.378 0 2.5-1.122 2.5-2.5v-19.5c0-0.448-0.137-1.23-1.319-2.841zM24.543 5.457c0.959 0.959 1.712 1.825 2.268 2.543h-4.811v-4.811c0.718 0.556 1.584 1.309 2.543 2.268zM28 29.5c0 0.271-0.229 0.5-0.5 0.5h-23c-0.271 0-0.5-0.229-0.5-0.5v-27c0-0.271 0.229-0.5 0.5-0.5 0 0 15.499-0 15.5 0v7c0 0.552 0.448 1 1 1h7v19.5z\"></path>\n",
       "<path d=\"M23 26h-14c-0.552 0-1-0.448-1-1s0.448-1 1-1h14c0.552 0 1 0.448 1 1s-0.448 1-1 1z\"></path>\n",
       "<path d=\"M23 22h-14c-0.552 0-1-0.448-1-1s0.448-1 1-1h14c0.552 0 1 0.448 1 1s-0.448 1-1 1z\"></path>\n",
       "<path d=\"M23 18h-14c-0.552 0-1-0.448-1-1s0.448-1 1-1h14c0.552 0 1 0.448 1 1s-0.448 1-1 1z\"></path>\n",
       "</symbol>\n",
       "</defs>\n",
       "</svg>\n",
       "<style>/* CSS stylesheet for displaying xarray objects in jupyterlab.\n",
       " *\n",
       " */\n",
       "\n",
       ":root {\n",
       "  --xr-font-color0: var(--jp-content-font-color0, rgba(0, 0, 0, 1));\n",
       "  --xr-font-color2: var(--jp-content-font-color2, rgba(0, 0, 0, 0.54));\n",
       "  --xr-font-color3: var(--jp-content-font-color3, rgba(0, 0, 0, 0.38));\n",
       "  --xr-border-color: var(--jp-border-color2, #e0e0e0);\n",
       "  --xr-disabled-color: var(--jp-layout-color3, #bdbdbd);\n",
       "  --xr-background-color: var(--jp-layout-color0, white);\n",
       "  --xr-background-color-row-even: var(--jp-layout-color1, white);\n",
       "  --xr-background-color-row-odd: var(--jp-layout-color2, #eeeeee);\n",
       "}\n",
       "\n",
       "html[theme=dark],\n",
       "body[data-theme=dark],\n",
       "body.vscode-dark {\n",
       "  --xr-font-color0: rgba(255, 255, 255, 1);\n",
       "  --xr-font-color2: rgba(255, 255, 255, 0.54);\n",
       "  --xr-font-color3: rgba(255, 255, 255, 0.38);\n",
       "  --xr-border-color: #1F1F1F;\n",
       "  --xr-disabled-color: #515151;\n",
       "  --xr-background-color: #111111;\n",
       "  --xr-background-color-row-even: #111111;\n",
       "  --xr-background-color-row-odd: #313131;\n",
       "}\n",
       "\n",
       ".xr-wrap {\n",
       "  display: block !important;\n",
       "  min-width: 300px;\n",
       "  max-width: 700px;\n",
       "}\n",
       "\n",
       ".xr-text-repr-fallback {\n",
       "  /* fallback to plain text repr when CSS is not injected (untrusted notebook) */\n",
       "  display: none;\n",
       "}\n",
       "\n",
       ".xr-header {\n",
       "  padding-top: 6px;\n",
       "  padding-bottom: 6px;\n",
       "  margin-bottom: 4px;\n",
       "  border-bottom: solid 1px var(--xr-border-color);\n",
       "}\n",
       "\n",
       ".xr-header > div,\n",
       ".xr-header > ul {\n",
       "  display: inline;\n",
       "  margin-top: 0;\n",
       "  margin-bottom: 0;\n",
       "}\n",
       "\n",
       ".xr-obj-type,\n",
       ".xr-array-name {\n",
       "  margin-left: 2px;\n",
       "  margin-right: 10px;\n",
       "}\n",
       "\n",
       ".xr-obj-type {\n",
       "  color: var(--xr-font-color2);\n",
       "}\n",
       "\n",
       ".xr-sections {\n",
       "  padding-left: 0 !important;\n",
       "  display: grid;\n",
       "  grid-template-columns: 150px auto auto 1fr 20px 20px;\n",
       "}\n",
       "\n",
       ".xr-section-item {\n",
       "  display: contents;\n",
       "}\n",
       "\n",
       ".xr-section-item input {\n",
       "  display: none;\n",
       "}\n",
       "\n",
       ".xr-section-item input + label {\n",
       "  color: var(--xr-disabled-color);\n",
       "}\n",
       "\n",
       ".xr-section-item input:enabled + label {\n",
       "  cursor: pointer;\n",
       "  color: var(--xr-font-color2);\n",
       "}\n",
       "\n",
       ".xr-section-item input:enabled + label:hover {\n",
       "  color: var(--xr-font-color0);\n",
       "}\n",
       "\n",
       ".xr-section-summary {\n",
       "  grid-column: 1;\n",
       "  color: var(--xr-font-color2);\n",
       "  font-weight: 500;\n",
       "}\n",
       "\n",
       ".xr-section-summary > span {\n",
       "  display: inline-block;\n",
       "  padding-left: 0.5em;\n",
       "}\n",
       "\n",
       ".xr-section-summary-in:disabled + label {\n",
       "  color: var(--xr-font-color2);\n",
       "}\n",
       "\n",
       ".xr-section-summary-in + label:before {\n",
       "  display: inline-block;\n",
       "  content: '►';\n",
       "  font-size: 11px;\n",
       "  width: 15px;\n",
       "  text-align: center;\n",
       "}\n",
       "\n",
       ".xr-section-summary-in:disabled + label:before {\n",
       "  color: var(--xr-disabled-color);\n",
       "}\n",
       "\n",
       ".xr-section-summary-in:checked + label:before {\n",
       "  content: '▼';\n",
       "}\n",
       "\n",
       ".xr-section-summary-in:checked + label > span {\n",
       "  display: none;\n",
       "}\n",
       "\n",
       ".xr-section-summary,\n",
       ".xr-section-inline-details {\n",
       "  padding-top: 4px;\n",
       "  padding-bottom: 4px;\n",
       "}\n",
       "\n",
       ".xr-section-inline-details {\n",
       "  grid-column: 2 / -1;\n",
       "}\n",
       "\n",
       ".xr-section-details {\n",
       "  display: none;\n",
       "  grid-column: 1 / -1;\n",
       "  margin-bottom: 5px;\n",
       "}\n",
       "\n",
       ".xr-section-summary-in:checked ~ .xr-section-details {\n",
       "  display: contents;\n",
       "}\n",
       "\n",
       ".xr-array-wrap {\n",
       "  grid-column: 1 / -1;\n",
       "  display: grid;\n",
       "  grid-template-columns: 20px auto;\n",
       "}\n",
       "\n",
       ".xr-array-wrap > label {\n",
       "  grid-column: 1;\n",
       "  vertical-align: top;\n",
       "}\n",
       "\n",
       ".xr-preview {\n",
       "  color: var(--xr-font-color3);\n",
       "}\n",
       "\n",
       ".xr-array-preview,\n",
       ".xr-array-data {\n",
       "  padding: 0 5px !important;\n",
       "  grid-column: 2;\n",
       "}\n",
       "\n",
       ".xr-array-data,\n",
       ".xr-array-in:checked ~ .xr-array-preview {\n",
       "  display: none;\n",
       "}\n",
       "\n",
       ".xr-array-in:checked ~ .xr-array-data,\n",
       ".xr-array-preview {\n",
       "  display: inline-block;\n",
       "}\n",
       "\n",
       ".xr-dim-list {\n",
       "  display: inline-block !important;\n",
       "  list-style: none;\n",
       "  padding: 0 !important;\n",
       "  margin: 0;\n",
       "}\n",
       "\n",
       ".xr-dim-list li {\n",
       "  display: inline-block;\n",
       "  padding: 0;\n",
       "  margin: 0;\n",
       "}\n",
       "\n",
       ".xr-dim-list:before {\n",
       "  content: '(';\n",
       "}\n",
       "\n",
       ".xr-dim-list:after {\n",
       "  content: ')';\n",
       "}\n",
       "\n",
       ".xr-dim-list li:not(:last-child):after {\n",
       "  content: ',';\n",
       "  padding-right: 5px;\n",
       "}\n",
       "\n",
       ".xr-has-index {\n",
       "  font-weight: bold;\n",
       "}\n",
       "\n",
       ".xr-var-list,\n",
       ".xr-var-item {\n",
       "  display: contents;\n",
       "}\n",
       "\n",
       ".xr-var-item > div,\n",
       ".xr-var-item label,\n",
       ".xr-var-item > .xr-var-name span {\n",
       "  background-color: var(--xr-background-color-row-even);\n",
       "  margin-bottom: 0;\n",
       "}\n",
       "\n",
       ".xr-var-item > .xr-var-name:hover span {\n",
       "  padding-right: 5px;\n",
       "}\n",
       "\n",
       ".xr-var-list > li:nth-child(odd) > div,\n",
       ".xr-var-list > li:nth-child(odd) > label,\n",
       ".xr-var-list > li:nth-child(odd) > .xr-var-name span {\n",
       "  background-color: var(--xr-background-color-row-odd);\n",
       "}\n",
       "\n",
       ".xr-var-name {\n",
       "  grid-column: 1;\n",
       "}\n",
       "\n",
       ".xr-var-dims {\n",
       "  grid-column: 2;\n",
       "}\n",
       "\n",
       ".xr-var-dtype {\n",
       "  grid-column: 3;\n",
       "  text-align: right;\n",
       "  color: var(--xr-font-color2);\n",
       "}\n",
       "\n",
       ".xr-var-preview {\n",
       "  grid-column: 4;\n",
       "}\n",
       "\n",
       ".xr-index-preview {\n",
       "  grid-column: 2 / 5;\n",
       "  color: var(--xr-font-color2);\n",
       "}\n",
       "\n",
       ".xr-var-name,\n",
       ".xr-var-dims,\n",
       ".xr-var-dtype,\n",
       ".xr-preview,\n",
       ".xr-attrs dt {\n",
       "  white-space: nowrap;\n",
       "  overflow: hidden;\n",
       "  text-overflow: ellipsis;\n",
       "  padding-right: 10px;\n",
       "}\n",
       "\n",
       ".xr-var-name:hover,\n",
       ".xr-var-dims:hover,\n",
       ".xr-var-dtype:hover,\n",
       ".xr-attrs dt:hover {\n",
       "  overflow: visible;\n",
       "  width: auto;\n",
       "  z-index: 1;\n",
       "}\n",
       "\n",
       ".xr-var-attrs,\n",
       ".xr-var-data,\n",
       ".xr-index-data {\n",
       "  display: none;\n",
       "  background-color: var(--xr-background-color) !important;\n",
       "  padding-bottom: 5px !important;\n",
       "}\n",
       "\n",
       ".xr-var-attrs-in:checked ~ .xr-var-attrs,\n",
       ".xr-var-data-in:checked ~ .xr-var-data,\n",
       ".xr-index-data-in:checked ~ .xr-index-data {\n",
       "  display: block;\n",
       "}\n",
       "\n",
       ".xr-var-data > table {\n",
       "  float: right;\n",
       "}\n",
       "\n",
       ".xr-var-name span,\n",
       ".xr-var-data,\n",
       ".xr-index-name div,\n",
       ".xr-index-data,\n",
       ".xr-attrs {\n",
       "  padding-left: 25px !important;\n",
       "}\n",
       "\n",
       ".xr-attrs,\n",
       ".xr-var-attrs,\n",
       ".xr-var-data,\n",
       ".xr-index-data {\n",
       "  grid-column: 1 / -1;\n",
       "}\n",
       "\n",
       "dl.xr-attrs {\n",
       "  padding: 0;\n",
       "  margin: 0;\n",
       "  display: grid;\n",
       "  grid-template-columns: 125px auto;\n",
       "}\n",
       "\n",
       ".xr-attrs dt,\n",
       ".xr-attrs dd {\n",
       "  padding: 0;\n",
       "  margin: 0;\n",
       "  float: left;\n",
       "  padding-right: 10px;\n",
       "  width: auto;\n",
       "}\n",
       "\n",
       ".xr-attrs dt {\n",
       "  font-weight: normal;\n",
       "  grid-column: 1;\n",
       "}\n",
       "\n",
       ".xr-attrs dt:hover span {\n",
       "  display: inline-block;\n",
       "  background: var(--xr-background-color);\n",
       "  padding-right: 10px;\n",
       "}\n",
       "\n",
       ".xr-attrs dd {\n",
       "  grid-column: 2;\n",
       "  white-space: pre-wrap;\n",
       "  word-break: break-all;\n",
       "}\n",
       "\n",
       ".xr-icon-database,\n",
       ".xr-icon-file-text2,\n",
       ".xr-no-icon {\n",
       "  display: inline-block;\n",
       "  vertical-align: middle;\n",
       "  width: 1em;\n",
       "  height: 1.5em !important;\n",
       "  stroke-width: 0;\n",
       "  stroke: currentColor;\n",
       "  fill: currentColor;\n",
       "}\n",
       "</style><pre class='xr-text-repr-fallback'>&lt;xarray.Dataset&gt;\n",
       "Dimensions:                (traj: 17324, obs: 165754333)\n",
       "Coordinates:\n",
       "    ids                    (obs) int64 ...\n",
       "    time                   (obs) datetime64[ns] ...\n",
       "    lon                    (obs) float32 ...\n",
       "    lat                    (obs) float32 ...\n",
       "Dimensions without coordinates: traj, obs\n",
       "Data variables: (12/55)\n",
       "    ID                     (traj) int64 ...\n",
       "    rowsize                (traj) int32 ...\n",
       "    WMO                    (traj) int32 ...\n",
       "    expno                  (traj) int32 ...\n",
       "    deploy_date            (traj) datetime64[ns] ...\n",
       "    deploy_lat             (traj) float64 ...\n",
       "    ...                     ...\n",
       "    err_sst1               (obs) float64 ...\n",
       "    err_sst2               (obs) float64 ...\n",
       "    flg_sst                (obs) int8 ...\n",
       "    flg_sst1               (obs) int8 ...\n",
       "    flg_sst2               (obs) int8 ...\n",
       "    drogue_status          (obs) bool ...\n",
       "Attributes: (12/16)\n",
       "    title:             Global Drifter Program hourly drifting buoy collection\n",
       "    history:           Version 2.00.  Metadata from dirall.dat and deplog.dat\n",
       "    Conventions:       CF-1.6\n",
       "    date_created:      2022-12-09T06:02:29.684949\n",
       "    publisher_name:    GDP Drifter DAC\n",
       "    publisher_email:   aoml.dftr@noaa.gov\n",
       "    ...                ...\n",
       "    contributor_name:  NOAA Global Drifter Program\n",
       "    contributor_role:  Data Acquisition Center\n",
       "    institution:       NOAA Atlantic Oceanographic and Meteorological Laboratory\n",
       "    acknowledgement:   Elipot, Shane; Sykulski, Adam; Lumpkin, Rick; Centurio...\n",
       "    summary:           Global Drifter Program hourly data\n",
       "    doi:               10.25921/x46c-3620</pre><div class='xr-wrap' style='display:none'><div class='xr-header'><div class='xr-obj-type'>xarray.Dataset</div></div><ul class='xr-sections'><li class='xr-section-item'><input id='section-481ca09e-949e-4800-aa0b-31e9448f8f03' class='xr-section-summary-in' type='checkbox' disabled ><label for='section-481ca09e-949e-4800-aa0b-31e9448f8f03' class='xr-section-summary'  title='Expand/collapse section'>Dimensions:</label><div class='xr-section-inline-details'><ul class='xr-dim-list'><li><span>traj</span>: 17324</li><li><span>obs</span>: 165754333</li></ul></div><div class='xr-section-details'></div></li><li class='xr-section-item'><input id='section-5bbd2b22-ef7e-42e2-bfaa-ef99904515a1' class='xr-section-summary-in' type='checkbox'  checked><label for='section-5bbd2b22-ef7e-42e2-bfaa-ef99904515a1' class='xr-section-summary' >Coordinates: <span>(4)</span></label><div class='xr-section-inline-details'></div><div class='xr-section-details'><ul class='xr-var-list'><li class='xr-var-item'><div class='xr-var-name'><span>ids</span></div><div class='xr-var-dims'>(obs)</div><div class='xr-var-dtype'>int64</div><div class='xr-var-preview xr-preview'>...</div><input id='attrs-850cd5c0-34ca-4765-967d-51c6354147bb' class='xr-var-attrs-in' type='checkbox' ><label for='attrs-850cd5c0-34ca-4765-967d-51c6354147bb' title='Show/Hide attributes'><svg class='icon xr-icon-file-text2'><use xlink:href='#icon-file-text2'></use></svg></label><input id='data-92476222-0a97-4caf-a133-2b6fcffa93db' class='xr-var-data-in' type='checkbox'><label for='data-92476222-0a97-4caf-a133-2b6fcffa93db' title='Show/Hide data repr'><svg class='icon xr-icon-database'><use xlink:href='#icon-database'></use></svg></label><div class='xr-var-attrs'><dl class='xr-attrs'><dt><span>long_name :</span></dt><dd>Global Drifter Program Buoy ID repeated along observations</dd><dt><span>units :</span></dt><dd>-</dd></dl></div><div class='xr-var-data'><pre>[165754333 values with dtype=int64]</pre></div></li><li class='xr-var-item'><div class='xr-var-name'><span>time</span></div><div class='xr-var-dims'>(obs)</div><div class='xr-var-dtype'>datetime64[ns]</div><div class='xr-var-preview xr-preview'>...</div><input id='attrs-03f5ff5a-2e54-4d56-91dc-bb574747d894' class='xr-var-attrs-in' type='checkbox' ><label for='attrs-03f5ff5a-2e54-4d56-91dc-bb574747d894' title='Show/Hide attributes'><svg class='icon xr-icon-file-text2'><use xlink:href='#icon-file-text2'></use></svg></label><input id='data-d75bfd44-332f-4757-a443-1f981cdee842' class='xr-var-data-in' type='checkbox'><label for='data-d75bfd44-332f-4757-a443-1f981cdee842' title='Show/Hide data repr'><svg class='icon xr-icon-database'><use xlink:href='#icon-database'></use></svg></label><div class='xr-var-attrs'><dl class='xr-attrs'><dt><span>long_name :</span></dt><dd>Time</dd></dl></div><div class='xr-var-data'><pre>[165754333 values with dtype=datetime64[ns]]</pre></div></li><li class='xr-var-item'><div class='xr-var-name'><span>lon</span></div><div class='xr-var-dims'>(obs)</div><div class='xr-var-dtype'>float32</div><div class='xr-var-preview xr-preview'>...</div><input id='attrs-06b65870-8349-4eed-83a9-25cdd7e19014' class='xr-var-attrs-in' type='checkbox' ><label for='attrs-06b65870-8349-4eed-83a9-25cdd7e19014' title='Show/Hide attributes'><svg class='icon xr-icon-file-text2'><use xlink:href='#icon-file-text2'></use></svg></label><input id='data-5071bd53-94e9-408f-9b35-d119e5d9f30e' class='xr-var-data-in' type='checkbox'><label for='data-5071bd53-94e9-408f-9b35-d119e5d9f30e' title='Show/Hide data repr'><svg class='icon xr-icon-database'><use xlink:href='#icon-database'></use></svg></label><div class='xr-var-attrs'><dl class='xr-attrs'><dt><span>long_name :</span></dt><dd>Longitude</dd><dt><span>units :</span></dt><dd>degrees_east</dd></dl></div><div class='xr-var-data'><pre>[165754333 values with dtype=float32]</pre></div></li><li class='xr-var-item'><div class='xr-var-name'><span>lat</span></div><div class='xr-var-dims'>(obs)</div><div class='xr-var-dtype'>float32</div><div class='xr-var-preview xr-preview'>...</div><input id='attrs-d94a228c-0e15-4487-8b41-03f1f29161e1' class='xr-var-attrs-in' type='checkbox' ><label for='attrs-d94a228c-0e15-4487-8b41-03f1f29161e1' title='Show/Hide attributes'><svg class='icon xr-icon-file-text2'><use xlink:href='#icon-file-text2'></use></svg></label><input id='data-477a7e97-651d-440e-8a0b-6aab13b62c36' class='xr-var-data-in' type='checkbox'><label for='data-477a7e97-651d-440e-8a0b-6aab13b62c36' title='Show/Hide data repr'><svg class='icon xr-icon-database'><use xlink:href='#icon-database'></use></svg></label><div class='xr-var-attrs'><dl class='xr-attrs'><dt><span>long_name :</span></dt><dd>Latitude</dd><dt><span>units :</span></dt><dd>degrees_north</dd></dl></div><div class='xr-var-data'><pre>[165754333 values with dtype=float32]</pre></div></li></ul></div></li><li class='xr-section-item'><input id='section-e115d317-f934-40bb-85f7-8a9a45c175cd' class='xr-section-summary-in' type='checkbox'  ><label for='section-e115d317-f934-40bb-85f7-8a9a45c175cd' class='xr-section-summary' >Data variables: <span>(55)</span></label><div class='xr-section-inline-details'></div><div class='xr-section-details'><ul class='xr-var-list'><li class='xr-var-item'><div class='xr-var-name'><span>ID</span></div><div class='xr-var-dims'>(traj)</div><div class='xr-var-dtype'>int64</div><div class='xr-var-preview xr-preview'>...</div><input id='attrs-3ddf97a9-9890-43b8-aa8f-32822627a37c' class='xr-var-attrs-in' type='checkbox' ><label for='attrs-3ddf97a9-9890-43b8-aa8f-32822627a37c' title='Show/Hide attributes'><svg class='icon xr-icon-file-text2'><use xlink:href='#icon-file-text2'></use></svg></label><input id='data-d5029566-bb79-40b3-87da-3bfd123072a8' class='xr-var-data-in' type='checkbox'><label for='data-d5029566-bb79-40b3-87da-3bfd123072a8' title='Show/Hide data repr'><svg class='icon xr-icon-database'><use xlink:href='#icon-database'></use></svg></label><div class='xr-var-attrs'><dl class='xr-attrs'><dt><span>long_name :</span></dt><dd>Global Drifter Program Buoy ID</dd><dt><span>units :</span></dt><dd>-</dd></dl></div><div class='xr-var-data'><pre>[17324 values with dtype=int64]</pre></div></li><li class='xr-var-item'><div class='xr-var-name'><span>rowsize</span></div><div class='xr-var-dims'>(traj)</div><div class='xr-var-dtype'>int32</div><div class='xr-var-preview xr-preview'>...</div><input id='attrs-48808665-1f32-4574-aa22-18e355fc387e' class='xr-var-attrs-in' type='checkbox' ><label for='attrs-48808665-1f32-4574-aa22-18e355fc387e' title='Show/Hide attributes'><svg class='icon xr-icon-file-text2'><use xlink:href='#icon-file-text2'></use></svg></label><input id='data-07a6ec7d-5de7-4057-a12a-0ac620f66a8e' class='xr-var-data-in' type='checkbox'><label for='data-07a6ec7d-5de7-4057-a12a-0ac620f66a8e' title='Show/Hide data repr'><svg class='icon xr-icon-database'><use xlink:href='#icon-database'></use></svg></label><div class='xr-var-attrs'><dl class='xr-attrs'><dt><span>long_name :</span></dt><dd>Number of observations per trajectory</dd><dt><span>sample_dimension :</span></dt><dd>obs</dd><dt><span>units :</span></dt><dd>-</dd></dl></div><div class='xr-var-data'><pre>[17324 values with dtype=int32]</pre></div></li><li class='xr-var-item'><div class='xr-var-name'><span>WMO</span></div><div class='xr-var-dims'>(traj)</div><div class='xr-var-dtype'>int32</div><div class='xr-var-preview xr-preview'>...</div><input id='attrs-8a3bbe7d-5483-4473-8d7a-5075100ce0e1' class='xr-var-attrs-in' type='checkbox' ><label for='attrs-8a3bbe7d-5483-4473-8d7a-5075100ce0e1' title='Show/Hide attributes'><svg class='icon xr-icon-file-text2'><use xlink:href='#icon-file-text2'></use></svg></label><input id='data-45a053d2-cc7a-4bfc-b6a7-db91e09fff5b' class='xr-var-data-in' type='checkbox'><label for='data-45a053d2-cc7a-4bfc-b6a7-db91e09fff5b' title='Show/Hide data repr'><svg class='icon xr-icon-database'><use xlink:href='#icon-database'></use></svg></label><div class='xr-var-attrs'><dl class='xr-attrs'><dt><span>long_name :</span></dt><dd>World Meteorological Organization buoy identification number</dd><dt><span>units :</span></dt><dd>-</dd></dl></div><div class='xr-var-data'><pre>[17324 values with dtype=int32]</pre></div></li><li class='xr-var-item'><div class='xr-var-name'><span>expno</span></div><div class='xr-var-dims'>(traj)</div><div class='xr-var-dtype'>int32</div><div class='xr-var-preview xr-preview'>...</div><input id='attrs-fd35afc7-496c-400a-89c2-0e62ae573802' class='xr-var-attrs-in' type='checkbox' ><label for='attrs-fd35afc7-496c-400a-89c2-0e62ae573802' title='Show/Hide attributes'><svg class='icon xr-icon-file-text2'><use xlink:href='#icon-file-text2'></use></svg></label><input id='data-e2b111e6-cd60-49a3-8f7e-003e70403e55' class='xr-var-data-in' type='checkbox'><label for='data-e2b111e6-cd60-49a3-8f7e-003e70403e55' title='Show/Hide data repr'><svg class='icon xr-icon-database'><use xlink:href='#icon-database'></use></svg></label><div class='xr-var-attrs'><dl class='xr-attrs'><dt><span>long_name :</span></dt><dd>Experiment number</dd><dt><span>units :</span></dt><dd>-</dd></dl></div><div class='xr-var-data'><pre>[17324 values with dtype=int32]</pre></div></li><li class='xr-var-item'><div class='xr-var-name'><span>deploy_date</span></div><div class='xr-var-dims'>(traj)</div><div class='xr-var-dtype'>datetime64[ns]</div><div class='xr-var-preview xr-preview'>...</div><input id='attrs-b52e9d5a-d71a-4d78-ae33-04a550c2b5be' class='xr-var-attrs-in' type='checkbox' ><label for='attrs-b52e9d5a-d71a-4d78-ae33-04a550c2b5be' title='Show/Hide attributes'><svg class='icon xr-icon-file-text2'><use xlink:href='#icon-file-text2'></use></svg></label><input id='data-98d01fb6-40b4-494b-b2a9-aba413489448' class='xr-var-data-in' type='checkbox'><label for='data-98d01fb6-40b4-494b-b2a9-aba413489448' title='Show/Hide data repr'><svg class='icon xr-icon-database'><use xlink:href='#icon-database'></use></svg></label><div class='xr-var-attrs'><dl class='xr-attrs'><dt><span>long_name :</span></dt><dd>Deployment date and time</dd></dl></div><div class='xr-var-data'><pre>[17324 values with dtype=datetime64[ns]]</pre></div></li><li class='xr-var-item'><div class='xr-var-name'><span>deploy_lat</span></div><div class='xr-var-dims'>(traj)</div><div class='xr-var-dtype'>float64</div><div class='xr-var-preview xr-preview'>...</div><input id='attrs-9b3aa074-6882-438c-b7b7-878c64b6f1c0' class='xr-var-attrs-in' type='checkbox' ><label for='attrs-9b3aa074-6882-438c-b7b7-878c64b6f1c0' title='Show/Hide attributes'><svg class='icon xr-icon-file-text2'><use xlink:href='#icon-file-text2'></use></svg></label><input id='data-02fb3fd9-c0b6-40b2-8fc4-ba0a470f1d11' class='xr-var-data-in' type='checkbox'><label for='data-02fb3fd9-c0b6-40b2-8fc4-ba0a470f1d11' title='Show/Hide data repr'><svg class='icon xr-icon-database'><use xlink:href='#icon-database'></use></svg></label><div class='xr-var-attrs'><dl class='xr-attrs'><dt><span>long_name :</span></dt><dd>Deployment latitude</dd><dt><span>units :</span></dt><dd>degrees_north</dd></dl></div><div class='xr-var-data'><pre>[17324 values with dtype=float64]</pre></div></li><li class='xr-var-item'><div class='xr-var-name'><span>deploy_lon</span></div><div class='xr-var-dims'>(traj)</div><div class='xr-var-dtype'>float64</div><div class='xr-var-preview xr-preview'>...</div><input id='attrs-54db24c9-1512-4a4a-9544-a8ab60b8b635' class='xr-var-attrs-in' type='checkbox' ><label for='attrs-54db24c9-1512-4a4a-9544-a8ab60b8b635' title='Show/Hide attributes'><svg class='icon xr-icon-file-text2'><use xlink:href='#icon-file-text2'></use></svg></label><input id='data-12cc6c29-2d8c-4a83-97a9-e8650b6442dc' class='xr-var-data-in' type='checkbox'><label for='data-12cc6c29-2d8c-4a83-97a9-e8650b6442dc' title='Show/Hide data repr'><svg class='icon xr-icon-database'><use xlink:href='#icon-database'></use></svg></label><div class='xr-var-attrs'><dl class='xr-attrs'><dt><span>long_name :</span></dt><dd>Deployment longitude</dd><dt><span>units :</span></dt><dd>degrees_east</dd></dl></div><div class='xr-var-data'><pre>[17324 values with dtype=float64]</pre></div></li><li class='xr-var-item'><div class='xr-var-name'><span>end_date</span></div><div class='xr-var-dims'>(traj)</div><div class='xr-var-dtype'>datetime64[ns]</div><div class='xr-var-preview xr-preview'>...</div><input id='attrs-a1117e62-24e9-4a3c-8a0d-f0e61f5215b7' class='xr-var-attrs-in' type='checkbox' ><label for='attrs-a1117e62-24e9-4a3c-8a0d-f0e61f5215b7' title='Show/Hide attributes'><svg class='icon xr-icon-file-text2'><use xlink:href='#icon-file-text2'></use></svg></label><input id='data-43c8001a-2e6a-4cca-a2b4-bd8b7f35b732' class='xr-var-data-in' type='checkbox'><label for='data-43c8001a-2e6a-4cca-a2b4-bd8b7f35b732' title='Show/Hide data repr'><svg class='icon xr-icon-database'><use xlink:href='#icon-database'></use></svg></label><div class='xr-var-attrs'><dl class='xr-attrs'><dt><span>long_name :</span></dt><dd>End date and time</dd></dl></div><div class='xr-var-data'><pre>[17324 values with dtype=datetime64[ns]]</pre></div></li><li class='xr-var-item'><div class='xr-var-name'><span>end_lat</span></div><div class='xr-var-dims'>(traj)</div><div class='xr-var-dtype'>float64</div><div class='xr-var-preview xr-preview'>...</div><input id='attrs-d1547f61-7d64-4beb-a614-08f2ae3fab3e' class='xr-var-attrs-in' type='checkbox' ><label for='attrs-d1547f61-7d64-4beb-a614-08f2ae3fab3e' title='Show/Hide attributes'><svg class='icon xr-icon-file-text2'><use xlink:href='#icon-file-text2'></use></svg></label><input id='data-33829d0f-4869-4a68-80bc-5e02401b42ec' class='xr-var-data-in' type='checkbox'><label for='data-33829d0f-4869-4a68-80bc-5e02401b42ec' title='Show/Hide data repr'><svg class='icon xr-icon-database'><use xlink:href='#icon-database'></use></svg></label><div class='xr-var-attrs'><dl class='xr-attrs'><dt><span>long_name :</span></dt><dd>End longitude</dd><dt><span>units :</span></dt><dd>degrees_east</dd></dl></div><div class='xr-var-data'><pre>[17324 values with dtype=float64]</pre></div></li><li class='xr-var-item'><div class='xr-var-name'><span>end_lon</span></div><div class='xr-var-dims'>(traj)</div><div class='xr-var-dtype'>float64</div><div class='xr-var-preview xr-preview'>...</div><input id='attrs-b816a47d-d2b0-4a28-9acb-67ada5b15820' class='xr-var-attrs-in' type='checkbox' ><label for='attrs-b816a47d-d2b0-4a28-9acb-67ada5b15820' title='Show/Hide attributes'><svg class='icon xr-icon-file-text2'><use xlink:href='#icon-file-text2'></use></svg></label><input id='data-0b82aed0-b6aa-4e84-bfda-074c0ede1af2' class='xr-var-data-in' type='checkbox'><label for='data-0b82aed0-b6aa-4e84-bfda-074c0ede1af2' title='Show/Hide data repr'><svg class='icon xr-icon-database'><use xlink:href='#icon-database'></use></svg></label><div class='xr-var-attrs'><dl class='xr-attrs'><dt><span>long_name :</span></dt><dd>End latitude</dd><dt><span>units :</span></dt><dd>degrees_north</dd></dl></div><div class='xr-var-data'><pre>[17324 values with dtype=float64]</pre></div></li><li class='xr-var-item'><div class='xr-var-name'><span>drogue_lost_date</span></div><div class='xr-var-dims'>(traj)</div><div class='xr-var-dtype'>datetime64[ns]</div><div class='xr-var-preview xr-preview'>...</div><input id='attrs-adadf70e-81eb-455e-a673-599f32ee6c5b' class='xr-var-attrs-in' type='checkbox' ><label for='attrs-adadf70e-81eb-455e-a673-599f32ee6c5b' title='Show/Hide attributes'><svg class='icon xr-icon-file-text2'><use xlink:href='#icon-file-text2'></use></svg></label><input id='data-34f41cb0-8d7f-49db-aaac-1573da3bc2af' class='xr-var-data-in' type='checkbox'><label for='data-34f41cb0-8d7f-49db-aaac-1573da3bc2af' title='Show/Hide data repr'><svg class='icon xr-icon-database'><use xlink:href='#icon-database'></use></svg></label><div class='xr-var-attrs'><dl class='xr-attrs'><dt><span>long_name :</span></dt><dd>Date and time of drogue loss</dd></dl></div><div class='xr-var-data'><pre>[17324 values with dtype=datetime64[ns]]</pre></div></li><li class='xr-var-item'><div class='xr-var-name'><span>typedeath</span></div><div class='xr-var-dims'>(traj)</div><div class='xr-var-dtype'>int8</div><div class='xr-var-preview xr-preview'>...</div><input id='attrs-c562f116-a0d8-42e7-815e-39e0aad01beb' class='xr-var-attrs-in' type='checkbox' ><label for='attrs-c562f116-a0d8-42e7-815e-39e0aad01beb' title='Show/Hide attributes'><svg class='icon xr-icon-file-text2'><use xlink:href='#icon-file-text2'></use></svg></label><input id='data-a9f9b6e3-989d-4bea-baa3-3691b14de3b7' class='xr-var-data-in' type='checkbox'><label for='data-a9f9b6e3-989d-4bea-baa3-3691b14de3b7' title='Show/Hide data repr'><svg class='icon xr-icon-database'><use xlink:href='#icon-database'></use></svg></label><div class='xr-var-attrs'><dl class='xr-attrs'><dt><span>long_name :</span></dt><dd>Type of death</dd><dt><span>units :</span></dt><dd>-</dd><dt><span>comments :</span></dt><dd>0 (buoy still alive), 1 (buoy ran aground), 2 (picked up by vessel), 3 (stop transmitting), 4 (sporadic transmissions), 5 (bad batteries), 6 (inactive status)</dd></dl></div><div class='xr-var-data'><pre>[17324 values with dtype=int8]</pre></div></li><li class='xr-var-item'><div class='xr-var-name'><span>typebuoy</span></div><div class='xr-var-dims'>(traj)</div><div class='xr-var-dtype'>|S10</div><div class='xr-var-preview xr-preview'>...</div><input id='attrs-46f7a45e-b598-4f21-9fa7-03b7d41ced26' class='xr-var-attrs-in' type='checkbox' ><label for='attrs-46f7a45e-b598-4f21-9fa7-03b7d41ced26' title='Show/Hide attributes'><svg class='icon xr-icon-file-text2'><use xlink:href='#icon-file-text2'></use></svg></label><input id='data-f8b6b81f-98f2-4444-8b09-4bbe28a700fa' class='xr-var-data-in' type='checkbox'><label for='data-f8b6b81f-98f2-4444-8b09-4bbe28a700fa' title='Show/Hide data repr'><svg class='icon xr-icon-database'><use xlink:href='#icon-database'></use></svg></label><div class='xr-var-attrs'><dl class='xr-attrs'><dt><span>long_name :</span></dt><dd>Buoy type (see https://www.aoml.noaa.gov/phod/dac/dirall.html)</dd><dt><span>units :</span></dt><dd>-</dd></dl></div><div class='xr-var-data'><pre>[17324 values with dtype=|S10]</pre></div></li><li class='xr-var-item'><div class='xr-var-name'><span>location_type</span></div><div class='xr-var-dims'>(traj)</div><div class='xr-var-dtype'>bool</div><div class='xr-var-preview xr-preview'>...</div><input id='attrs-e9e7d731-4437-475a-8271-ecfe641b75c4' class='xr-var-attrs-in' type='checkbox' ><label for='attrs-e9e7d731-4437-475a-8271-ecfe641b75c4' title='Show/Hide attributes'><svg class='icon xr-icon-file-text2'><use xlink:href='#icon-file-text2'></use></svg></label><input id='data-ccfc7f71-c873-4dd1-a1f6-45fd5788c381' class='xr-var-data-in' type='checkbox'><label for='data-ccfc7f71-c873-4dd1-a1f6-45fd5788c381' title='Show/Hide data repr'><svg class='icon xr-icon-database'><use xlink:href='#icon-database'></use></svg></label><div class='xr-var-attrs'><dl class='xr-attrs'><dt><span>long_name :</span></dt><dd>Satellite-based location system</dd><dt><span>units :</span></dt><dd>-</dd><dt><span>comments :</span></dt><dd>0 (Argos), 1 (GPS)</dd></dl></div><div class='xr-var-data'><pre>[17324 values with dtype=bool]</pre></div></li><li class='xr-var-item'><div class='xr-var-name'><span>DeployingShip</span></div><div class='xr-var-dims'>(traj)</div><div class='xr-var-dtype'>|S20</div><div class='xr-var-preview xr-preview'>...</div><input id='attrs-36c7c7b7-5dee-4308-a0af-cd75bca17996' class='xr-var-attrs-in' type='checkbox' ><label for='attrs-36c7c7b7-5dee-4308-a0af-cd75bca17996' title='Show/Hide attributes'><svg class='icon xr-icon-file-text2'><use xlink:href='#icon-file-text2'></use></svg></label><input id='data-e30c9aff-c5ae-421b-bea5-b2e7d5b0a96b' class='xr-var-data-in' type='checkbox'><label for='data-e30c9aff-c5ae-421b-bea5-b2e7d5b0a96b' title='Show/Hide data repr'><svg class='icon xr-icon-database'><use xlink:href='#icon-database'></use></svg></label><div class='xr-var-attrs'><dl class='xr-attrs'><dt><span>long_name :</span></dt><dd>Name of deployment ship</dd><dt><span>units :</span></dt><dd>-</dd></dl></div><div class='xr-var-data'><pre>[17324 values with dtype=|S20]</pre></div></li><li class='xr-var-item'><div class='xr-var-name'><span>DeploymentStatus</span></div><div class='xr-var-dims'>(traj)</div><div class='xr-var-dtype'>|S20</div><div class='xr-var-preview xr-preview'>...</div><input id='attrs-266c748c-a1a8-469a-ae07-a69a3a36df85' class='xr-var-attrs-in' type='checkbox' ><label for='attrs-266c748c-a1a8-469a-ae07-a69a3a36df85' title='Show/Hide attributes'><svg class='icon xr-icon-file-text2'><use xlink:href='#icon-file-text2'></use></svg></label><input id='data-9f6f6c72-34eb-4482-a995-1931e8af1522' class='xr-var-data-in' type='checkbox'><label for='data-9f6f6c72-34eb-4482-a995-1931e8af1522' title='Show/Hide data repr'><svg class='icon xr-icon-database'><use xlink:href='#icon-database'></use></svg></label><div class='xr-var-attrs'><dl class='xr-attrs'><dt><span>long_name :</span></dt><dd>Deployment status</dd><dt><span>units :</span></dt><dd>-</dd></dl></div><div class='xr-var-data'><pre>[17324 values with dtype=|S20]</pre></div></li><li class='xr-var-item'><div class='xr-var-name'><span>BuoyTypeManufacturer</span></div><div class='xr-var-dims'>(traj)</div><div class='xr-var-dtype'>|S20</div><div class='xr-var-preview xr-preview'>...</div><input id='attrs-0da51a4d-0d5e-4841-817c-03462b1429a3' class='xr-var-attrs-in' type='checkbox' ><label for='attrs-0da51a4d-0d5e-4841-817c-03462b1429a3' title='Show/Hide attributes'><svg class='icon xr-icon-file-text2'><use xlink:href='#icon-file-text2'></use></svg></label><input id='data-6af92a34-3f44-4534-88c5-ea131ebe3cf6' class='xr-var-data-in' type='checkbox'><label for='data-6af92a34-3f44-4534-88c5-ea131ebe3cf6' title='Show/Hide data repr'><svg class='icon xr-icon-database'><use xlink:href='#icon-database'></use></svg></label><div class='xr-var-attrs'><dl class='xr-attrs'><dt><span>long_name :</span></dt><dd>Buoy type manufacturer</dd><dt><span>units :</span></dt><dd>-</dd></dl></div><div class='xr-var-data'><pre>[17324 values with dtype=|S20]</pre></div></li><li class='xr-var-item'><div class='xr-var-name'><span>BuoyTypeSensorArray</span></div><div class='xr-var-dims'>(traj)</div><div class='xr-var-dtype'>|S20</div><div class='xr-var-preview xr-preview'>...</div><input id='attrs-880a012d-a1a1-4d49-9a30-04c53dee826f' class='xr-var-attrs-in' type='checkbox' ><label for='attrs-880a012d-a1a1-4d49-9a30-04c53dee826f' title='Show/Hide attributes'><svg class='icon xr-icon-file-text2'><use xlink:href='#icon-file-text2'></use></svg></label><input id='data-4e714cfa-fe0a-423c-a989-4f5eef365622' class='xr-var-data-in' type='checkbox'><label for='data-4e714cfa-fe0a-423c-a989-4f5eef365622' title='Show/Hide data repr'><svg class='icon xr-icon-database'><use xlink:href='#icon-database'></use></svg></label><div class='xr-var-attrs'><dl class='xr-attrs'><dt><span>long_name :</span></dt><dd>Buoy type sensor array</dd><dt><span>units :</span></dt><dd>-</dd></dl></div><div class='xr-var-data'><pre>[17324 values with dtype=|S20]</pre></div></li><li class='xr-var-item'><div class='xr-var-name'><span>CurrentProgram</span></div><div class='xr-var-dims'>(traj)</div><div class='xr-var-dtype'>float64</div><div class='xr-var-preview xr-preview'>...</div><input id='attrs-8450d8a4-bfb9-4116-9ca9-72c95590e662' class='xr-var-attrs-in' type='checkbox' ><label for='attrs-8450d8a4-bfb9-4116-9ca9-72c95590e662' title='Show/Hide attributes'><svg class='icon xr-icon-file-text2'><use xlink:href='#icon-file-text2'></use></svg></label><input id='data-6ab70493-b1e0-48e6-a6a5-1adf23d25f2e' class='xr-var-data-in' type='checkbox'><label for='data-6ab70493-b1e0-48e6-a6a5-1adf23d25f2e' title='Show/Hide data repr'><svg class='icon xr-icon-database'><use xlink:href='#icon-database'></use></svg></label><div class='xr-var-attrs'><dl class='xr-attrs'><dt><span>long_name :</span></dt><dd>Current Program</dd><dt><span>units :</span></dt><dd>-</dd></dl></div><div class='xr-var-data'><pre>[17324 values with dtype=float64]</pre></div></li><li class='xr-var-item'><div class='xr-var-name'><span>PurchaserFunding</span></div><div class='xr-var-dims'>(traj)</div><div class='xr-var-dtype'>|S20</div><div class='xr-var-preview xr-preview'>...</div><input id='attrs-48eec7a1-e584-4576-b340-4b41b2002ccc' class='xr-var-attrs-in' type='checkbox' ><label for='attrs-48eec7a1-e584-4576-b340-4b41b2002ccc' title='Show/Hide attributes'><svg class='icon xr-icon-file-text2'><use xlink:href='#icon-file-text2'></use></svg></label><input id='data-60e28d9c-0336-4767-be99-902c6b14a833' class='xr-var-data-in' type='checkbox'><label for='data-60e28d9c-0336-4767-be99-902c6b14a833' title='Show/Hide data repr'><svg class='icon xr-icon-database'><use xlink:href='#icon-database'></use></svg></label><div class='xr-var-attrs'><dl class='xr-attrs'><dt><span>long_name :</span></dt><dd>Purchaser funding</dd><dt><span>units :</span></dt><dd>-</dd></dl></div><div class='xr-var-data'><pre>[17324 values with dtype=|S20]</pre></div></li><li class='xr-var-item'><div class='xr-var-name'><span>SensorUpgrade</span></div><div class='xr-var-dims'>(traj)</div><div class='xr-var-dtype'>|S20</div><div class='xr-var-preview xr-preview'>...</div><input id='attrs-941589f9-ded7-47cb-950c-a9d9aadab6c7' class='xr-var-attrs-in' type='checkbox' ><label for='attrs-941589f9-ded7-47cb-950c-a9d9aadab6c7' title='Show/Hide attributes'><svg class='icon xr-icon-file-text2'><use xlink:href='#icon-file-text2'></use></svg></label><input id='data-ae91a545-b5dd-4417-8232-6bd394d307e1' class='xr-var-data-in' type='checkbox'><label for='data-ae91a545-b5dd-4417-8232-6bd394d307e1' title='Show/Hide data repr'><svg class='icon xr-icon-database'><use xlink:href='#icon-database'></use></svg></label><div class='xr-var-attrs'><dl class='xr-attrs'><dt><span>long_name :</span></dt><dd>Sensor upgrade</dd><dt><span>units :</span></dt><dd>-</dd></dl></div><div class='xr-var-data'><pre>[17324 values with dtype=|S20]</pre></div></li><li class='xr-var-item'><div class='xr-var-name'><span>Transmissions</span></div><div class='xr-var-dims'>(traj)</div><div class='xr-var-dtype'>|S20</div><div class='xr-var-preview xr-preview'>...</div><input id='attrs-d57e6351-732a-4436-af62-587663867d31' class='xr-var-attrs-in' type='checkbox' ><label for='attrs-d57e6351-732a-4436-af62-587663867d31' title='Show/Hide attributes'><svg class='icon xr-icon-file-text2'><use xlink:href='#icon-file-text2'></use></svg></label><input id='data-daa5bdf7-80d6-405b-a39b-d24af9162b73' class='xr-var-data-in' type='checkbox'><label for='data-daa5bdf7-80d6-405b-a39b-d24af9162b73' title='Show/Hide data repr'><svg class='icon xr-icon-database'><use xlink:href='#icon-database'></use></svg></label><div class='xr-var-attrs'><dl class='xr-attrs'><dt><span>long_name :</span></dt><dd>Transmissions</dd><dt><span>units :</span></dt><dd>-</dd></dl></div><div class='xr-var-data'><pre>[17324 values with dtype=|S20]</pre></div></li><li class='xr-var-item'><div class='xr-var-name'><span>DeployingCountry</span></div><div class='xr-var-dims'>(traj)</div><div class='xr-var-dtype'>|S20</div><div class='xr-var-preview xr-preview'>...</div><input id='attrs-cc32b8dc-ec3d-429f-a728-3761715fafd6' class='xr-var-attrs-in' type='checkbox' ><label for='attrs-cc32b8dc-ec3d-429f-a728-3761715fafd6' title='Show/Hide attributes'><svg class='icon xr-icon-file-text2'><use xlink:href='#icon-file-text2'></use></svg></label><input id='data-a59212df-7002-47e3-b5a2-8dc74f87d57e' class='xr-var-data-in' type='checkbox'><label for='data-a59212df-7002-47e3-b5a2-8dc74f87d57e' title='Show/Hide data repr'><svg class='icon xr-icon-database'><use xlink:href='#icon-database'></use></svg></label><div class='xr-var-attrs'><dl class='xr-attrs'><dt><span>long_name :</span></dt><dd>Deploying country</dd><dt><span>units :</span></dt><dd>-</dd></dl></div><div class='xr-var-data'><pre>[17324 values with dtype=|S20]</pre></div></li><li class='xr-var-item'><div class='xr-var-name'><span>DeploymentComments</span></div><div class='xr-var-dims'>(traj)</div><div class='xr-var-dtype'>|S20</div><div class='xr-var-preview xr-preview'>...</div><input id='attrs-497a5cbb-f0a5-48cf-ac59-eff9966d7fa6' class='xr-var-attrs-in' type='checkbox' ><label for='attrs-497a5cbb-f0a5-48cf-ac59-eff9966d7fa6' title='Show/Hide attributes'><svg class='icon xr-icon-file-text2'><use xlink:href='#icon-file-text2'></use></svg></label><input id='data-860b2963-c07f-4f10-8994-786d365d2d6f' class='xr-var-data-in' type='checkbox'><label for='data-860b2963-c07f-4f10-8994-786d365d2d6f' title='Show/Hide data repr'><svg class='icon xr-icon-database'><use xlink:href='#icon-database'></use></svg></label><div class='xr-var-attrs'><dl class='xr-attrs'><dt><span>long_name :</span></dt><dd>Deployment comments</dd><dt><span>units :</span></dt><dd>-</dd></dl></div><div class='xr-var-data'><pre>[17324 values with dtype=|S20]</pre></div></li><li class='xr-var-item'><div class='xr-var-name'><span>ManufactureYear</span></div><div class='xr-var-dims'>(traj)</div><div class='xr-var-dtype'>float32</div><div class='xr-var-preview xr-preview'>...</div><input id='attrs-b08138ea-6096-4bfe-a3d1-17aa1897fbdf' class='xr-var-attrs-in' type='checkbox' ><label for='attrs-b08138ea-6096-4bfe-a3d1-17aa1897fbdf' title='Show/Hide attributes'><svg class='icon xr-icon-file-text2'><use xlink:href='#icon-file-text2'></use></svg></label><input id='data-3ff86ce3-c7b1-4b41-a278-334b668cf794' class='xr-var-data-in' type='checkbox'><label for='data-3ff86ce3-c7b1-4b41-a278-334b668cf794' title='Show/Hide data repr'><svg class='icon xr-icon-database'><use xlink:href='#icon-database'></use></svg></label><div class='xr-var-attrs'><dl class='xr-attrs'><dt><span>long_name :</span></dt><dd>Manufacture year</dd><dt><span>units :</span></dt><dd>-</dd></dl></div><div class='xr-var-data'><pre>[17324 values with dtype=float32]</pre></div></li><li class='xr-var-item'><div class='xr-var-name'><span>ManufactureMonth</span></div><div class='xr-var-dims'>(traj)</div><div class='xr-var-dtype'>float32</div><div class='xr-var-preview xr-preview'>...</div><input id='attrs-45ec64ec-e2f5-4394-8cec-31ee54a6979e' class='xr-var-attrs-in' type='checkbox' ><label for='attrs-45ec64ec-e2f5-4394-8cec-31ee54a6979e' title='Show/Hide attributes'><svg class='icon xr-icon-file-text2'><use xlink:href='#icon-file-text2'></use></svg></label><input id='data-d610fcce-f78c-4da1-8c6c-73915e7ec2de' class='xr-var-data-in' type='checkbox'><label for='data-d610fcce-f78c-4da1-8c6c-73915e7ec2de' title='Show/Hide data repr'><svg class='icon xr-icon-database'><use xlink:href='#icon-database'></use></svg></label><div class='xr-var-attrs'><dl class='xr-attrs'><dt><span>long_name :</span></dt><dd>Manufacture month</dd><dt><span>units :</span></dt><dd>-</dd></dl></div><div class='xr-var-data'><pre>[17324 values with dtype=float32]</pre></div></li><li class='xr-var-item'><div class='xr-var-name'><span>ManufactureSensorType</span></div><div class='xr-var-dims'>(traj)</div><div class='xr-var-dtype'>|S20</div><div class='xr-var-preview xr-preview'>...</div><input id='attrs-fbe21d36-d463-46c0-b7bc-90be3c01fc4e' class='xr-var-attrs-in' type='checkbox' ><label for='attrs-fbe21d36-d463-46c0-b7bc-90be3c01fc4e' title='Show/Hide attributes'><svg class='icon xr-icon-file-text2'><use xlink:href='#icon-file-text2'></use></svg></label><input id='data-ee791410-8f5a-49b9-8215-4f51389846f6' class='xr-var-data-in' type='checkbox'><label for='data-ee791410-8f5a-49b9-8215-4f51389846f6' title='Show/Hide data repr'><svg class='icon xr-icon-database'><use xlink:href='#icon-database'></use></svg></label><div class='xr-var-attrs'><dl class='xr-attrs'><dt><span>long_name :</span></dt><dd>Manufacture Sensor Type</dd><dt><span>units :</span></dt><dd>-</dd></dl></div><div class='xr-var-data'><pre>[17324 values with dtype=|S20]</pre></div></li><li class='xr-var-item'><div class='xr-var-name'><span>ManufactureVoltage</span></div><div class='xr-var-dims'>(traj)</div><div class='xr-var-dtype'>float32</div><div class='xr-var-preview xr-preview'>...</div><input id='attrs-cac91d84-6b71-4cdb-8093-4243eab2d8ef' class='xr-var-attrs-in' type='checkbox' ><label for='attrs-cac91d84-6b71-4cdb-8093-4243eab2d8ef' title='Show/Hide attributes'><svg class='icon xr-icon-file-text2'><use xlink:href='#icon-file-text2'></use></svg></label><input id='data-fca268d5-e3c1-466b-bb16-3873b6704420' class='xr-var-data-in' type='checkbox'><label for='data-fca268d5-e3c1-466b-bb16-3873b6704420' title='Show/Hide data repr'><svg class='icon xr-icon-database'><use xlink:href='#icon-database'></use></svg></label><div class='xr-var-attrs'><dl class='xr-attrs'><dt><span>long_name :</span></dt><dd>Manufacture voltage</dd><dt><span>units :</span></dt><dd>V</dd></dl></div><div class='xr-var-data'><pre>[17324 values with dtype=float32]</pre></div></li><li class='xr-var-item'><div class='xr-var-name'><span>FloatDiameter</span></div><div class='xr-var-dims'>(traj)</div><div class='xr-var-dtype'>float64</div><div class='xr-var-preview xr-preview'>...</div><input id='attrs-6fc475aa-b3ef-40b4-bba2-d72893d04f1a' class='xr-var-attrs-in' type='checkbox' ><label for='attrs-6fc475aa-b3ef-40b4-bba2-d72893d04f1a' title='Show/Hide attributes'><svg class='icon xr-icon-file-text2'><use xlink:href='#icon-file-text2'></use></svg></label><input id='data-2766648a-7bd0-4aa3-bca8-25c6644e728a' class='xr-var-data-in' type='checkbox'><label for='data-2766648a-7bd0-4aa3-bca8-25c6644e728a' title='Show/Hide data repr'><svg class='icon xr-icon-database'><use xlink:href='#icon-database'></use></svg></label><div class='xr-var-attrs'><dl class='xr-attrs'><dt><span>long_name :</span></dt><dd>Diameter of surface floater</dd><dt><span>units :</span></dt><dd>cm</dd></dl></div><div class='xr-var-data'><pre>[17324 values with dtype=float64]</pre></div></li><li class='xr-var-item'><div class='xr-var-name'><span>SubsfcFloatPresence</span></div><div class='xr-var-dims'>(traj)</div><div class='xr-var-dtype'>bool</div><div class='xr-var-preview xr-preview'>...</div><input id='attrs-4f92c476-a363-41de-b62c-a54a15d3d7fd' class='xr-var-attrs-in' type='checkbox' ><label for='attrs-4f92c476-a363-41de-b62c-a54a15d3d7fd' title='Show/Hide attributes'><svg class='icon xr-icon-file-text2'><use xlink:href='#icon-file-text2'></use></svg></label><input id='data-b34f6f50-2ad6-434c-81a9-43ac85059673' class='xr-var-data-in' type='checkbox'><label for='data-b34f6f50-2ad6-434c-81a9-43ac85059673' title='Show/Hide data repr'><svg class='icon xr-icon-database'><use xlink:href='#icon-database'></use></svg></label><div class='xr-var-attrs'><dl class='xr-attrs'><dt><span>long_name :</span></dt><dd>Subsurface Float Presence</dd><dt><span>units :</span></dt><dd>-</dd></dl></div><div class='xr-var-data'><pre>[17324 values with dtype=bool]</pre></div></li><li class='xr-var-item'><div class='xr-var-name'><span>DrogueType</span></div><div class='xr-var-dims'>(traj)</div><div class='xr-var-dtype'>|S7</div><div class='xr-var-preview xr-preview'>...</div><input id='attrs-853863f5-9541-41f0-b3f9-0d76e282d50b' class='xr-var-attrs-in' type='checkbox' ><label for='attrs-853863f5-9541-41f0-b3f9-0d76e282d50b' title='Show/Hide attributes'><svg class='icon xr-icon-file-text2'><use xlink:href='#icon-file-text2'></use></svg></label><input id='data-ef24d1da-ddd3-4903-8852-a8f7a6a75ec8' class='xr-var-data-in' type='checkbox'><label for='data-ef24d1da-ddd3-4903-8852-a8f7a6a75ec8' title='Show/Hide data repr'><svg class='icon xr-icon-database'><use xlink:href='#icon-database'></use></svg></label><div class='xr-var-attrs'><dl class='xr-attrs'><dt><span>drogue_type :</span></dt><dd>Drogue Type</dd><dt><span>units :</span></dt><dd>-</dd></dl></div><div class='xr-var-data'><pre>[17324 values with dtype=|S7]</pre></div></li><li class='xr-var-item'><div class='xr-var-name'><span>DrogueLength</span></div><div class='xr-var-dims'>(traj)</div><div class='xr-var-dtype'>float64</div><div class='xr-var-preview xr-preview'>...</div><input id='attrs-e98fe48a-af8d-48bb-9a73-c7ba20cd4506' class='xr-var-attrs-in' type='checkbox' ><label for='attrs-e98fe48a-af8d-48bb-9a73-c7ba20cd4506' title='Show/Hide attributes'><svg class='icon xr-icon-file-text2'><use xlink:href='#icon-file-text2'></use></svg></label><input id='data-00f4bc51-3375-46ef-bb6e-701f997c4e97' class='xr-var-data-in' type='checkbox'><label for='data-00f4bc51-3375-46ef-bb6e-701f997c4e97' title='Show/Hide data repr'><svg class='icon xr-icon-database'><use xlink:href='#icon-database'></use></svg></label><div class='xr-var-attrs'><dl class='xr-attrs'><dt><span>long_name :</span></dt><dd>Length of drogue.</dd><dt><span>units :</span></dt><dd>m</dd></dl></div><div class='xr-var-data'><pre>[17324 values with dtype=float64]</pre></div></li><li class='xr-var-item'><div class='xr-var-name'><span>DrogueBallast</span></div><div class='xr-var-dims'>(traj)</div><div class='xr-var-dtype'>float64</div><div class='xr-var-preview xr-preview'>...</div><input id='attrs-064f0005-7bb3-4b21-b969-aeafabc5da61' class='xr-var-attrs-in' type='checkbox' ><label for='attrs-064f0005-7bb3-4b21-b969-aeafabc5da61' title='Show/Hide attributes'><svg class='icon xr-icon-file-text2'><use xlink:href='#icon-file-text2'></use></svg></label><input id='data-6d06cf79-0f74-4f7d-8b88-4d76238c6bb0' class='xr-var-data-in' type='checkbox'><label for='data-6d06cf79-0f74-4f7d-8b88-4d76238c6bb0' title='Show/Hide data repr'><svg class='icon xr-icon-database'><use xlink:href='#icon-database'></use></svg></label><div class='xr-var-attrs'><dl class='xr-attrs'><dt><span>long_name :</span></dt><dd>Weight of the drogue&#x27;s ballast.</dd><dt><span>units :</span></dt><dd>kg</dd></dl></div><div class='xr-var-data'><pre>[17324 values with dtype=float64]</pre></div></li><li class='xr-var-item'><div class='xr-var-name'><span>DragAreaAboveDrogue</span></div><div class='xr-var-dims'>(traj)</div><div class='xr-var-dtype'>float64</div><div class='xr-var-preview xr-preview'>...</div><input id='attrs-cb88ca86-e957-4cec-9bd9-58d0ab29fa64' class='xr-var-attrs-in' type='checkbox' ><label for='attrs-cb88ca86-e957-4cec-9bd9-58d0ab29fa64' title='Show/Hide attributes'><svg class='icon xr-icon-file-text2'><use xlink:href='#icon-file-text2'></use></svg></label><input id='data-13b16c10-161f-4e71-be9e-a7566cccd4f6' class='xr-var-data-in' type='checkbox'><label for='data-13b16c10-161f-4e71-be9e-a7566cccd4f6' title='Show/Hide data repr'><svg class='icon xr-icon-database'><use xlink:href='#icon-database'></use></svg></label><div class='xr-var-attrs'><dl class='xr-attrs'><dt><span>long_name :</span></dt><dd>Drag area above drogue.</dd><dt><span>units :</span></dt><dd>m^2</dd></dl></div><div class='xr-var-data'><pre>[17324 values with dtype=float64]</pre></div></li><li class='xr-var-item'><div class='xr-var-name'><span>DragAreaOfDrogue</span></div><div class='xr-var-dims'>(traj)</div><div class='xr-var-dtype'>float64</div><div class='xr-var-preview xr-preview'>...</div><input id='attrs-14f41da8-7ab9-4178-b80b-b75ce49b6249' class='xr-var-attrs-in' type='checkbox' ><label for='attrs-14f41da8-7ab9-4178-b80b-b75ce49b6249' title='Show/Hide attributes'><svg class='icon xr-icon-file-text2'><use xlink:href='#icon-file-text2'></use></svg></label><input id='data-02296916-a82b-4239-bdd8-c7867ebfaa29' class='xr-var-data-in' type='checkbox'><label for='data-02296916-a82b-4239-bdd8-c7867ebfaa29' title='Show/Hide data repr'><svg class='icon xr-icon-database'><use xlink:href='#icon-database'></use></svg></label><div class='xr-var-attrs'><dl class='xr-attrs'><dt><span>long_name :</span></dt><dd>Drag area drogue.</dd><dt><span>units :</span></dt><dd>m^2</dd></dl></div><div class='xr-var-data'><pre>[17324 values with dtype=float64]</pre></div></li><li class='xr-var-item'><div class='xr-var-name'><span>DragAreaRatio</span></div><div class='xr-var-dims'>(traj)</div><div class='xr-var-dtype'>float64</div><div class='xr-var-preview xr-preview'>...</div><input id='attrs-6014d81e-f8da-43b6-b99a-923e1e0a1348' class='xr-var-attrs-in' type='checkbox' ><label for='attrs-6014d81e-f8da-43b6-b99a-923e1e0a1348' title='Show/Hide attributes'><svg class='icon xr-icon-file-text2'><use xlink:href='#icon-file-text2'></use></svg></label><input id='data-0354c20e-421b-423c-9889-0956344cb73d' class='xr-var-data-in' type='checkbox'><label for='data-0354c20e-421b-423c-9889-0956344cb73d' title='Show/Hide data repr'><svg class='icon xr-icon-database'><use xlink:href='#icon-database'></use></svg></label><div class='xr-var-attrs'><dl class='xr-attrs'><dt><span>long_name :</span></dt><dd>Drag area ratio</dd><dt><span>units :</span></dt><dd>m</dd></dl></div><div class='xr-var-data'><pre>[17324 values with dtype=float64]</pre></div></li><li class='xr-var-item'><div class='xr-var-name'><span>DrogueCenterDepth</span></div><div class='xr-var-dims'>(traj)</div><div class='xr-var-dtype'>float64</div><div class='xr-var-preview xr-preview'>...</div><input id='attrs-2b74ebe2-a790-4a0b-86b4-9ab92c893f66' class='xr-var-attrs-in' type='checkbox' ><label for='attrs-2b74ebe2-a790-4a0b-86b4-9ab92c893f66' title='Show/Hide attributes'><svg class='icon xr-icon-file-text2'><use xlink:href='#icon-file-text2'></use></svg></label><input id='data-eec04f26-a6a4-4e82-9326-29bf4ba262e8' class='xr-var-data-in' type='checkbox'><label for='data-eec04f26-a6a4-4e82-9326-29bf4ba262e8' title='Show/Hide data repr'><svg class='icon xr-icon-database'><use xlink:href='#icon-database'></use></svg></label><div class='xr-var-attrs'><dl class='xr-attrs'><dt><span>long_name :</span></dt><dd>Average depth of the drogue.</dd><dt><span>units :</span></dt><dd>m</dd></dl></div><div class='xr-var-data'><pre>[17324 values with dtype=float64]</pre></div></li><li class='xr-var-item'><div class='xr-var-name'><span>DrogueDetectSensor</span></div><div class='xr-var-dims'>(traj)</div><div class='xr-var-dtype'>|S20</div><div class='xr-var-preview xr-preview'>...</div><input id='attrs-153d374c-bd1a-42db-b4c1-66bbfe5fd180' class='xr-var-attrs-in' type='checkbox' ><label for='attrs-153d374c-bd1a-42db-b4c1-66bbfe5fd180' title='Show/Hide attributes'><svg class='icon xr-icon-file-text2'><use xlink:href='#icon-file-text2'></use></svg></label><input id='data-e719b514-b4cc-4bee-aa8a-9fb05119aa01' class='xr-var-data-in' type='checkbox'><label for='data-e719b514-b4cc-4bee-aa8a-9fb05119aa01' title='Show/Hide data repr'><svg class='icon xr-icon-database'><use xlink:href='#icon-database'></use></svg></label><div class='xr-var-attrs'><dl class='xr-attrs'><dt><span>long_name :</span></dt><dd>Drogue detection sensor</dd><dt><span>units :</span></dt><dd>-</dd></dl></div><div class='xr-var-data'><pre>[17324 values with dtype=|S20]</pre></div></li><li class='xr-var-item'><div class='xr-var-name'><span>ve</span></div><div class='xr-var-dims'>(obs)</div><div class='xr-var-dtype'>float32</div><div class='xr-var-preview xr-preview'>...</div><input id='attrs-4e72b5c6-85ad-4d8b-a9ca-144efcd828f5' class='xr-var-attrs-in' type='checkbox' ><label for='attrs-4e72b5c6-85ad-4d8b-a9ca-144efcd828f5' title='Show/Hide attributes'><svg class='icon xr-icon-file-text2'><use xlink:href='#icon-file-text2'></use></svg></label><input id='data-96db789d-a0d0-4605-ae23-312235db5660' class='xr-var-data-in' type='checkbox'><label for='data-96db789d-a0d0-4605-ae23-312235db5660' title='Show/Hide data repr'><svg class='icon xr-icon-database'><use xlink:href='#icon-database'></use></svg></label><div class='xr-var-attrs'><dl class='xr-attrs'><dt><span>long_name :</span></dt><dd>Eastward velocity</dd><dt><span>units :</span></dt><dd>m/s</dd></dl></div><div class='xr-var-data'><pre>[165754333 values with dtype=float32]</pre></div></li><li class='xr-var-item'><div class='xr-var-name'><span>vn</span></div><div class='xr-var-dims'>(obs)</div><div class='xr-var-dtype'>float32</div><div class='xr-var-preview xr-preview'>...</div><input id='attrs-9744f75b-d891-441c-9eca-6d6d6b07da88' class='xr-var-attrs-in' type='checkbox' ><label for='attrs-9744f75b-d891-441c-9eca-6d6d6b07da88' title='Show/Hide attributes'><svg class='icon xr-icon-file-text2'><use xlink:href='#icon-file-text2'></use></svg></label><input id='data-2521e764-6b4e-48d1-ad37-b90fd30fbdfe' class='xr-var-data-in' type='checkbox'><label for='data-2521e764-6b4e-48d1-ad37-b90fd30fbdfe' title='Show/Hide data repr'><svg class='icon xr-icon-database'><use xlink:href='#icon-database'></use></svg></label><div class='xr-var-attrs'><dl class='xr-attrs'><dt><span>long_name :</span></dt><dd>Northward velocity</dd><dt><span>units :</span></dt><dd>m/s</dd></dl></div><div class='xr-var-data'><pre>[165754333 values with dtype=float32]</pre></div></li><li class='xr-var-item'><div class='xr-var-name'><span>err_lat</span></div><div class='xr-var-dims'>(obs)</div><div class='xr-var-dtype'>float32</div><div class='xr-var-preview xr-preview'>...</div><input id='attrs-becd48d0-1d82-4304-81ad-d0f54c3af6d3' class='xr-var-attrs-in' type='checkbox' ><label for='attrs-becd48d0-1d82-4304-81ad-d0f54c3af6d3' title='Show/Hide attributes'><svg class='icon xr-icon-file-text2'><use xlink:href='#icon-file-text2'></use></svg></label><input id='data-7404df59-a819-4400-9b10-cb33f08064cb' class='xr-var-data-in' type='checkbox'><label for='data-7404df59-a819-4400-9b10-cb33f08064cb' title='Show/Hide data repr'><svg class='icon xr-icon-database'><use xlink:href='#icon-database'></use></svg></label><div class='xr-var-attrs'><dl class='xr-attrs'><dt><span>long_name :</span></dt><dd>95% confidence interval in latitude</dd><dt><span>units :</span></dt><dd>degrees_north</dd></dl></div><div class='xr-var-data'><pre>[165754333 values with dtype=float32]</pre></div></li><li class='xr-var-item'><div class='xr-var-name'><span>err_lon</span></div><div class='xr-var-dims'>(obs)</div><div class='xr-var-dtype'>float32</div><div class='xr-var-preview xr-preview'>...</div><input id='attrs-63b6de0b-8fe1-4387-9eb4-29eb03f42845' class='xr-var-attrs-in' type='checkbox' ><label for='attrs-63b6de0b-8fe1-4387-9eb4-29eb03f42845' title='Show/Hide attributes'><svg class='icon xr-icon-file-text2'><use xlink:href='#icon-file-text2'></use></svg></label><input id='data-1213d042-c6d5-4ba0-9d80-bca3a304a5bb' class='xr-var-data-in' type='checkbox'><label for='data-1213d042-c6d5-4ba0-9d80-bca3a304a5bb' title='Show/Hide data repr'><svg class='icon xr-icon-database'><use xlink:href='#icon-database'></use></svg></label><div class='xr-var-attrs'><dl class='xr-attrs'><dt><span>long_name :</span></dt><dd>95% confidence interval in longitude</dd><dt><span>units :</span></dt><dd>degrees_east</dd></dl></div><div class='xr-var-data'><pre>[165754333 values with dtype=float32]</pre></div></li><li class='xr-var-item'><div class='xr-var-name'><span>err_ve</span></div><div class='xr-var-dims'>(obs)</div><div class='xr-var-dtype'>float32</div><div class='xr-var-preview xr-preview'>...</div><input id='attrs-ab74b72d-e1d9-4334-ac54-9ba2dc76ba07' class='xr-var-attrs-in' type='checkbox' ><label for='attrs-ab74b72d-e1d9-4334-ac54-9ba2dc76ba07' title='Show/Hide attributes'><svg class='icon xr-icon-file-text2'><use xlink:href='#icon-file-text2'></use></svg></label><input id='data-2b6a9024-6afb-4a84-96d9-64481de9c0ef' class='xr-var-data-in' type='checkbox'><label for='data-2b6a9024-6afb-4a84-96d9-64481de9c0ef' title='Show/Hide data repr'><svg class='icon xr-icon-database'><use xlink:href='#icon-database'></use></svg></label><div class='xr-var-attrs'><dl class='xr-attrs'><dt><span>long_name :</span></dt><dd>95% confidence interval in eastward velocity</dd><dt><span>units :</span></dt><dd>m/s</dd></dl></div><div class='xr-var-data'><pre>[165754333 values with dtype=float32]</pre></div></li><li class='xr-var-item'><div class='xr-var-name'><span>err_vn</span></div><div class='xr-var-dims'>(obs)</div><div class='xr-var-dtype'>float32</div><div class='xr-var-preview xr-preview'>...</div><input id='attrs-bf3fd8ee-894f-451b-8e23-c0643f0961d0' class='xr-var-attrs-in' type='checkbox' ><label for='attrs-bf3fd8ee-894f-451b-8e23-c0643f0961d0' title='Show/Hide attributes'><svg class='icon xr-icon-file-text2'><use xlink:href='#icon-file-text2'></use></svg></label><input id='data-b1e02fad-f647-4e13-a337-8b874c696f53' class='xr-var-data-in' type='checkbox'><label for='data-b1e02fad-f647-4e13-a337-8b874c696f53' title='Show/Hide data repr'><svg class='icon xr-icon-database'><use xlink:href='#icon-database'></use></svg></label><div class='xr-var-attrs'><dl class='xr-attrs'><dt><span>long_name :</span></dt><dd>95% confidence interval in northward velocity</dd><dt><span>units :</span></dt><dd>m/s</dd></dl></div><div class='xr-var-data'><pre>[165754333 values with dtype=float32]</pre></div></li><li class='xr-var-item'><div class='xr-var-name'><span>gap</span></div><div class='xr-var-dims'>(obs)</div><div class='xr-var-dtype'>float32</div><div class='xr-var-preview xr-preview'>...</div><input id='attrs-8dd3fca2-981e-437d-a277-12d443a18469' class='xr-var-attrs-in' type='checkbox' ><label for='attrs-8dd3fca2-981e-437d-a277-12d443a18469' title='Show/Hide attributes'><svg class='icon xr-icon-file-text2'><use xlink:href='#icon-file-text2'></use></svg></label><input id='data-a13659aa-7640-47a4-9627-9143766ab81f' class='xr-var-data-in' type='checkbox'><label for='data-a13659aa-7640-47a4-9627-9143766ab81f' title='Show/Hide data repr'><svg class='icon xr-icon-database'><use xlink:href='#icon-database'></use></svg></label><div class='xr-var-attrs'><dl class='xr-attrs'><dt><span>long_name :</span></dt><dd>Time interval between previous and next location</dd><dt><span>units :</span></dt><dd>s</dd></dl></div><div class='xr-var-data'><pre>[165754333 values with dtype=float32]</pre></div></li><li class='xr-var-item'><div class='xr-var-name'><span>sst</span></div><div class='xr-var-dims'>(obs)</div><div class='xr-var-dtype'>float64</div><div class='xr-var-preview xr-preview'>...</div><input id='attrs-50b00049-0714-49e9-942c-e5f21282a0fd' class='xr-var-attrs-in' type='checkbox' ><label for='attrs-50b00049-0714-49e9-942c-e5f21282a0fd' title='Show/Hide attributes'><svg class='icon xr-icon-file-text2'><use xlink:href='#icon-file-text2'></use></svg></label><input id='data-cbe3f3c7-3317-4661-9917-7d3f97031183' class='xr-var-data-in' type='checkbox'><label for='data-cbe3f3c7-3317-4661-9917-7d3f97031183' title='Show/Hide data repr'><svg class='icon xr-icon-database'><use xlink:href='#icon-database'></use></svg></label><div class='xr-var-attrs'><dl class='xr-attrs'><dt><span>long_name :</span></dt><dd>Fitted sea water temperature</dd><dt><span>units :</span></dt><dd>Kelvin</dd><dt><span>comments :</span></dt><dd>Estimated near-surface sea water temperature from drifting buoy measurements. It is the sum of the fitted near-surface non-diurnal sea water temperature and fitted diurnal sea water temperature anomaly. Discrepancies may occur because of rounding.</dd></dl></div><div class='xr-var-data'><pre>[165754333 values with dtype=float64]</pre></div></li><li class='xr-var-item'><div class='xr-var-name'><span>sst1</span></div><div class='xr-var-dims'>(obs)</div><div class='xr-var-dtype'>float64</div><div class='xr-var-preview xr-preview'>...</div><input id='attrs-aea6b7ff-7619-4118-9334-9cc95a3bb80a' class='xr-var-attrs-in' type='checkbox' ><label for='attrs-aea6b7ff-7619-4118-9334-9cc95a3bb80a' title='Show/Hide attributes'><svg class='icon xr-icon-file-text2'><use xlink:href='#icon-file-text2'></use></svg></label><input id='data-c3212eff-1870-4720-a32e-a8d81fb5a22c' class='xr-var-data-in' type='checkbox'><label for='data-c3212eff-1870-4720-a32e-a8d81fb5a22c' title='Show/Hide data repr'><svg class='icon xr-icon-database'><use xlink:href='#icon-database'></use></svg></label><div class='xr-var-attrs'><dl class='xr-attrs'><dt><span>long_name :</span></dt><dd>Fitted non-diurnal sea water temperature</dd><dt><span>units :</span></dt><dd>Kelvin</dd><dt><span>comments :</span></dt><dd>Estimated near-surface non-diurnal sea water temperature from drifting buoy measurements</dd></dl></div><div class='xr-var-data'><pre>[165754333 values with dtype=float64]</pre></div></li><li class='xr-var-item'><div class='xr-var-name'><span>sst2</span></div><div class='xr-var-dims'>(obs)</div><div class='xr-var-dtype'>float64</div><div class='xr-var-preview xr-preview'>...</div><input id='attrs-74fb7cee-b0e3-4f4a-9bb5-fa649ac7399a' class='xr-var-attrs-in' type='checkbox' ><label for='attrs-74fb7cee-b0e3-4f4a-9bb5-fa649ac7399a' title='Show/Hide attributes'><svg class='icon xr-icon-file-text2'><use xlink:href='#icon-file-text2'></use></svg></label><input id='data-22fac2d4-3203-4bdf-90d6-213484440df6' class='xr-var-data-in' type='checkbox'><label for='data-22fac2d4-3203-4bdf-90d6-213484440df6' title='Show/Hide data repr'><svg class='icon xr-icon-database'><use xlink:href='#icon-database'></use></svg></label><div class='xr-var-attrs'><dl class='xr-attrs'><dt><span>long_name :</span></dt><dd>Fitted diurnal sea water temperature anomaly</dd><dt><span>units :</span></dt><dd>Kelvin</dd><dt><span>comments :</span></dt><dd>Estimated near-surface diurnal sea water temperature anomaly from drifting buoy measurements</dd></dl></div><div class='xr-var-data'><pre>[165754333 values with dtype=float64]</pre></div></li><li class='xr-var-item'><div class='xr-var-name'><span>err_sst</span></div><div class='xr-var-dims'>(obs)</div><div class='xr-var-dtype'>float64</div><div class='xr-var-preview xr-preview'>...</div><input id='attrs-b03847a6-2a94-4875-80bc-ff40f81e05cf' class='xr-var-attrs-in' type='checkbox' ><label for='attrs-b03847a6-2a94-4875-80bc-ff40f81e05cf' title='Show/Hide attributes'><svg class='icon xr-icon-file-text2'><use xlink:href='#icon-file-text2'></use></svg></label><input id='data-7400b66d-fc93-4e9c-abcc-982ca1f3b061' class='xr-var-data-in' type='checkbox'><label for='data-7400b66d-fc93-4e9c-abcc-982ca1f3b061' title='Show/Hide data repr'><svg class='icon xr-icon-database'><use xlink:href='#icon-database'></use></svg></label><div class='xr-var-attrs'><dl class='xr-attrs'><dt><span>long_name :</span></dt><dd>Standard uncertainty of fitted sea water temperature</dd><dt><span>units :</span></dt><dd>Kelvin</dd><dt><span>comments :</span></dt><dd>Estimated one standard error of near-surface sea water temperature estimate from drifting buoy measurements</dd></dl></div><div class='xr-var-data'><pre>[165754333 values with dtype=float64]</pre></div></li><li class='xr-var-item'><div class='xr-var-name'><span>err_sst1</span></div><div class='xr-var-dims'>(obs)</div><div class='xr-var-dtype'>float64</div><div class='xr-var-preview xr-preview'>...</div><input id='attrs-407eff80-d114-40f2-b816-a808082d573a' class='xr-var-attrs-in' type='checkbox' ><label for='attrs-407eff80-d114-40f2-b816-a808082d573a' title='Show/Hide attributes'><svg class='icon xr-icon-file-text2'><use xlink:href='#icon-file-text2'></use></svg></label><input id='data-8b93942d-6556-4e85-9719-9221c0633dbf' class='xr-var-data-in' type='checkbox'><label for='data-8b93942d-6556-4e85-9719-9221c0633dbf' title='Show/Hide data repr'><svg class='icon xr-icon-database'><use xlink:href='#icon-database'></use></svg></label><div class='xr-var-attrs'><dl class='xr-attrs'><dt><span>long_name :</span></dt><dd>Standard uncertainty of fitted non-diurnal sea water temperature</dd><dt><span>units :</span></dt><dd>Kelvin</dd><dt><span>comments :</span></dt><dd>Estimated one standard error of near-surface non-diurnal sea water temperature estimate from drifting buoy measurements</dd></dl></div><div class='xr-var-data'><pre>[165754333 values with dtype=float64]</pre></div></li><li class='xr-var-item'><div class='xr-var-name'><span>err_sst2</span></div><div class='xr-var-dims'>(obs)</div><div class='xr-var-dtype'>float64</div><div class='xr-var-preview xr-preview'>...</div><input id='attrs-cc3fc275-9075-4071-9af9-9cdceccf93cf' class='xr-var-attrs-in' type='checkbox' ><label for='attrs-cc3fc275-9075-4071-9af9-9cdceccf93cf' title='Show/Hide attributes'><svg class='icon xr-icon-file-text2'><use xlink:href='#icon-file-text2'></use></svg></label><input id='data-8de6d19e-ddce-4e2d-b032-271839b2e141' class='xr-var-data-in' type='checkbox'><label for='data-8de6d19e-ddce-4e2d-b032-271839b2e141' title='Show/Hide data repr'><svg class='icon xr-icon-database'><use xlink:href='#icon-database'></use></svg></label><div class='xr-var-attrs'><dl class='xr-attrs'><dt><span>long_name :</span></dt><dd>Standard uncertainty of fitted diurnal sea water temperature anomaly</dd><dt><span>units :</span></dt><dd>Kelvin</dd><dt><span>comments :</span></dt><dd>Estimated one standard error of near-surface diurnal sea water temperature anomaly estimate from drifting buoy measurements</dd></dl></div><div class='xr-var-data'><pre>[165754333 values with dtype=float64]</pre></div></li><li class='xr-var-item'><div class='xr-var-name'><span>flg_sst</span></div><div class='xr-var-dims'>(obs)</div><div class='xr-var-dtype'>int8</div><div class='xr-var-preview xr-preview'>...</div><input id='attrs-0bf107fc-d4c7-412e-9c60-a4dd5628e636' class='xr-var-attrs-in' type='checkbox' ><label for='attrs-0bf107fc-d4c7-412e-9c60-a4dd5628e636' title='Show/Hide attributes'><svg class='icon xr-icon-file-text2'><use xlink:href='#icon-file-text2'></use></svg></label><input id='data-4acda087-8da5-425b-98fd-44bb488c9781' class='xr-var-data-in' type='checkbox'><label for='data-4acda087-8da5-425b-98fd-44bb488c9781' title='Show/Hide data repr'><svg class='icon xr-icon-database'><use xlink:href='#icon-database'></use></svg></label><div class='xr-var-attrs'><dl class='xr-attrs'><dt><span>long_name :</span></dt><dd>Fitted sea water temperature quality flag</dd><dt><span>units :</span></dt><dd>-</dd><dt><span>flag_values :</span></dt><dd>0, 1, 2, 3, 4, 5</dd><dt><span>flag_meanings :</span></dt><dd>no-estimate, no-uncertainty-estimate, estimate-not-in-range-uncertainty-not-in-range, estimate-not-in-range-uncertainty-in-range estimate-in-range-uncertainty-not-in-range, estimate-in-range-uncertainty-in-range</dd></dl></div><div class='xr-var-data'><pre>[165754333 values with dtype=int8]</pre></div></li><li class='xr-var-item'><div class='xr-var-name'><span>flg_sst1</span></div><div class='xr-var-dims'>(obs)</div><div class='xr-var-dtype'>int8</div><div class='xr-var-preview xr-preview'>...</div><input id='attrs-ba609adb-9f2e-43fe-b701-8680337dbbee' class='xr-var-attrs-in' type='checkbox' ><label for='attrs-ba609adb-9f2e-43fe-b701-8680337dbbee' title='Show/Hide attributes'><svg class='icon xr-icon-file-text2'><use xlink:href='#icon-file-text2'></use></svg></label><input id='data-02935627-f95f-4353-bd01-9adc96bfd16c' class='xr-var-data-in' type='checkbox'><label for='data-02935627-f95f-4353-bd01-9adc96bfd16c' title='Show/Hide data repr'><svg class='icon xr-icon-database'><use xlink:href='#icon-database'></use></svg></label><div class='xr-var-attrs'><dl class='xr-attrs'><dt><span>long_name :</span></dt><dd>Fitted non-diurnal sea water temperature quality flag</dd><dt><span>units :</span></dt><dd>-</dd><dt><span>flag_values :</span></dt><dd>0, 1, 2, 3, 4, 5</dd><dt><span>flag_meanings :</span></dt><dd>no-estimate, no-uncertainty-estimate, estimate-not-in-range-uncertainty-not-in-range, estimate-not-in-range-uncertainty-in-range estimate-in-range-uncertainty-not-in-range, estimate-in-range-uncertainty-in-range</dd></dl></div><div class='xr-var-data'><pre>[165754333 values with dtype=int8]</pre></div></li><li class='xr-var-item'><div class='xr-var-name'><span>flg_sst2</span></div><div class='xr-var-dims'>(obs)</div><div class='xr-var-dtype'>int8</div><div class='xr-var-preview xr-preview'>...</div><input id='attrs-472d38b0-79c6-4c3d-87bb-4130d1cadab4' class='xr-var-attrs-in' type='checkbox' ><label for='attrs-472d38b0-79c6-4c3d-87bb-4130d1cadab4' title='Show/Hide attributes'><svg class='icon xr-icon-file-text2'><use xlink:href='#icon-file-text2'></use></svg></label><input id='data-e61612c2-2c94-448f-860d-7e7b0bf5e42c' class='xr-var-data-in' type='checkbox'><label for='data-e61612c2-2c94-448f-860d-7e7b0bf5e42c' title='Show/Hide data repr'><svg class='icon xr-icon-database'><use xlink:href='#icon-database'></use></svg></label><div class='xr-var-attrs'><dl class='xr-attrs'><dt><span>long_name :</span></dt><dd>Fitted diurnal sea water temperature anomaly quality flag</dd><dt><span>units :</span></dt><dd>-</dd><dt><span>flag_values :</span></dt><dd>0, 1, 2, 3, 4, 5</dd><dt><span>flag_meanings :</span></dt><dd>no-estimate, no-uncertainty-estimate, estimate-not-in-range-uncertainty-not-in-range, estimate-not-in-range-uncertainty-in-range estimate-in-range-uncertainty-not-in-range, estimate-in-range-uncertainty-in-range</dd></dl></div><div class='xr-var-data'><pre>[165754333 values with dtype=int8]</pre></div></li><li class='xr-var-item'><div class='xr-var-name'><span>drogue_status</span></div><div class='xr-var-dims'>(obs)</div><div class='xr-var-dtype'>bool</div><div class='xr-var-preview xr-preview'>...</div><input id='attrs-7d248c56-ccf4-40ef-a616-21020efb48f8' class='xr-var-attrs-in' type='checkbox' ><label for='attrs-7d248c56-ccf4-40ef-a616-21020efb48f8' title='Show/Hide attributes'><svg class='icon xr-icon-file-text2'><use xlink:href='#icon-file-text2'></use></svg></label><input id='data-137435b6-8e74-4775-b8e9-0e174e7612f3' class='xr-var-data-in' type='checkbox'><label for='data-137435b6-8e74-4775-b8e9-0e174e7612f3' title='Show/Hide data repr'><svg class='icon xr-icon-database'><use xlink:href='#icon-database'></use></svg></label><div class='xr-var-attrs'><dl class='xr-attrs'><dt><span>long_name :</span></dt><dd>Status indicating the presence of the drogue</dd><dt><span>units :</span></dt><dd>-</dd><dt><span>flag_values :</span></dt><dd>1,0</dd><dt><span>flag_meanings :</span></dt><dd>drogued, undrogued</dd></dl></div><div class='xr-var-data'><pre>[165754333 values with dtype=bool]</pre></div></li></ul></div></li><li class='xr-section-item'><input id='section-a5fa0415-3524-4bb0-84fa-52123b470808' class='xr-section-summary-in' type='checkbox' disabled ><label for='section-a5fa0415-3524-4bb0-84fa-52123b470808' class='xr-section-summary'  title='Expand/collapse section'>Indexes: <span>(0)</span></label><div class='xr-section-inline-details'></div><div class='xr-section-details'><ul class='xr-var-list'></ul></div></li><li class='xr-section-item'><input id='section-c21b9bb4-8890-4d93-ab31-a96314144939' class='xr-section-summary-in' type='checkbox'  ><label for='section-c21b9bb4-8890-4d93-ab31-a96314144939' class='xr-section-summary' >Attributes: <span>(16)</span></label><div class='xr-section-inline-details'></div><div class='xr-section-details'><dl class='xr-attrs'><dt><span>title :</span></dt><dd>Global Drifter Program hourly drifting buoy collection</dd><dt><span>history :</span></dt><dd>Version 2.00.  Metadata from dirall.dat and deplog.dat</dd><dt><span>Conventions :</span></dt><dd>CF-1.6</dd><dt><span>date_created :</span></dt><dd>2022-12-09T06:02:29.684949</dd><dt><span>publisher_name :</span></dt><dd>GDP Drifter DAC</dd><dt><span>publisher_email :</span></dt><dd>aoml.dftr@noaa.gov</dd><dt><span>publisher_url :</span></dt><dd>https://www.aoml.noaa.gov/phod/gdp</dd><dt><span>licence :</span></dt><dd>freely available</dd><dt><span>processing_level :</span></dt><dd>Level 2 QC by GDP drifter DAC</dd><dt><span>metadata_link :</span></dt><dd>https://www.aoml.noaa.gov/phod/dac/dirall.html</dd><dt><span>contributor_name :</span></dt><dd>NOAA Global Drifter Program</dd><dt><span>contributor_role :</span></dt><dd>Data Acquisition Center</dd><dt><span>institution :</span></dt><dd>NOAA Atlantic Oceanographic and Meteorological Laboratory</dd><dt><span>acknowledgement :</span></dt><dd>Elipot, Shane; Sykulski, Adam; Lumpkin, Rick; Centurioni, Luca; Pazos, Mayra (2022). Hourly location, current velocity, and temperature collected from Global Drifter Program drifters world-wide. [indicate subset used]. NOAA National Centers for Environmental Information. Dataset. https://doi.org/10.25921/x46c-3620. Accessed [date]. Elipot et al. (2022): A Dataset of Hourly Sea Surface Temperature From Drifting Buoys, Scientific Data, 9, 567, https://dx.doi.org/10.1038/s41597-022-01670-2. Elipot et al. (2016): A global surface drifter dataset at hourly resolution, J. Geophys. Res.-Oceans, 121, https://dx.doi.org/10.1002/2016JC011716.</dd><dt><span>summary :</span></dt><dd>Global Drifter Program hourly data</dd><dt><span>doi :</span></dt><dd>10.25921/x46c-3620</dd></dl></div></li></ul></div></div>"
      ],
      "text/plain": [
       "<xarray.Dataset>\n",
       "Dimensions:                (traj: 17324, obs: 165754333)\n",
       "Coordinates:\n",
       "    ids                    (obs) int64 ...\n",
       "    time                   (obs) datetime64[ns] ...\n",
       "    lon                    (obs) float32 ...\n",
       "    lat                    (obs) float32 ...\n",
       "Dimensions without coordinates: traj, obs\n",
       "Data variables: (12/55)\n",
       "    ID                     (traj) int64 ...\n",
       "    rowsize                (traj) int32 ...\n",
       "    WMO                    (traj) int32 ...\n",
       "    expno                  (traj) int32 ...\n",
       "    deploy_date            (traj) datetime64[ns] ...\n",
       "    deploy_lat             (traj) float64 ...\n",
       "    ...                     ...\n",
       "    err_sst1               (obs) float64 ...\n",
       "    err_sst2               (obs) float64 ...\n",
       "    flg_sst                (obs) int8 ...\n",
       "    flg_sst1               (obs) int8 ...\n",
       "    flg_sst2               (obs) int8 ...\n",
       "    drogue_status          (obs) bool ...\n",
       "Attributes: (12/16)\n",
       "    title:             Global Drifter Program hourly drifting buoy collection\n",
       "    history:           Version 2.00.  Metadata from dirall.dat and deplog.dat\n",
       "    Conventions:       CF-1.6\n",
       "    date_created:      2022-12-09T06:02:29.684949\n",
       "    publisher_name:    GDP Drifter DAC\n",
       "    publisher_email:   aoml.dftr@noaa.gov\n",
       "    ...                ...\n",
       "    contributor_name:  NOAA Global Drifter Program\n",
       "    contributor_role:  Data Acquisition Center\n",
       "    institution:       NOAA Atlantic Oceanographic and Meteorological Laboratory\n",
       "    acknowledgement:   Elipot, Shane; Sykulski, Adam; Lumpkin, Rick; Centurio...\n",
       "    summary:           Global Drifter Program hourly data\n",
       "    doi:               10.25921/x46c-3620"
      ]
     },
     "execution_count": 4,
     "metadata": {},
     "output_type": "execute_result"
    }
   ],
   "source": [
    "ds"
   ]
  },
  {
   "attachments": {},
   "cell_type": "markdown",
   "metadata": {},
   "source": [
    "Some explanation about the ragged array representation of the data and how the GDP data are organized. In order to access the data for one given trajectory, one needs to build a trajectory index. This is conveniently done from the `rowsize` variable that indicates the number of rows in the ragged array for each trajectory. "
   ]
  },
  {
   "cell_type": "code",
   "execution_count": 5,
   "metadata": {},
   "outputs": [],
   "source": [
    "# create a trajectory index\n",
    "traj_idx = np.insert(np.cumsum(ds.rowsize.values), 0, 0)"
   ]
  },
  {
   "cell_type": "code",
   "execution_count": 6,
   "metadata": {},
   "outputs": [
    {
     "data": {
      "text/plain": [
       "[<matplotlib.lines.Line2D at 0x15fc3dc60>]"
      ]
     },
     "execution_count": 6,
     "metadata": {},
     "output_type": "execute_result"
    },
    {
     "data": {
      "image/png": "[encoded data removed]",
      "text/plain": [
       "<Figure size 640x480 with 1 Axes>"
      ]
     },
     "metadata": {},
     "output_type": "display_data"
    }
   ],
   "source": [
    "j = 100\n",
    "sli = slice(traj_idx[j], traj_idx[j+1])\n",
    "plt.plot(np.diff(ds.time[sli])/1e9,'.')"
   ]
  },
  {
   "cell_type": "code",
   "execution_count": 7,
   "metadata": {},
   "outputs": [
    {
     "data": {
      "text/html": [
       "<div><svg style=\"position: absolute; width: 0; height: 0; overflow: hidden\">\n",
       "<defs>\n",
       "<symbol id=\"icon-database\" viewBox=\"0 0 32 32\">\n",
       "<path d=\"M16 0c-8.837 0-16 2.239-16 5v4c0 2.761 7.163 5 16 5s16-2.239 16-5v-4c0-2.761-7.163-5-16-5z\"></path>\n",
       "<path d=\"M16 17c-8.837 0-16-2.239-16-5v6c0 2.761 7.163 5 16 5s16-2.239 16-5v-6c0 2.761-7.163 5-16 5z\"></path>\n",
       "<path d=\"M16 26c-8.837 0-16-2.239-16-5v6c0 2.761 7.163 5 16 5s16-2.239 16-5v-6c0 2.761-7.163 5-16 5z\"></path>\n",
       "</symbol>\n",
       "<symbol id=\"icon-file-text2\" viewBox=\"0 0 32 32\">\n",
       "<path d=\"M28.681 7.159c-0.694-0.947-1.662-2.053-2.724-3.116s-2.169-2.030-3.116-2.724c-1.612-1.182-2.393-1.319-2.841-1.319h-15.5c-1.378 0-2.5 1.121-2.5 2.5v27c0 1.378 1.122 2.5 2.5 2.5h23c1.378 0 2.5-1.122 2.5-2.5v-19.5c0-0.448-0.137-1.23-1.319-2.841zM24.543 5.457c0.959 0.959 1.712 1.825 2.268 2.543h-4.811v-4.811c0.718 0.556 1.584 1.309 2.543 2.268zM28 29.5c0 0.271-0.229 0.5-0.5 0.5h-23c-0.271 0-0.5-0.229-0.5-0.5v-27c0-0.271 0.229-0.5 0.5-0.5 0 0 15.499-0 15.5 0v7c0 0.552 0.448 1 1 1h7v19.5z\"></path>\n",
       "<path d=\"M23 26h-14c-0.552 0-1-0.448-1-1s0.448-1 1-1h14c0.552 0 1 0.448 1 1s-0.448 1-1 1z\"></path>\n",
       "<path d=\"M23 22h-14c-0.552 0-1-0.448-1-1s0.448-1 1-1h14c0.552 0 1 0.448 1 1s-0.448 1-1 1z\"></path>\n",
       "<path d=\"M23 18h-14c-0.552 0-1-0.448-1-1s0.448-1 1-1h14c0.552 0 1 0.448 1 1s-0.448 1-1 1z\"></path>\n",
       "</symbol>\n",
       "</defs>\n",
       "</svg>\n",
       "<style>/* CSS stylesheet for displaying xarray objects in jupyterlab.\n",
       " *\n",
       " */\n",
       "\n",
       ":root {\n",
       "  --xr-font-color0: var(--jp-content-font-color0, rgba(0, 0, 0, 1));\n",
       "  --xr-font-color2: var(--jp-content-font-color2, rgba(0, 0, 0, 0.54));\n",
       "  --xr-font-color3: var(--jp-content-font-color3, rgba(0, 0, 0, 0.38));\n",
       "  --xr-border-color: var(--jp-border-color2, #e0e0e0);\n",
       "  --xr-disabled-color: var(--jp-layout-color3, #bdbdbd);\n",
       "  --xr-background-color: var(--jp-layout-color0, white);\n",
       "  --xr-background-color-row-even: var(--jp-layout-color1, white);\n",
       "  --xr-background-color-row-odd: var(--jp-layout-color2, #eeeeee);\n",
       "}\n",
       "\n",
       "html[theme=dark],\n",
       "body[data-theme=dark],\n",
       "body.vscode-dark {\n",
       "  --xr-font-color0: rgba(255, 255, 255, 1);\n",
       "  --xr-font-color2: rgba(255, 255, 255, 0.54);\n",
       "  --xr-font-color3: rgba(255, 255, 255, 0.38);\n",
       "  --xr-border-color: #1F1F1F;\n",
       "  --xr-disabled-color: #515151;\n",
       "  --xr-background-color: #111111;\n",
       "  --xr-background-color-row-even: #111111;\n",
       "  --xr-background-color-row-odd: #313131;\n",
       "}\n",
       "\n",
       ".xr-wrap {\n",
       "  display: block !important;\n",
       "  min-width: 300px;\n",
       "  max-width: 700px;\n",
       "}\n",
       "\n",
       ".xr-text-repr-fallback {\n",
       "  /* fallback to plain text repr when CSS is not injected (untrusted notebook) */\n",
       "  display: none;\n",
       "}\n",
       "\n",
       ".xr-header {\n",
       "  padding-top: 6px;\n",
       "  padding-bottom: 6px;\n",
       "  margin-bottom: 4px;\n",
       "  border-bottom: solid 1px var(--xr-border-color);\n",
       "}\n",
       "\n",
       ".xr-header > div,\n",
       ".xr-header > ul {\n",
       "  display: inline;\n",
       "  margin-top: 0;\n",
       "  margin-bottom: 0;\n",
       "}\n",
       "\n",
       ".xr-obj-type,\n",
       ".xr-array-name {\n",
       "  margin-left: 2px;\n",
       "  margin-right: 10px;\n",
       "}\n",
       "\n",
       ".xr-obj-type {\n",
       "  color: var(--xr-font-color2);\n",
       "}\n",
       "\n",
       ".xr-sections {\n",
       "  padding-left: 0 !important;\n",
       "  display: grid;\n",
       "  grid-template-columns: 150px auto auto 1fr 20px 20px;\n",
       "}\n",
       "\n",
       ".xr-section-item {\n",
       "  display: contents;\n",
       "}\n",
       "\n",
       ".xr-section-item input {\n",
       "  display: none;\n",
       "}\n",
       "\n",
       ".xr-section-item input + label {\n",
       "  color: var(--xr-disabled-color);\n",
       "}\n",
       "\n",
       ".xr-section-item input:enabled + label {\n",
       "  cursor: pointer;\n",
       "  color: var(--xr-font-color2);\n",
       "}\n",
       "\n",
       ".xr-section-item input:enabled + label:hover {\n",
       "  color: var(--xr-font-color0);\n",
       "}\n",
       "\n",
       ".xr-section-summary {\n",
       "  grid-column: 1;\n",
       "  color: var(--xr-font-color2);\n",
       "  font-weight: 500;\n",
       "}\n",
       "\n",
       ".xr-section-summary > span {\n",
       "  display: inline-block;\n",
       "  padding-left: 0.5em;\n",
       "}\n",
       "\n",
       ".xr-section-summary-in:disabled + label {\n",
       "  color: var(--xr-font-color2);\n",
       "}\n",
       "\n",
       ".xr-section-summary-in + label:before {\n",
       "  display: inline-block;\n",
       "  content: '►';\n",
       "  font-size: 11px;\n",
       "  width: 15px;\n",
       "  text-align: center;\n",
       "}\n",
       "\n",
       ".xr-section-summary-in:disabled + label:before {\n",
       "  color: var(--xr-disabled-color);\n",
       "}\n",
       "\n",
       ".xr-section-summary-in:checked + label:before {\n",
       "  content: '▼';\n",
       "}\n",
       "\n",
       ".xr-section-summary-in:checked + label > span {\n",
       "  display: none;\n",
       "}\n",
       "\n",
       ".xr-section-summary,\n",
       ".xr-section-inline-details {\n",
       "  padding-top: 4px;\n",
       "  padding-bottom: 4px;\n",
       "}\n",
       "\n",
       ".xr-section-inline-details {\n",
       "  grid-column: 2 / -1;\n",
       "}\n",
       "\n",
       ".xr-section-details {\n",
       "  display: none;\n",
       "  grid-column: 1 / -1;\n",
       "  margin-bottom: 5px;\n",
       "}\n",
       "\n",
       ".xr-section-summary-in:checked ~ .xr-section-details {\n",
       "  display: contents;\n",
       "}\n",
       "\n",
       ".xr-array-wrap {\n",
       "  grid-column: 1 / -1;\n",
       "  display: grid;\n",
       "  grid-template-columns: 20px auto;\n",
       "}\n",
       "\n",
       ".xr-array-wrap > label {\n",
       "  grid-column: 1;\n",
       "  vertical-align: top;\n",
       "}\n",
       "\n",
       ".xr-preview {\n",
       "  color: var(--xr-font-color3);\n",
       "}\n",
       "\n",
       ".xr-array-preview,\n",
       ".xr-array-data {\n",
       "  padding: 0 5px !important;\n",
       "  grid-column: 2;\n",
       "}\n",
       "\n",
       ".xr-array-data,\n",
       ".xr-array-in:checked ~ .xr-array-preview {\n",
       "  display: none;\n",
       "}\n",
       "\n",
       ".xr-array-in:checked ~ .xr-array-data,\n",
       ".xr-array-preview {\n",
       "  display: inline-block;\n",
       "}\n",
       "\n",
       ".xr-dim-list {\n",
       "  display: inline-block !important;\n",
       "  list-style: none;\n",
       "  padding: 0 !important;\n",
       "  margin: 0;\n",
       "}\n",
       "\n",
       ".xr-dim-list li {\n",
       "  display: inline-block;\n",
       "  padding: 0;\n",
       "  margin: 0;\n",
       "}\n",
       "\n",
       ".xr-dim-list:before {\n",
       "  content: '(';\n",
       "}\n",
       "\n",
       ".xr-dim-list:after {\n",
       "  content: ')';\n",
       "}\n",
       "\n",
       ".xr-dim-list li:not(:last-child):after {\n",
       "  content: ',';\n",
       "  padding-right: 5px;\n",
       "}\n",
       "\n",
       ".xr-has-index {\n",
       "  font-weight: bold;\n",
       "}\n",
       "\n",
       ".xr-var-list,\n",
       ".xr-var-item {\n",
       "  display: contents;\n",
       "}\n",
       "\n",
       ".xr-var-item > div,\n",
       ".xr-var-item label,\n",
       ".xr-var-item > .xr-var-name span {\n",
       "  background-color: var(--xr-background-color-row-even);\n",
       "  margin-bottom: 0;\n",
       "}\n",
       "\n",
       ".xr-var-item > .xr-var-name:hover span {\n",
       "  padding-right: 5px;\n",
       "}\n",
       "\n",
       ".xr-var-list > li:nth-child(odd) > div,\n",
       ".xr-var-list > li:nth-child(odd) > label,\n",
       ".xr-var-list > li:nth-child(odd) > .xr-var-name span {\n",
       "  background-color: var(--xr-background-color-row-odd);\n",
       "}\n",
       "\n",
       ".xr-var-name {\n",
       "  grid-column: 1;\n",
       "}\n",
       "\n",
       ".xr-var-dims {\n",
       "  grid-column: 2;\n",
       "}\n",
       "\n",
       ".xr-var-dtype {\n",
       "  grid-column: 3;\n",
       "  text-align: right;\n",
       "  color: var(--xr-font-color2);\n",
       "}\n",
       "\n",
       ".xr-var-preview {\n",
       "  grid-column: 4;\n",
       "}\n",
       "\n",
       ".xr-index-preview {\n",
       "  grid-column: 2 / 5;\n",
       "  color: var(--xr-font-color2);\n",
       "}\n",
       "\n",
       ".xr-var-name,\n",
       ".xr-var-dims,\n",
       ".xr-var-dtype,\n",
       ".xr-preview,\n",
       ".xr-attrs dt {\n",
       "  white-space: nowrap;\n",
       "  overflow: hidden;\n",
       "  text-overflow: ellipsis;\n",
       "  padding-right: 10px;\n",
       "}\n",
       "\n",
       ".xr-var-name:hover,\n",
       ".xr-var-dims:hover,\n",
       ".xr-var-dtype:hover,\n",
       ".xr-attrs dt:hover {\n",
       "  overflow: visible;\n",
       "  width: auto;\n",
       "  z-index: 1;\n",
       "}\n",
       "\n",
       ".xr-var-attrs,\n",
       ".xr-var-data,\n",
       ".xr-index-data {\n",
       "  display: none;\n",
       "  background-color: var(--xr-background-color) !important;\n",
       "  padding-bottom: 5px !important;\n",
       "}\n",
       "\n",
       ".xr-var-attrs-in:checked ~ .xr-var-attrs,\n",
       ".xr-var-data-in:checked ~ .xr-var-data,\n",
       ".xr-index-data-in:checked ~ .xr-index-data {\n",
       "  display: block;\n",
       "}\n",
       "\n",
       ".xr-var-data > table {\n",
       "  float: right;\n",
       "}\n",
       "\n",
       ".xr-var-name span,\n",
       ".xr-var-data,\n",
       ".xr-index-name div,\n",
       ".xr-index-data,\n",
       ".xr-attrs {\n",
       "  padding-left: 25px !important;\n",
       "}\n",
       "\n",
       ".xr-attrs,\n",
       ".xr-var-attrs,\n",
       ".xr-var-data,\n",
       ".xr-index-data {\n",
       "  grid-column: 1 / -1;\n",
       "}\n",
       "\n",
       "dl.xr-attrs {\n",
       "  padding: 0;\n",
       "  margin: 0;\n",
       "  display: grid;\n",
       "  grid-template-columns: 125px auto;\n",
       "}\n",
       "\n",
       ".xr-attrs dt,\n",
       ".xr-attrs dd {\n",
       "  padding: 0;\n",
       "  margin: 0;\n",
       "  float: left;\n",
       "  padding-right: 10px;\n",
       "  width: auto;\n",
       "}\n",
       "\n",
       ".xr-attrs dt {\n",
       "  font-weight: normal;\n",
       "  grid-column: 1;\n",
       "}\n",
       "\n",
       ".xr-attrs dt:hover span {\n",
       "  display: inline-block;\n",
       "  background: var(--xr-background-color);\n",
       "  padding-right: 10px;\n",
       "}\n",
       "\n",
       ".xr-attrs dd {\n",
       "  grid-column: 2;\n",
       "  white-space: pre-wrap;\n",
       "  word-break: break-all;\n",
       "}\n",
       "\n",
       ".xr-icon-database,\n",
       ".xr-icon-file-text2,\n",
       ".xr-no-icon {\n",
       "  display: inline-block;\n",
       "  vertical-align: middle;\n",
       "  width: 1em;\n",
       "  height: 1.5em !important;\n",
       "  stroke-width: 0;\n",
       "  stroke: currentColor;\n",
       "  fill: currentColor;\n",
       "}\n",
       "</style><pre class='xr-text-repr-fallback'>&lt;xarray.DataArray &#x27;time&#x27; (obs: 17874)&gt;\n",
       "[17874 values with dtype=datetime64[ns]]\n",
       "Coordinates:\n",
       "    ids      (obs) int64 ...\n",
       "    time     (obs) datetime64[ns] ...\n",
       "    lon      (obs) float32 ...\n",
       "    lat      (obs) float32 ...\n",
       "Dimensions without coordinates: obs\n",
       "Attributes:\n",
       "    long_name:  Time</pre><div class='xr-wrap' style='display:none'><div class='xr-header'><div class='xr-obj-type'>xarray.DataArray</div><div class='xr-array-name'>'time'</div><ul class='xr-dim-list'><li><span>obs</span>: 17874</li></ul></div><ul class='xr-sections'><li class='xr-section-item'><div class='xr-array-wrap'><input id='section-79005e03-3323-4a79-8fab-e37bf6c5f148' class='xr-array-in' type='checkbox' checked><label for='section-79005e03-3323-4a79-8fab-e37bf6c5f148' title='Show/hide data repr'><svg class='icon xr-icon-database'><use xlink:href='#icon-database'></use></svg></label><div class='xr-array-preview xr-preview'><span>...</span></div><div class='xr-array-data'><pre>[17874 values with dtype=datetime64[ns]]</pre></div></div></li><li class='xr-section-item'><input id='section-b2dd1984-ecc6-4616-a391-3dc44007dd53' class='xr-section-summary-in' type='checkbox'  checked><label for='section-b2dd1984-ecc6-4616-a391-3dc44007dd53' class='xr-section-summary' >Coordinates: <span>(4)</span></label><div class='xr-section-inline-details'></div><div class='xr-section-details'><ul class='xr-var-list'><li class='xr-var-item'><div class='xr-var-name'><span>ids</span></div><div class='xr-var-dims'>(obs)</div><div class='xr-var-dtype'>int64</div><div class='xr-var-preview xr-preview'>...</div><input id='attrs-627534ab-4402-4b62-930a-a87faae97f37' class='xr-var-attrs-in' type='checkbox' ><label for='attrs-627534ab-4402-4b62-930a-a87faae97f37' title='Show/Hide attributes'><svg class='icon xr-icon-file-text2'><use xlink:href='#icon-file-text2'></use></svg></label><input id='data-88d1406c-72f1-46d3-a378-164dbdec9495' class='xr-var-data-in' type='checkbox'><label for='data-88d1406c-72f1-46d3-a378-164dbdec9495' title='Show/Hide data repr'><svg class='icon xr-icon-database'><use xlink:href='#icon-database'></use></svg></label><div class='xr-var-attrs'><dl class='xr-attrs'><dt><span>long_name :</span></dt><dd>Global Drifter Program Buoy ID repeated along observations</dd><dt><span>units :</span></dt><dd>-</dd></dl></div><div class='xr-var-data'><pre>[17874 values with dtype=int64]</pre></div></li><li class='xr-var-item'><div class='xr-var-name'><span>time</span></div><div class='xr-var-dims'>(obs)</div><div class='xr-var-dtype'>datetime64[ns]</div><div class='xr-var-preview xr-preview'>...</div><input id='attrs-245758ef-3a64-4726-b136-90b325bd2e66' class='xr-var-attrs-in' type='checkbox' ><label for='attrs-245758ef-3a64-4726-b136-90b325bd2e66' title='Show/Hide attributes'><svg class='icon xr-icon-file-text2'><use xlink:href='#icon-file-text2'></use></svg></label><input id='data-fb3b3a52-67db-4c51-90ed-999a8870a0fc' class='xr-var-data-in' type='checkbox'><label for='data-fb3b3a52-67db-4c51-90ed-999a8870a0fc' title='Show/Hide data repr'><svg class='icon xr-icon-database'><use xlink:href='#icon-database'></use></svg></label><div class='xr-var-attrs'><dl class='xr-attrs'><dt><span>long_name :</span></dt><dd>Time</dd></dl></div><div class='xr-var-data'><pre>[17874 values with dtype=datetime64[ns]]</pre></div></li><li class='xr-var-item'><div class='xr-var-name'><span>lon</span></div><div class='xr-var-dims'>(obs)</div><div class='xr-var-dtype'>float32</div><div class='xr-var-preview xr-preview'>...</div><input id='attrs-a81c7f97-1bf9-4eaf-8dba-6fe48df45f3b' class='xr-var-attrs-in' type='checkbox' ><label for='attrs-a81c7f97-1bf9-4eaf-8dba-6fe48df45f3b' title='Show/Hide attributes'><svg class='icon xr-icon-file-text2'><use xlink:href='#icon-file-text2'></use></svg></label><input id='data-ef2551cd-93ea-4fab-8ab3-59203348df2f' class='xr-var-data-in' type='checkbox'><label for='data-ef2551cd-93ea-4fab-8ab3-59203348df2f' title='Show/Hide data repr'><svg class='icon xr-icon-database'><use xlink:href='#icon-database'></use></svg></label><div class='xr-var-attrs'><dl class='xr-attrs'><dt><span>long_name :</span></dt><dd>Longitude</dd><dt><span>units :</span></dt><dd>degrees_east</dd></dl></div><div class='xr-var-data'><pre>[17874 values with dtype=float32]</pre></div></li><li class='xr-var-item'><div class='xr-var-name'><span>lat</span></div><div class='xr-var-dims'>(obs)</div><div class='xr-var-dtype'>float32</div><div class='xr-var-preview xr-preview'>...</div><input id='attrs-d9d68046-faf3-4856-866c-21b24779baf8' class='xr-var-attrs-in' type='checkbox' ><label for='attrs-d9d68046-faf3-4856-866c-21b24779baf8' title='Show/Hide attributes'><svg class='icon xr-icon-file-text2'><use xlink:href='#icon-file-text2'></use></svg></label><input id='data-60098e0c-1982-4b9e-8c34-0718e9bd3ee0' class='xr-var-data-in' type='checkbox'><label for='data-60098e0c-1982-4b9e-8c34-0718e9bd3ee0' title='Show/Hide data repr'><svg class='icon xr-icon-database'><use xlink:href='#icon-database'></use></svg></label><div class='xr-var-attrs'><dl class='xr-attrs'><dt><span>long_name :</span></dt><dd>Latitude</dd><dt><span>units :</span></dt><dd>degrees_north</dd></dl></div><div class='xr-var-data'><pre>[17874 values with dtype=float32]</pre></div></li></ul></div></li><li class='xr-section-item'><input id='section-928f24c0-5473-45e1-892c-7bf0f6c7c9ec' class='xr-section-summary-in' type='checkbox' disabled ><label for='section-928f24c0-5473-45e1-892c-7bf0f6c7c9ec' class='xr-section-summary'  title='Expand/collapse section'>Indexes: <span>(0)</span></label><div class='xr-section-inline-details'></div><div class='xr-section-details'><ul class='xr-var-list'></ul></div></li><li class='xr-section-item'><input id='section-36f15742-2c98-4378-bb25-93ec9007c14c' class='xr-section-summary-in' type='checkbox'  checked><label for='section-36f15742-2c98-4378-bb25-93ec9007c14c' class='xr-section-summary' >Attributes: <span>(1)</span></label><div class='xr-section-inline-details'></div><div class='xr-section-details'><dl class='xr-attrs'><dt><span>long_name :</span></dt><dd>Time</dd></dl></div></li></ul></div></div>"
      ],
      "text/plain": [
       "<xarray.DataArray 'time' (obs: 17874)>\n",
       "[17874 values with dtype=datetime64[ns]]\n",
       "Coordinates:\n",
       "    ids      (obs) int64 ...\n",
       "    time     (obs) datetime64[ns] ...\n",
       "    lon      (obs) float32 ...\n",
       "    lat      (obs) float32 ...\n",
       "Dimensions without coordinates: obs\n",
       "Attributes:\n",
       "    long_name:  Time"
      ]
     },
     "execution_count": 7,
     "metadata": {},
     "output_type": "execute_result"
    }
   ],
   "source": [
    "time = ds.time[sli]\n",
    "time"
   ]
  },
  {
   "cell_type": "code",
   "execution_count": 8,
   "metadata": {},
   "outputs": [
    {
     "data": {
      "text/plain": [
       "(array([17832, 17862, 17867]),)"
      ]
     },
     "execution_count": 8,
     "metadata": {},
     "output_type": "execute_result"
    }
   ],
   "source": [
    "q = np.where(np.diff(time)>np.timedelta64(3600, 's'))\n",
    "q"
   ]
  },
  {
   "cell_type": "code",
   "execution_count": 15,
   "metadata": {},
   "outputs": [
    {
     "name": "stdout",
     "output_type": "stream",
     "text": [
      "\u001b[0;31mSignature:\u001b[0m\n",
      "\u001b[0msegment\u001b[0m\u001b[0;34m(\u001b[0m\u001b[0;34m\u001b[0m\n",
      "\u001b[0;34m\u001b[0m    \u001b[0mx\u001b[0m\u001b[0;34m:\u001b[0m \u001b[0mnumpy\u001b[0m\u001b[0;34m.\u001b[0m\u001b[0mndarray\u001b[0m\u001b[0;34m,\u001b[0m\u001b[0;34m\u001b[0m\n",
      "\u001b[0;34m\u001b[0m    \u001b[0mtolerance\u001b[0m\u001b[0;34m:\u001b[0m \u001b[0mUnion\u001b[0m\u001b[0;34m[\u001b[0m\u001b[0mfloat\u001b[0m\u001b[0;34m,\u001b[0m \u001b[0mdatetime\u001b[0m\u001b[0;34m.\u001b[0m\u001b[0mtimedelta\u001b[0m\u001b[0;34m]\u001b[0m\u001b[0;34m,\u001b[0m\u001b[0;34m\u001b[0m\n",
      "\u001b[0;34m\u001b[0m    \u001b[0mrowsize\u001b[0m\u001b[0;34m:\u001b[0m \u001b[0mnumpy\u001b[0m\u001b[0;34m.\u001b[0m\u001b[0mndarray\u001b[0m\u001b[0;34m[\u001b[0m\u001b[0mint\u001b[0m\u001b[0;34m]\u001b[0m \u001b[0;34m=\u001b[0m \u001b[0;32mNone\u001b[0m\u001b[0;34m,\u001b[0m\u001b[0;34m\u001b[0m\n",
      "\u001b[0;34m\u001b[0m\u001b[0;34m)\u001b[0m \u001b[0;34m->\u001b[0m \u001b[0mnumpy\u001b[0m\u001b[0;34m.\u001b[0m\u001b[0mndarray\u001b[0m\u001b[0;34m[\u001b[0m\u001b[0mint\u001b[0m\u001b[0;34m]\u001b[0m\u001b[0;34m\u001b[0m\u001b[0;34m\u001b[0m\u001b[0m\n",
      "\u001b[0;31mDocstring:\u001b[0m\n",
      "Segment an array into contiguous segments.\n",
      "\n",
      "Parameters\n",
      "----------\n",
      "x : list, np.ndarray, or xr.DataArray\n",
      "    An array to segment.\n",
      "tolerance : float\n",
      "    The maximum signed difference between consecutive points in a segment.\n",
      "rowsize : np.ndarray[int], optional\n",
      "    The size of rows if x is a ragged array. If present, x will be\n",
      "    segmented both by gaps that exceed the tolerance, and by rows\n",
      "    of the ragged array.\n",
      "\n",
      "Returns\n",
      "-------\n",
      "segment_sizes : np.ndarray[int]\n",
      "    An array of row-sizes that segment the input array into contiguous segments.\n",
      "\n",
      "Examples\n",
      "--------\n",
      "\n",
      "The simplest use of ``segment`` is to provide a tolerance value that is\n",
      "used to segment an array into contiguous segments.\n",
      "\n",
      ">>> x = [0, 1, 1, 1, 2, 2, 3, 3, 3, 3, 4]\n",
      ">>> segment(x, 0.5)\n",
      "array([1, 3, 2, 4, 1])\n",
      "\n",
      "If the array is already previously segmented (e.g. multiple trajectories\n",
      "as a ragged array), then the ``rowsize`` argument can be used to preserve\n",
      "the input segments.\n",
      "\n",
      ">>> rowsize = [3, 2, 6]\n",
      ">>> segment(x, 0.5, rowsize)\n",
      "array([1, 2, 1, 1, 1, 4, 1])\n",
      "\n",
      "The tolerance can also be negative. In this case, the segments are\n",
      "determined by the gaps where the negative difference exceeds the negative\n",
      "value of the tolerance, i.e. where ``x[n+1] - x[n] < -tolerance``.\n",
      "\n",
      ">>> x = [0, 1, 2, 0, 1, 2]\n",
      ">>> segment(x, -0.5)\n",
      "array([3, 3])\n",
      "\n",
      "To segment an array for both positive and negative gaps, invoke the function\n",
      "twice, once for a positive tolerance and once for a negative tolerance.\n",
      "The result of the first invocation can be passed as the ``rowsize`` argument\n",
      "to the first ``segment`` invocation.\n",
      "\n",
      ">>> x = [1, 1, 2, 2, 1, 1, 2, 2]\n",
      ">>> segment(x, 0.5, rowsize=segment(x, -0.5))\n",
      "array([2, 2, 2, 2])\n",
      "\u001b[0;31mFile:\u001b[0m      ~/opt/mambaforge/envs/cd-ex/lib/python3.10/site-packages/clouddrift/analysis.py\n",
      "\u001b[0;31mType:\u001b[0m      function"
     ]
    }
   ],
   "source": [
    "segment?"
   ]
  },
  {
   "cell_type": "code",
   "execution_count": 26,
   "metadata": {},
   "outputs": [
    {
     "name": "stdout",
     "output_type": "stream",
     "text": [
      "[False False False False False False False False False False]\n"
     ]
    },
    {
     "data": {
      "text/plain": [
       "array([1, 3, 2, 4, 1])"
      ]
     },
     "execution_count": 26,
     "metadata": {},
     "output_type": "execute_result"
    }
   ],
   "source": [
    "x = [0, 1, 1, 1, 2, 2, 3, 3, 3, 3, 4]\n",
    "print(np.diff(x)>1)\n",
    "segment(x,0.5)"
   ]
  },
  {
   "cell_type": "code",
   "execution_count": 27,
   "metadata": {},
   "outputs": [],
   "source": [
    "from datetime import timedelta"
   ]
  },
  {
   "cell_type": "code",
   "execution_count": 28,
   "metadata": {},
   "outputs": [
    {
     "data": {
      "text/plain": [
       "numpy.timedelta64(3600,'s')"
      ]
     },
     "execution_count": 28,
     "metadata": {},
     "output_type": "execute_result"
    }
   ],
   "source": [
    "dt = np.timedelta64(3600, 's') # timedelta(seconds=1800)\n",
    "#dt = 1800\n",
    "dt"
   ]
  },
  {
   "cell_type": "code",
   "execution_count": 29,
   "metadata": {},
   "outputs": [
    {
     "data": {
      "text/plain": [
       "array([17833,    30,     5,     6])"
      ]
     },
     "execution_count": 29,
     "metadata": {},
     "output_type": "execute_result"
    }
   ],
   "source": [
    "row1 = segment(time,tolerance=dt,rowsize=np.array([17874]))\n",
    "row1"
   ]
  },
  {
   "cell_type": "code",
   "execution_count": 30,
   "metadata": {},
   "outputs": [
    {
     "data": {
      "text/plain": [
       "17874"
      ]
     },
     "metadata": {},
     "output_type": "display_data"
    },
    {
     "data": {
      "text/plain": [
       "17874"
      ]
     },
     "metadata": {},
     "output_type": "display_data"
    }
   ],
   "source": [
    "display(np.sum(row1))\n",
    "display(len(time))"
   ]
  },
  {
   "cell_type": "code",
   "execution_count": 31,
   "metadata": {},
   "outputs": [],
   "source": [
    "newrowsize1 = segment(ds.time,dt,rowsize=ds.rowsize)"
   ]
  },
  {
   "cell_type": "code",
   "execution_count": 32,
   "metadata": {},
   "outputs": [
    {
     "data": {
      "text/plain": [
       "(88933,)"
      ]
     },
     "execution_count": 32,
     "metadata": {},
     "output_type": "execute_result"
    }
   ],
   "source": [
    "np.shape(newrowsize1) # should be 88933?"
   ]
  },
  {
   "cell_type": "code",
   "execution_count": 33,
   "metadata": {},
   "outputs": [],
   "source": [
    "#newrowsize = segment(ds.time,tolerance=dt)\n",
    "#newrowsize = segment(ds.time, dt, rowsize=segment(ds.time, -dt,rowsize=ds.rowsize))"
   ]
  },
  {
   "attachments": {},
   "cell_type": "markdown",
   "metadata": {},
   "source": [
    "The results should be 88933 segments"
   ]
  },
  {
   "cell_type": "code",
   "execution_count": 34,
   "metadata": {},
   "outputs": [
    {
     "data": {
      "text/plain": [
       "(88933,)"
      ]
     },
     "execution_count": 34,
     "metadata": {},
     "output_type": "execute_result"
    }
   ],
   "source": [
    "np.shape(newrowsize1) # should be 88933? got it"
   ]
  },
  {
   "attachments": {},
   "cell_type": "markdown",
   "metadata": {},
   "source": [
    "However, some segments are only of length one."
   ]
  },
  {
   "cell_type": "code",
   "execution_count": 35,
   "metadata": {},
   "outputs": [
    {
     "data": {
      "text/plain": [
       "1130"
      ]
     },
     "execution_count": 35,
     "metadata": {},
     "output_type": "execute_result"
    }
   ],
   "source": [
    "np.sum(newrowsize1==1)"
   ]
  },
  {
   "attachments": {},
   "cell_type": "markdown",
   "metadata": {},
   "source": [
    "Next, we want to illustrate the use of operations per segments, such as calculating velocity from successive positions. This requires a segment to be at least of length 2. As a result we first need to remove or mask the length one segments."
   ]
  },
  {
   "cell_type": "code",
   "execution_count": 36,
   "metadata": {},
   "outputs": [
    {
     "data": {
      "text/plain": [
       "array([ 2,  4,  6,  8, 10])"
      ]
     },
     "execution_count": 36,
     "metadata": {},
     "output_type": "execute_result"
    }
   ],
   "source": [
    "a = np.array([1,2,3,4,5,6,7,8,9,10])\n",
    "np.delete(a,np.where(np.mod(a,2)==1))"
   ]
  },
  {
   "cell_type": "code",
   "execution_count": 37,
   "metadata": {},
   "outputs": [
    {
     "data": {
      "text/plain": [
       "array([ 2,  4,  6,  8, 10])"
      ]
     },
     "execution_count": 37,
     "metadata": {},
     "output_type": "execute_result"
    }
   ],
   "source": [
    "mask = np.where(np.mod(a,2)!=1)\n",
    "a[mask]"
   ]
  },
  {
   "cell_type": "code",
   "execution_count": 38,
   "metadata": {},
   "outputs": [
    {
     "data": {
      "text/plain": [
       "(88934,)"
      ]
     },
     "execution_count": 38,
     "metadata": {},
     "output_type": "execute_result"
    }
   ],
   "source": [
    "# create new segment index\n",
    "seg_idx = np.insert(np.cumsum(newrowsize1), 0, 0)\n",
    "np.shape(seg_idx)"
   ]
  },
  {
   "cell_type": "code",
   "execution_count": 39,
   "metadata": {},
   "outputs": [],
   "source": [
    "time = ds.time\n",
    "lat = ds.lat\n",
    "lon = ds.lon\n",
    "ve = ds.ve\n",
    "vn = ds.vn"
   ]
  },
  {
   "cell_type": "code",
   "execution_count": 40,
   "metadata": {},
   "outputs": [],
   "source": [
    "# create a mask for the segments of row length 1\n",
    "q1 = np.where(newrowsize1==1)\n",
    "slices = []\n",
    "for j in q1[0]:\n",
    "    slices.append(slice(seg_idx[j], seg_idx[j+1]))\n",
    "keep_mask = np.ones_like(time,dtype=bool)\n",
    "for slice in slices: keep_mask[slice] = False\n",
    "    "
   ]
  },
  {
   "cell_type": "code",
   "execution_count": 41,
   "metadata": {},
   "outputs": [
    {
     "data": {
      "text/plain": [
       "(165753203,)"
      ]
     },
     "execution_count": 41,
     "metadata": {},
     "output_type": "execute_result"
    }
   ],
   "source": [
    "# remove rows of length 1\n",
    "time = time[keep_mask]\n",
    "np.shape(time)\n"
   ]
  },
  {
   "cell_type": "code",
   "execution_count": 42,
   "metadata": {},
   "outputs": [
    {
     "data": {
      "text/plain": [
       "True"
      ]
     },
     "execution_count": 42,
     "metadata": {},
     "output_type": "execute_result"
    }
   ],
   "source": [
    "np.shape(ds.time)[0]-np.shape(time)[0] == len(q1[0])"
   ]
  },
  {
   "cell_type": "code",
   "execution_count": 43,
   "metadata": {},
   "outputs": [],
   "source": [
    "lat = lat[keep_mask]\n",
    "lon = lon[keep_mask]\n",
    "ve = ve[keep_mask]\n",
    "vn = vn[keep_mask]\n"
   ]
  },
  {
   "cell_type": "code",
   "execution_count": 44,
   "metadata": {},
   "outputs": [
    {
     "data": {
      "text/plain": [
       "(array([  100,   499,   763, ..., 70647, 70858, 70894]),)"
      ]
     },
     "execution_count": 44,
     "metadata": {},
     "output_type": "execute_result"
    }
   ],
   "source": [
    "q1"
   ]
  },
  {
   "cell_type": "code",
   "execution_count": 45,
   "metadata": {},
   "outputs": [
    {
     "data": {
      "text/plain": [
       "87803"
      ]
     },
     "execution_count": 45,
     "metadata": {},
     "output_type": "execute_result"
    }
   ],
   "source": [
    "newrowsize2 = np.delete(newrowsize1,q1)\n",
    "len(newrowsize2)"
   ]
  },
  {
   "cell_type": "code",
   "execution_count": 46,
   "metadata": {},
   "outputs": [
    {
     "data": {
      "text/plain": [
       "(87804,)"
      ]
     },
     "execution_count": 46,
     "metadata": {},
     "output_type": "execute_result"
    }
   ],
   "source": [
    "# create new segment index\n",
    "seg_idx2 = np.insert(np.cumsum(newrowsize2), 0, 0)\n",
    "np.shape(seg_idx2)"
   ]
  },
  {
   "cell_type": "code",
   "execution_count": 47,
   "metadata": {},
   "outputs": [
    {
     "data": {
      "text/plain": [
       "87803"
      ]
     },
     "execution_count": 47,
     "metadata": {},
     "output_type": "execute_result"
    }
   ],
   "source": [
    "88933-1130"
   ]
  },
  {
   "cell_type": "code",
   "execution_count": 48,
   "metadata": {},
   "outputs": [],
   "source": [
    "from clouddrift.analysis import apply_ragged"
   ]
  },
  {
   "cell_type": "code",
   "execution_count": 34,
   "metadata": {},
   "outputs": [],
   "source": [
    "u,v = apply_ragged(velocity_from_position,[lon,lat,time],newrowsize2,coord_system='spherical')"
   ]
  },
  {
   "cell_type": "code",
   "execution_count": 35,
   "metadata": {},
   "outputs": [],
   "source": [
    "del slice"
   ]
  },
  {
   "cell_type": "code",
   "execution_count": 36,
   "metadata": {},
   "outputs": [
    {
     "data": {
      "text/plain": [
       "[<matplotlib.lines.Line2D at 0x1664bc1f0>]"
      ]
     },
     "execution_count": 36,
     "metadata": {},
     "output_type": "execute_result"
    },
    {
     "data": {
      "image/png": "[encoded data removed]",
      "text/plain": [
       "<Figure size 640x480 with 1 Axes>"
      ]
     },
     "metadata": {},
     "output_type": "display_data"
    }
   ],
   "source": [
    "j = 0\n",
    "sli = slice(seg_idx2[j],seg_idx2[j+1])\n",
    "plt.plot(time[sli],u[sli]*1e9)\n",
    "plt.plot(time[sli],ve[sli])"
   ]
  },
  {
   "cell_type": "code",
   "execution_count": 50,
   "metadata": {},
   "outputs": [
    {
     "data": {
      "text/plain": [
       "165753203"
      ]
     },
     "execution_count": 50,
     "metadata": {},
     "output_type": "execute_result"
    }
   ],
   "source": [
    "len(u)"
   ]
  },
  {
   "cell_type": "code",
   "execution_count": 69,
   "metadata": {},
   "outputs": [],
   "source": [
    "#foo, bin_edges1 = np.histogram(u[sli]*1e9-ve[sli],200,(-1,1))\n",
    "hist2 = histogram1d(u*1e9-ve,200,(-1,1))"
   ]
  },
  {
   "cell_type": "code",
   "execution_count": 74,
   "metadata": {},
   "outputs": [
    {
     "data": {
      "text/plain": [
       "[<matplotlib.lines.Line2D at 0x197952e90>]"
      ]
     },
     "execution_count": 74,
     "metadata": {},
     "output_type": "execute_result"
    },
    {
     "data": {
      "image/png": "[encoded data removed]",
      "text/plain": [
       "<Figure size 640x480 with 1 Axes>"
      ]
     },
     "metadata": {},
     "output_type": "display_data"
    }
   ],
   "source": [
    "#plt.plot(bin_edges1[0:-1],hist1,'.-')\n",
    "plt.plot(0.5*(bin_edges1[:-1]+bin_edges1[1:]),np.log10(hist2),'-')"
   ]
  },
  {
   "cell_type": "code",
   "execution_count": 75,
   "metadata": {},
   "outputs": [],
   "source": [
    "hist_ve = histogram1d(ve,200,(-1,1))"
   ]
  },
  {
   "cell_type": "code",
   "execution_count": 49,
   "metadata": {},
   "outputs": [],
   "source": [
    "a = np.random.rand(1_000_000_000)"
   ]
  },
  {
   "cell_type": "code",
   "execution_count": 50,
   "metadata": {},
   "outputs": [
    {
     "data": {
      "text/plain": [
       "(array([100007063,  99971851, 100004015, 100002975, 100004209, 100002213,\n",
       "        100014575, 100003567,  99999132,  99990400]),\n",
       " array([1.70220360e-09, 1.00000001e-01, 2.00000001e-01, 3.00000001e-01,\n",
       "        4.00000001e-01, 5.00000000e-01, 6.00000000e-01, 7.00000000e-01,\n",
       "        8.00000000e-01, 8.99999999e-01, 9.99999999e-01]))"
      ]
     },
     "execution_count": 50,
     "metadata": {},
     "output_type": "execute_result"
    }
   ],
   "source": [
    "np.histogram(a)"
   ]
  },
  {
   "cell_type": "markdown",
   "metadata": {},
   "source": []
  }
 ],
 "metadata": {
  "kernelspec": {
   "display_name": "cldr-ex",
   "language": "python",
   "name": "python3"
  },
  "language_info": {
   "codemirror_mode": {
    "name": "ipython",
    "version": 3
   },
   "file_extension": ".py",
   "mimetype": "text/x-python",
   "name": "python",
   "nbconvert_exporter": "python",
   "pygments_lexer": "ipython3",
   "version": "3.10.9"
  },
  "orig_nbformat": 4,
  "vscode": {
   "interpreter": {
    "hash": "1773faba2685e4f7c45c2c8cbf05d057ad04f1efec967cfa480f53654f60002e"
   }
  }
 },
 "nbformat": 4,
 "nbformat_minor": 2
}
