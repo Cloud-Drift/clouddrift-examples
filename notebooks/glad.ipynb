{
 "cells": [
  {
   "cell_type": "markdown",
   "id": "6426c30b-df03-46a9-8fb7-57ddf404683e",
   "metadata": {
    "tags": []
   },
   "source": [
    "# Working with the Grand LAgrangian Deployment (GLAD) dataset by the CARTHE consortium\n",
    "\n",
    "To process the [CARTHE GLAD](http://carthe.org/glad/) dataset, we follow steps similar to the ones found in `gdp.ipynb` for the hourly GDP dataset. One main difference is that we use a new preprocessing function (`data/glad.py`) tailored to the format of the tabular text format of this dataset."
   ]
  },
  {
   "cell_type": "code",
   "execution_count": 1,
   "id": "4cca829b-f96f-4e09-bfbc-d7b2ec2d008e",
   "metadata": {
    "tags": []
   },
   "outputs": [],
   "source": [
    "from clouddrift import RaggedArray\n",
    "import numpy as np\n",
    "import matplotlib.pyplot as plt"
   ]
  },
  {
   "cell_type": "markdown",
   "id": "2aded949-7d07-47fd-b184-50574c2600ba",
   "metadata": {},
   "source": [
    "## Dataset-specific functions"
   ]
  },
  {
   "cell_type": "markdown",
   "id": "c133b096-ee61-4018-b797-d43cc9db7329",
   "metadata": {},
   "source": [
    "For this dataset, importing the glad module will automatically download `GLAD_15min_filtered.dat` from [the Gulf of Mexico Research Initiative Information and Data Cooperative (GRIIDC) repository](https://data.gulfresearchinitiative.org/data/R1.x134.073:0004) and stored it into the `data/raw/glad/` directory."
   ]
  },
  {
   "cell_type": "code",
   "execution_count": null,
   "id": "50aa29c2-5cfa-4ca7-ada3-7c3a6ec3b384",
   "metadata": {
    "tags": []
   },
   "outputs": [
    {
     "name": "stdout",
     "output_type": "stream",
     "text": [
      "Dataset GLAD_15min_filtered.dat downloaded to '../data/raw/glad/'.\n"
     ]
    }
   ],
   "source": [
    "import sys\n",
    "\n",
    "sys.path.append(\"../\")\n",
    "from data import glad"
   ]
  },
  {
   "cell_type": "markdown",
   "id": "c42a0c03-fcb3-4131-af3c-e6e7bea4e833",
   "metadata": {},
   "source": [
    "We can test the preprocessing function by calling it with one of the identification numbers. This function returns an `xarray.Dataset`:"
   ]
  },
  {
   "cell_type": "code",
   "execution_count": null,
   "id": "c2db0565-359a-4538-a2b0-33c195b72d37",
   "metadata": {
    "tags": []
   },
   "outputs": [],
   "source": [
    "glad.preprocess(1)"
   ]
  },
  {
   "cell_type": "markdown",
   "id": "e35f6f75-f7fb-4ba3-814f-46e3b8cc7d34",
   "metadata": {},
   "source": [
    "Let's now prepare the data and metadata and pass it to the `RaggedArray` class to instantiate it:"
   ]
  },
  {
   "cell_type": "code",
   "execution_count": null,
   "id": "59137333-eed9-406f-8af2-e3a782fad210",
   "metadata": {
    "tags": []
   },
   "outputs": [],
   "source": [
    "files = [\n",
    "    1,\n",
    "    2,\n",
    "    3,\n",
    "    4,\n",
    "    5,\n",
    "    6,\n",
    "    7,\n",
    "    8,\n",
    "    10,\n",
    "    11,\n",
    "    12,\n",
    "    13,\n",
    "    14,\n",
    "    15,\n",
    "    16,\n",
    "    17,\n",
    "    18,\n",
    "    19,\n",
    "    20,\n",
    "    21,\n",
    "    22,\n",
    "    23,\n",
    "    24,\n",
    "    25,\n",
    "    26,\n",
    "    27,\n",
    "    28,\n",
    "    29,\n",
    "    30,\n",
    "    31,\n",
    "    32,\n",
    "    33,\n",
    "    34,\n",
    "    35,\n",
    "    36,\n",
    "    37,\n",
    "    38,\n",
    "    39,\n",
    "    40,\n",
    "    41,\n",
    "    42,\n",
    "    43,\n",
    "    44,\n",
    "    45,\n",
    "    46,\n",
    "    47,\n",
    "    48,\n",
    "    49,\n",
    "    50,\n",
    "    52,\n",
    "    53,\n",
    "    54,\n",
    "    55,\n",
    "    56,\n",
    "    57,\n",
    "    58,\n",
    "    59,\n",
    "    60,\n",
    "    61,\n",
    "    62,\n",
    "    63,\n",
    "    64,\n",
    "    65,\n",
    "    66,\n",
    "    67,\n",
    "    68,\n",
    "    69,\n",
    "    70,\n",
    "    71,\n",
    "    72,\n",
    "    73,\n",
    "    74,\n",
    "    75,\n",
    "    76,\n",
    "    77,\n",
    "    78,\n",
    "    79,\n",
    "    80,\n",
    "    83,\n",
    "    85,\n",
    "    86,\n",
    "    87,\n",
    "    88,\n",
    "    89,\n",
    "    90,\n",
    "    91,\n",
    "    92,\n",
    "    93,\n",
    "    94,\n",
    "    95,\n",
    "    96,\n",
    "    97,\n",
    "    98,\n",
    "    99,\n",
    "    100,\n",
    "    101,\n",
    "    102,\n",
    "    103,\n",
    "    104,\n",
    "    105,\n",
    "    106,\n",
    "    107,\n",
    "    108,\n",
    "    109,\n",
    "    110,\n",
    "    111,\n",
    "    112,\n",
    "    113,\n",
    "    114,\n",
    "    115,\n",
    "    116,\n",
    "    117,\n",
    "    118,\n",
    "    119,\n",
    "    120,\n",
    "    121,\n",
    "    122,\n",
    "    123,\n",
    "    124,\n",
    "    125,\n",
    "    126,\n",
    "    127,\n",
    "    128,\n",
    "    129,\n",
    "    130,\n",
    "    131,\n",
    "    132,\n",
    "    133,\n",
    "    134,\n",
    "    135,\n",
    "    136,\n",
    "    137,\n",
    "    138,\n",
    "    139,\n",
    "    140,\n",
    "    141,\n",
    "    142,\n",
    "    143,\n",
    "    144,\n",
    "    145,\n",
    "    146,\n",
    "    147,\n",
    "    148,\n",
    "    149,\n",
    "    150,\n",
    "    151,\n",
    "    152,\n",
    "    153,\n",
    "    154,\n",
    "    155,\n",
    "    156,\n",
    "    157,\n",
    "    158,\n",
    "    159,\n",
    "    160,\n",
    "    161,\n",
    "    162,\n",
    "    163,\n",
    "    164,\n",
    "    165,\n",
    "    166,\n",
    "    167,\n",
    "    168,\n",
    "    169,\n",
    "    170,\n",
    "    171,\n",
    "    172,\n",
    "    173,\n",
    "    174,\n",
    "    175,\n",
    "    176,\n",
    "    177,\n",
    "    178,\n",
    "    179,\n",
    "    180,\n",
    "    181,\n",
    "    182,\n",
    "    183,\n",
    "    184,\n",
    "    185,\n",
    "    186,\n",
    "    187,\n",
    "    188,\n",
    "    189,\n",
    "    190,\n",
    "    191,\n",
    "    192,\n",
    "    193,\n",
    "    194,\n",
    "    195,\n",
    "    196,\n",
    "    197,\n",
    "    198,\n",
    "    199,\n",
    "    200,\n",
    "    201,\n",
    "    202,\n",
    "    203,\n",
    "    204,\n",
    "    205,\n",
    "    206,\n",
    "    207,\n",
    "    208,\n",
    "    209,\n",
    "    210,\n",
    "    211,\n",
    "    212,\n",
    "    213,\n",
    "    214,\n",
    "    215,\n",
    "    216,\n",
    "    217,\n",
    "    218,\n",
    "    219,\n",
    "    220,\n",
    "    221,\n",
    "    222,\n",
    "    223,\n",
    "    224,\n",
    "    225,\n",
    "    226,\n",
    "    227,\n",
    "    228,\n",
    "    229,\n",
    "    230,\n",
    "    231,\n",
    "    232,\n",
    "    233,\n",
    "    234,\n",
    "    235,\n",
    "    236,\n",
    "    237,\n",
    "    238,\n",
    "    239,\n",
    "    240,\n",
    "    241,\n",
    "    242,\n",
    "    243,\n",
    "    244,\n",
    "    245,\n",
    "    246,\n",
    "    247,\n",
    "    248,\n",
    "    249,\n",
    "    250,\n",
    "    251,\n",
    "    252,\n",
    "    253,\n",
    "    255,\n",
    "    256,\n",
    "    257,\n",
    "    258,\n",
    "    259,\n",
    "    260,\n",
    "    261,\n",
    "    262,\n",
    "    263,\n",
    "    264,\n",
    "    265,\n",
    "    266,\n",
    "    267,\n",
    "    268,\n",
    "    269,\n",
    "    270,\n",
    "    271,\n",
    "    272,\n",
    "    273,\n",
    "    274,\n",
    "    275,\n",
    "    276,\n",
    "    277,\n",
    "    278,\n",
    "    279,\n",
    "    280,\n",
    "    281,\n",
    "    282,\n",
    "    283,\n",
    "    284,\n",
    "    285,\n",
    "    286,\n",
    "    287,\n",
    "    288,\n",
    "    289,\n",
    "    290,\n",
    "    301,\n",
    "    302,\n",
    "    303,\n",
    "    304,\n",
    "    306,\n",
    "    307,\n",
    "    308,\n",
    "    310,\n",
    "    313,\n",
    "    314,\n",
    "    315,\n",
    "    317,\n",
    "    451,\n",
    "]\n",
    "\n",
    "coords = {\"ids\": \"ids\", \"time\": \"time\", \"lon\": \"longitude\", \"lat\": \"latitude\"}\n",
    "metadata = [\"ID\", \"rowsize\"]\n",
    "data = [\"ve\", \"vn\", \"err_pos\", \"err_vel\"]\n",
    "\n",
    "ra = RaggedArray.from_files(files, glad.preprocess, coords, metadata, data)"
   ]
  },
  {
   "cell_type": "markdown",
   "id": "00705eef-eb9b-4cdd-958d-e9afb832e7f0",
   "metadata": {},
   "source": [
    "## Export to NetCDF and Apache Parquet for storage"
   ]
  },
  {
   "cell_type": "code",
   "execution_count": null,
   "id": "f8559ecf-f0ae-440e-aac0-ff4d93d4c9d0",
   "metadata": {
    "tags": []
   },
   "outputs": [],
   "source": [
    "ra.to_parquet(\"../data/process/glad.parquet\")\n",
    "ra.to_netcdf(\"../data/process/glad.nc\")"
   ]
  },
  {
   "cell_type": "markdown",
   "id": "bd364b13",
   "metadata": {},
   "source": [
    "## Export to Xarray Dataset and Awkward Arrays for analysis"
   ]
  },
  {
   "cell_type": "code",
   "execution_count": null,
   "id": "3c2eaec8",
   "metadata": {
    "tags": []
   },
   "outputs": [],
   "source": [
    "ds = ra.to_xarray()"
   ]
  },
  {
   "cell_type": "code",
   "execution_count": null,
   "id": "94b3a1b3",
   "metadata": {
    "tags": []
   },
   "outputs": [],
   "source": [
    "ds"
   ]
  },
  {
   "cell_type": "code",
   "execution_count": null,
   "id": "5b185be6",
   "metadata": {
    "tags": []
   },
   "outputs": [],
   "source": [
    "ak = ra.to_awkward()"
   ]
  },
  {
   "cell_type": "code",
   "execution_count": null,
   "id": "c2258571",
   "metadata": {
    "tags": []
   },
   "outputs": [],
   "source": [
    "ak"
   ]
  },
  {
   "cell_type": "markdown",
   "id": "e417a3a5-1a8d-44eb-8b71-79d38b8213a3",
   "metadata": {},
   "source": [
    "Here we show how the entirety of trajectories of the GLAD dataset can be plotted from either the *xarray Dataset* representation of the data (`ds`) or the *Awkward Array* representation of the data (`ak`). In both instances, we use a loop over each trajectory but for the xarray instance we first need to find the data indices of each single trajectory:"
   ]
  },
  {
   "cell_type": "code",
   "execution_count": null,
   "id": "12d3ad64-cfac-4719-a848-5524cc57a7e8",
   "metadata": {
    "tags": []
   },
   "outputs": [],
   "source": [
    "for id in files:\n",
    "    this_drifter = ds.ids == id\n",
    "    plt.plot(\n",
    "        ds.lon[this_drifter], ds.lat[this_drifter], linestyle=\"\", marker=\".\", ms=0.1\n",
    "    )\n",
    "plt.xlabel(\"Longitude\")\n",
    "plt.ylabel(\"Latitude\")\n",
    "plt.title(\"100 random trajectories from the hourly GDP dataset\")"
   ]
  },
  {
   "cell_type": "markdown",
   "id": "2717bb70-a8b3-4651-93e6-9abade8ce8d6",
   "metadata": {},
   "source": [
    "In contrast, for the awkward array, we simply need to loop over the trajectory indices:"
   ]
  },
  {
   "cell_type": "code",
   "execution_count": null,
   "id": "092205e2-4f60-44f4-826b-89bff4954c22",
   "metadata": {
    "tags": []
   },
   "outputs": [],
   "source": [
    "for n in range(len(files)):\n",
    "    plt.plot(ak.obs[\"lon\"][n], ak.obs[\"lat\"][n], linestyle=\"\", marker=\".\", ms=0.1)\n",
    "    plt.xlabel(\"Longitude\")\n",
    "plt.ylabel(\"Latitude\")\n",
    "plt.title(\"100 random trajectories from the hourly GDP dataset\")"
   ]
  },
  {
   "cell_type": "markdown",
   "id": "43556cb0-27d6-4469-9aac-fb69ecb0f253",
   "metadata": {},
   "source": [
    "Next we simply show how to plot the time series of velocity components using either the *xarray* or *awkward array* instances:"
   ]
  },
  {
   "cell_type": "code",
   "execution_count": null,
   "id": "20a58175-f3ca-4613-9020-0b2b4c49800a",
   "metadata": {
    "tags": []
   },
   "outputs": [],
   "source": [
    "fig = plt.figure(figsize=(12, 4))\n",
    "plt.plot(ds.time[ds.ids == 1], ds.ve[ds.ids == 1], label=\"Zonal velocity\")\n",
    "plt.plot(ds.time[ds.ids == 1], ds.vn[ds.ids == 1], label=\"Meridional velocity\")\n",
    "plt.legend()\n",
    "plt.grid()\n",
    "plt.xlabel(\"Time (Day since 1970-01-01 00:00:00)\")\n",
    "plt.ylabel(\"m s$^{-1}$\")"
   ]
  },
  {
   "cell_type": "code",
   "execution_count": null,
   "id": "ef76ac39-0aa8-413f-85b5-10477cd6dfe5",
   "metadata": {
    "tags": []
   },
   "outputs": [],
   "source": [
    "fig = plt.figure(figsize=(12, 4))\n",
    "plt.plot(ak.obs[\"time\"][0] / 86400, ak.obs[\"ve\"][0], label=\"Zonal velocity\")\n",
    "plt.plot(ak.obs[\"time\"][0] / 86400, ak.obs[\"vn\"][0], label=\"Meridional velocity\")\n",
    "plt.legend()\n",
    "plt.grid()\n",
    "plt.xlabel(\"Time (Day since 1970-01-01 00:00:00)\")\n",
    "plt.ylabel(\"m s$^{-1}$\")"
   ]
  },
  {
   "cell_type": "code",
   "execution_count": null,
   "id": "16b083a8-27af-43e5-96a4-b78795c1d603",
   "metadata": {},
   "outputs": [],
   "source": []
  }
 ],
 "metadata": {
  "kernelspec": {
   "display_name": "Python 3 (ipykernel)",
   "language": "python",
   "name": "python3"
  },
  "language_info": {
   "codemirror_mode": {
    "name": "ipython",
    "version": 3
   },
   "file_extension": ".py",
   "mimetype": "text/x-python",
   "name": "python",
   "nbconvert_exporter": "python",
   "pygments_lexer": "ipython3",
   "version": "3.11.0"
  },
  "vscode": {
   "interpreter": {
    "hash": "51ed1a8a4b19d726e23a411b59608ec9427d5c3497f9219a586b5cd79201b8af"
   }
  }
 },
 "nbformat": 4,
 "nbformat_minor": 5
}
