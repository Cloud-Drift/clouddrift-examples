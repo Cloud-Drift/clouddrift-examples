{
 "cells": [
  {
   "cell_type": "markdown",
   "id": "6426c30b-df03-46a9-8fb7-57ddf404683e",
   "metadata": {
    "tags": []
   },
   "source": [
    "# Working with the Grand LAgrangian Deployment (GLAD) dataset by the CARTHE consortium\n",
    "\n",
    "To process the [CARTHE GLAD](http://carthe.org/glad/) dataset, we follow steps similar to the ones found in `gdp.ipynb` for the hourly GDP dataset. One main difference is that we use a new preprocessing function (`data/glad.py`) tailored to the format of the tabular text format of this dataset."
   ]
  },
  {
   "cell_type": "code",
   "execution_count": 1,
   "id": "4cca829b-f96f-4e09-bfbc-d7b2ec2d008e",
   "metadata": {
    "tags": []
   },
   "outputs": [],
   "source": [
    "from clouddrift import RaggedArray\n",
    "import numpy as np\n",
    "import matplotlib.pyplot as plt"
   ]
  },
  {
   "cell_type": "markdown",
   "id": "2aded949-7d07-47fd-b184-50574c2600ba",
   "metadata": {},
   "source": [
    "## Dataset-specific functions"
   ]
  },
  {
   "cell_type": "markdown",
   "id": "c133b096-ee61-4018-b797-d43cc9db7329",
   "metadata": {},
   "source": [
    "For this dataset, importing the glad module will automatically download `GLAD_15min_filtered.dat` from [the Gulf of Mexico Research Initiative Information and Data Cooperative (GRIIDC) repository](https://data.gulfresearchinitiative.org/data/R1.x134.073:0004) and stored it into the `data/raw/glad/` directory."
   ]
  },
  {
   "cell_type": "code",
   "execution_count": null,
   "id": "50aa29c2-5cfa-4ca7-ada3-7c3a6ec3b384",
   "metadata": {
    "tags": []
   },
   "outputs": [
    {
     "name": "stdout",
     "output_type": "stream",
     "text": [
      "Dataset GLAD_15min_filtered.dat downloaded to '../data/raw/glad/'.\n"
     ]
    }
   ],
   "source": [
    "import sys\n",
    "sys.path.append('../')\n",
    "from data import glad"
   ]
  },
  {
   "cell_type": "markdown",
   "id": "c42a0c03-fcb3-4131-af3c-e6e7bea4e833",
   "metadata": {},
   "source": [
    "We can test the preprocessing function by calling it with one of the identification numbers. This function returns an `xarray.Dataset`:"
   ]
  },
  {
   "cell_type": "code",
   "execution_count": null,
   "id": "c2db0565-359a-4538-a2b0-33c195b72d37",
   "metadata": {
    "tags": []
   },
   "outputs": [],
   "source": [
    "glad.preprocess(1)"
   ]
  },
  {
   "cell_type": "markdown",
   "id": "e35f6f75-f7fb-4ba3-814f-46e3b8cc7d34",
   "metadata": {},
   "source": [
    "Let's now prepare the data and metadata and pass it to the `RaggedArray` class to instantiate it:"
   ]
  },
  {
   "cell_type": "code",
   "execution_count": null,
   "id": "59137333-eed9-406f-8af2-e3a782fad210",
   "metadata": {
    "tags": []
   },
   "outputs": [],
   "source": [
    "files = [\n",
    "    1,   2,   3,   4,   5,   6,   7,   8,  10,  11,  12,  13,  14,\n",
    "    15,  16,  17,  18,  19,  20,  21,  22,  23,  24,  25,  26,  27,\n",
    "    28,  29,  30,  31,  32,  33,  34,  35,  36,  37,  38,  39,  40,\n",
    "    41,  42,  43,  44,  45,  46,  47,  48,  49,  50,  52,  53,  54,\n",
    "    55,  56,  57,  58,  59,  60,  61,  62,  63,  64,  65,  66,  67,\n",
    "    68,  69,  70,  71,  72,  73,  74,  75,  76,  77,  78,  79,  80,\n",
    "    83,  85,  86,  87,  88,  89,  90,  91,  92,  93,  94,  95,  96,\n",
    "    97,  98,  99, 100, 101, 102, 103, 104, 105, 106, 107, 108, 109,\n",
    "    110, 111, 112, 113, 114, 115, 116, 117, 118, 119, 120, 121, 122,\n",
    "    123, 124, 125, 126, 127, 128, 129, 130, 131, 132, 133, 134, 135,\n",
    "    136, 137, 138, 139, 140, 141, 142, 143, 144, 145, 146, 147, 148,\n",
    "    149, 150, 151, 152, 153, 154, 155, 156, 157, 158, 159, 160, 161,\n",
    "    162, 163, 164, 165, 166, 167, 168, 169, 170, 171, 172, 173, 174,\n",
    "    175, 176, 177, 178, 179, 180, 181, 182, 183, 184, 185, 186, 187,\n",
    "    188, 189, 190, 191, 192, 193, 194, 195, 196, 197, 198, 199, 200,\n",
    "    201, 202, 203, 204, 205, 206, 207, 208, 209, 210, 211, 212, 213,\n",
    "    214, 215, 216, 217, 218, 219, 220, 221, 222, 223, 224, 225, 226,\n",
    "    227, 228, 229, 230, 231, 232, 233, 234, 235, 236, 237, 238, 239,\n",
    "    240, 241, 242, 243, 244, 245, 246, 247, 248, 249, 250, 251, 252,\n",
    "    253, 255, 256, 257, 258, 259, 260, 261, 262, 263, 264, 265, 266,\n",
    "    267, 268, 269, 270, 271, 272, 273, 274, 275, 276, 277, 278, 279,\n",
    "    280, 281, 282, 283, 284, 285, 286, 287, 288, 289, 290, 301, 302,\n",
    "    303, 304, 306, 307, 308, 310, 313, 314, 315, 317, 451\n",
    "]\n",
    "\n",
    "coords = {'ids': 'ids', 'time': 'time', 'lon': 'longitude', 'lat': 'latitude'}\n",
    "metadata = ['ID', 'rowsize']\n",
    "data = ['ve', 'vn', 'err_pos', 'err_vel']\n",
    "\n",
    "ra = RaggedArray.from_files(\n",
    "    files,\n",
    "    glad.preprocess,\n",
    "    coords,\n",
    "    metadata,\n",
    "    data\n",
    ")"
   ]
  },
  {
   "cell_type": "markdown",
   "id": "00705eef-eb9b-4cdd-958d-e9afb832e7f0",
   "metadata": {},
   "source": [
    "## Export to NetCDF and Apache Parquet for storage"
   ]
  },
  {
   "cell_type": "code",
   "execution_count": null,
   "id": "f8559ecf-f0ae-440e-aac0-ff4d93d4c9d0",
   "metadata": {
    "tags": []
   },
   "outputs": [],
   "source": [
    "ra.to_parquet('../data/process/glad.parquet')\n",
    "ra.to_netcdf('../data/process/glad.nc')"
   ]
  },
  {
   "cell_type": "markdown",
   "id": "bd364b13",
   "metadata": {},
   "source": [
    "## Export to Xarray Dataset and Awkward Arrays for analysis"
   ]
  },
  {
   "cell_type": "code",
   "execution_count": null,
   "id": "3c2eaec8",
   "metadata": {
    "tags": []
   },
   "outputs": [],
   "source": [
    "ds = ra.to_xarray()"
   ]
  },
  {
   "cell_type": "code",
   "execution_count": null,
   "id": "94b3a1b3",
   "metadata": {
    "tags": []
   },
   "outputs": [],
   "source": [
    "ds"
   ]
  },
  {
   "cell_type": "code",
   "execution_count": null,
   "id": "5b185be6",
   "metadata": {
    "tags": []
   },
   "outputs": [],
   "source": [
    "ak = ra.to_awkward()"
   ]
  },
  {
   "cell_type": "code",
   "execution_count": null,
   "id": "c2258571",
   "metadata": {
    "tags": []
   },
   "outputs": [],
   "source": [
    "ak"
   ]
  },
  {
   "cell_type": "markdown",
   "id": "e417a3a5-1a8d-44eb-8b71-79d38b8213a3",
   "metadata": {},
   "source": [
    "Here we show how the entirety of trajectories of the GLAD dataset can be plotted from either the *xarray Dataset* representation of the data (`ds`) or the *Awkward Array* representation of the data (`ak`). In both instances, we use a loop over each trajectory but for the xarray instance we first need to find the data indices of each single trajectory:"
   ]
  },
  {
   "cell_type": "code",
   "execution_count": null,
   "id": "12d3ad64-cfac-4719-a848-5524cc57a7e8",
   "metadata": {
    "tags": []
   },
   "outputs": [],
   "source": [
    "for id in files:\n",
    "    this_drifter = ds.ids == id\n",
    "    plt.plot(ds.lon[this_drifter], ds.lat[this_drifter], linestyle='', marker='.', ms=0.1)\n",
    "plt.xlabel('Longitude')\n",
    "plt.ylabel('Latitude')\n",
    "plt.title('100 random trajectories from the hourly GDP dataset')"
   ]
  },
  {
   "cell_type": "markdown",
   "id": "2717bb70-a8b3-4651-93e6-9abade8ce8d6",
   "metadata": {},
   "source": [
    "In contrast, for the awkward array, we simply need to loop over the trajectory indices:"
   ]
  },
  {
   "cell_type": "code",
   "execution_count": null,
   "id": "092205e2-4f60-44f4-826b-89bff4954c22",
   "metadata": {
    "tags": []
   },
   "outputs": [],
   "source": [
    "for n in range(len(files)):\n",
    "    plt.plot(ak.obs['lon'][n], ak.obs['lat'][n], linestyle='', marker='.', ms=0.1)\n",
    "    plt.xlabel('Longitude')\n",
    "plt.ylabel('Latitude')\n",
    "plt.title('100 random trajectories from the hourly GDP dataset')"
   ]
  },
  {
   "cell_type": "markdown",
   "id": "43556cb0-27d6-4469-9aac-fb69ecb0f253",
   "metadata": {},
   "source": [
    "Next we simply show how to plot the time series of velocity components using either the *xarray* or *awkward array* instances:"
   ]
  },
  {
   "cell_type": "code",
   "execution_count": null,
   "id": "20a58175-f3ca-4613-9020-0b2b4c49800a",
   "metadata": {
    "tags": []
   },
   "outputs": [],
   "source": [
    "fig = plt.figure(figsize=(12, 4))\n",
    "plt.plot(ds.time[ds.ids==1], ds.ve[ds.ids==1], label='Zonal velocity')\n",
    "plt.plot(ds.time[ds.ids==1], ds.vn[ds.ids==1], label='Meridional velocity')\n",
    "plt.legend()\n",
    "plt.grid()\n",
    "plt.xlabel('Time (Day since 1970-01-01 00:00:00)')\n",
    "plt.ylabel('m s$^{-1}$')"
   ]
  },
  {
   "cell_type": "code",
   "execution_count": null,
   "id": "ef76ac39-0aa8-413f-85b5-10477cd6dfe5",
   "metadata": {
    "tags": []
   },
   "outputs": [],
   "source": [
    "fig = plt.figure(figsize=(12, 4))\n",
    "plt.plot(ak.obs['time'][0]/86400, ak.obs['ve'][0], label='Zonal velocity')\n",
    "plt.plot(ak.obs['time'][0]/86400, ak.obs['vn'][0], label='Meridional velocity')\n",
    "plt.legend()\n",
    "plt.grid()\n",
    "plt.xlabel('Time (Day since 1970-01-01 00:00:00)')\n",
    "plt.ylabel('m s$^{-1}$')"
   ]
  },
  {
   "cell_type": "code",
   "execution_count": null,
   "id": "16b083a8-27af-43e5-96a4-b78795c1d603",
   "metadata": {},
   "outputs": [],
   "source": []
  }
 ],
 "metadata": {
  "kernelspec": {
   "display_name": "Python 3 (ipykernel)",
   "language": "python",
   "name": "python3"
  },
  "language_info": {
   "codemirror_mode": {
    "name": "ipython",
    "version": 3
   },
   "file_extension": ".py",
   "mimetype": "text/x-python",
   "name": "python",
   "nbconvert_exporter": "python",
   "pygments_lexer": "ipython3",
   "version": "3.11.0"
  },
  "vscode": {
   "interpreter": {
    "hash": "51ed1a8a4b19d726e23a411b59608ec9427d5c3497f9219a586b5cd79201b8af"
   }
  }
 },
 "nbformat": 4,
 "nbformat_minor": 5
}
